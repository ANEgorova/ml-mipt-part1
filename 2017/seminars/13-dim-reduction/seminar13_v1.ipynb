{
 "cells": [
  {
   "cell_type": "markdown",
   "metadata": {
    "deletable": true,
    "editable": true
   },
   "source": [
    "# Модуль: Unsupervised Learning\n",
    "\n",
    "<span style=\"font-size: 14pt\">ФИВТ, АПТ, Курс по машинному обучению, Весна 2017, семинар 13 </span>\n",
    "\n",
    "<span style=\"color:blue; font-size: 12pt\">Alexey Romanenko, </span>\n",
    "<span style=\"color:blue; font-size: 12pt; font-family: 'Verdana'\">alexromsput@gmail.com</span>"
   ]
  },
  {
   "cell_type": "markdown",
   "metadata": {
    "deletable": true,
    "editable": true
   },
   "source": [
    "# Методы сжатия размерности\n",
    "<h3> Plan </h3>\n",
    "\n",
    "* ** Напоминание лекции ** \n",
    " - Пространство признаков: проблемы при большой размерности d\n",
    " - Мультиколлинеарность\n",
    "\n",
    "\n",
    "* **PCA, SVD**\n",
    " - Разложение матриц: SVD и PCA\n",
    " - Применение PCA для регрессии\n",
    " - Применение PCA для задачи классификации\n",
    "  \n",
    "* **tSNE**\n",
    " - Идея tSNE\n",
    " - tSNE для MNIST"
   ]
  },
  {
   "cell_type": "code",
   "execution_count": 3,
   "metadata": {
    "collapsed": false,
    "deletable": true,
    "editable": true
   },
   "outputs": [],
   "source": [
    "import os\n",
    "import time\n",
    "import warnings\n",
    "import datetime\n",
    "import numpy as np\n",
    "import pandas as pd\n",
    "import random as rnd\n",
    "import seaborn as sns\n",
    "from sklearn.metrics import accuracy_score\n",
    "from matplotlib.colors import ListedColormap\n",
    "from sklearn.neighbors import NearestNeighbors, KNeighborsClassifier\n",
    "\n",
    "import pylab\n",
    "\n",
    "from matplotlib import pyplot\n",
    "from matplotlib.colors import ListedColormap\n",
    "from sklearn.preprocessing import StandardScaler\n",
    "from sklearn.datasets import make_moons, make_circles, make_classification\n",
    "\n",
    "sns.set_context(\"notebook\", font_scale=1.5)\n",
    "import random\n",
    "from IPython.display import Image, SVG\n",
    "\n",
    "%matplotlib inline"
   ]
  },
  {
   "cell_type": "markdown",
   "metadata": {
    "deletable": true,
    "editable": true
   },
   "source": [
    "<h1 align=\"center\"> Напоминание с лекции </h1>\n",
    "** Вопросы **\n",
    "* Что такое обучение без учителя?\n",
    "* Какие проблемы возникают при обучении алгоритмов из-за большой размерности пространства признаков?\n",
    "* Что такое проблема мультиколлинеарности?\n",
    "* Какие пути решения проблемы мультиколлинеарности вы знаете?"
   ]
  },
  {
   "cell_type": "markdown",
   "metadata": {
    "deletable": true,
    "editable": true
   },
   "source": [
    "### Мультиколлинеарность\n",
    "\n",
    "## $$ g(x, \\alpha) = \\sum_{i}^{n} \\alpha_i f_i(x) $$\n",
    "## $$ Q(\\alpha) = \\| F\\alpha - y \\|^2 $$\n",
    "\n",
    "Solution\n",
    "\n",
    "## $$ \\alpha^{*} = (F^{T}F)^{-1}F^{T}y = F^{+}y $$\n",
    "## $$ Q(\\alpha^{*}) = \\| P_{F}y - y \\|^2 $$\n",
    "## $$ P_{F} = FF^{+} $$"
   ]
  },
  {
   "cell_type": "markdown",
   "metadata": {
    "deletable": true,
    "editable": true
   },
   "source": [
    "See <a href='http://www.machinelearning.ru/wiki/images/6/6d/Voron-ML-1.pdf'> К.В. Воронцов, Методы машинного обучения по прецедентам </a>\n",
    "* глава 5.3 Линейная регрессия"
   ]
  },
  {
   "cell_type": "markdown",
   "metadata": {
    "deletable": true,
    "editable": true
   },
   "source": [
    "### Мультиколлинеарность\n",
    "#### Пример"
   ]
  },
  {
   "cell_type": "code",
   "execution_count": 4,
   "metadata": {
    "collapsed": true,
    "deletable": true,
    "editable": true
   },
   "outputs": [],
   "source": [
    "from numpy.linalg import inv, norm, eigvals, svd\n",
    "from scipy import diag\n",
    "from scipy.optimize import fmin\n",
    "from sklearn.datasets import make_regression"
   ]
  },
  {
   "cell_type": "code",
   "execution_count": 5,
   "metadata": {
    "collapsed": false,
    "deletable": true,
    "editable": true
   },
   "outputs": [],
   "source": [
    "### Linear Regression\n",
    "d = 100\n",
    "X, Y = make_regression(n_samples=200, n_features=d, effective_rank=1, noise=0)"
   ]
  },
  {
   "cell_type": "code",
   "execution_count": 6,
   "metadata": {
    "collapsed": false,
    "deletable": true,
    "editable": true
   },
   "outputs": [
    {
     "data": {
      "text/plain": [
       "<matplotlib.collections.PathCollection at 0x7f03c0369410>"
      ]
     },
     "execution_count": 6,
     "metadata": {},
     "output_type": "execute_result"
    },
    {
     "data": {
      "image/png": "[encoded data removed]",
      "text/plain": [
       "<matplotlib.figure.Figure at 0x7f03c323cb10>"
      ]
     },
     "metadata": {},
     "output_type": "display_data"
    }
   ],
   "source": [
    "pylab.scatter(X[:, 0], Y, c=\"green\")\n",
    "pylab.scatter(X[:, 1], Y, c=\"red\")"
   ]
  },
  {
   "cell_type": "code",
   "execution_count": 7,
   "metadata": {
    "collapsed": false,
    "deletable": true,
    "editable": true
   },
   "outputs": [
    {
     "name": "stdout",
     "output_type": "stream",
     "text": [
      "Alpha: [  1.98206953e-06  -1.14986869e-06  -4.50573134e-06   8.58057319e-07\n",
      "   8.34135790e-07   9.34998843e-06  -2.84782209e-06   8.95228368e-07\n",
      "   4.12787813e-07   1.36395374e-06   7.81496055e-07   4.45861679e-06\n",
      "  -7.82021743e-07   1.33176036e-06   2.74551167e-06  -9.93639333e-07\n",
      "   9.81483026e-07  -2.69888733e-06   2.04859498e-06   2.54557926e-06\n",
      "   5.40513835e+01   2.93454468e-06  -9.96649760e-07  -9.89337423e-07\n",
      "  -5.93059667e-07  -3.94964445e-07  -2.55363830e-07   2.25652411e-06\n",
      "   1.47495803e-06   3.44245564e-07  -6.59688340e-07   2.79620872e-06\n",
      "  -8.19645720e-07   3.60880824e+01   1.27482053e-06  -3.42229578e-06\n",
      "   9.43257879e+01   5.50035250e+01  -6.12616532e-07   1.33678077e-06\n",
      "   9.36904793e+01   5.39483153e-07   6.23922610e-07   1.77329093e-06\n",
      "   9.12813287e+01   1.32742571e-07  -4.15489922e-07   7.92116452e-08\n",
      "  -3.42366548e-07  -6.27795089e-07  -1.50950473e-06  -4.34245521e-07\n",
      "  -7.69366125e-07  -2.11927909e-06  -2.20607035e-08  -6.04639354e-07\n",
      "  -5.45001967e-07   1.95814161e+01   1.33533376e-07  -5.65363734e-07\n",
      "  -1.17100808e-06  -6.05032255e-08  -2.13409180e-07   6.14845703e-07\n",
      "   6.55523763e-07   4.28502062e-07   2.25292752e-07  -8.10301572e-07\n",
      "  -2.69210432e-07   2.44346666e-06   2.48131983e-07   2.28304089e-07\n",
      "   3.70946509e-07   4.51526830e-07  -1.32527930e-07   4.51125310e-07\n",
      "  -8.04193405e-08   7.05513230e-07   5.13097802e-07   1.55760063e-07\n",
      "  -4.78202764e-07   4.92733307e-07   1.72043656e-07   6.43683961e-07\n",
      "  -1.32411969e-07   2.87422154e-07   2.48921424e-07   3.28350224e+01\n",
      "  -2.30327714e-07   2.72166776e+01   1.81197720e-07   3.83396582e-07\n",
      "  -1.01066689e-07   8.14567407e+01  -1.27085514e-07  -4.95760105e-07\n",
      "   3.01531145e-07   2.64577466e-07  -5.40305336e-07   4.70821760e-07]\n",
      "Q: 2.78308627755e-07\n"
     ]
    }
   ],
   "source": [
    "F_plus = np.dot(inv(np.dot(X.T, X)), X.T)\n",
    "alpha = np.dot(F_plus, Y)\n",
    "print \"Alpha:\", alpha\n",
    "print \"Q:\", norm(np.dot(X, alpha) - Y)"
   ]
  },
  {
   "cell_type": "markdown",
   "metadata": {
    "deletable": true,
    "editable": true
   },
   "source": [
    "### Problem: Condition Number"
   ]
  },
  {
   "cell_type": "code",
   "execution_count": 8,
   "metadata": {
    "collapsed": false,
    "deletable": true,
    "editable": true
   },
   "outputs": [
    {
     "name": "stdout",
     "output_type": "stream",
     "text": [
      "('cond_number:', 1588878657.6365509)\n"
     ]
    }
   ],
   "source": [
    "eigen_values = eigvals(np.dot(X.T, X))\n",
    "# print eigen_values\n",
    "\n",
    "print  ('cond_number:', eigen_values.max() / eigen_values.min())"
   ]
  },
  {
   "cell_type": "markdown",
   "metadata": {
    "deletable": true,
    "editable": true
   },
   "source": [
    "**Замечание:** Число обусловленности матрицы не должно превышать 10^2\n",
    "\n",
    "** Вопрос: ** что происходит с числом обусловленности матрицы регрессии, когда добавляется регуляризатор? "
   ]
  },
  {
   "cell_type": "markdown",
   "metadata": {
    "deletable": true,
    "editable": true
   },
   "source": [
    "---------\n",
    "<h1 align=\"center\"> PCA, SVD "
   ]
  },
  {
   "cell_type": "markdown",
   "metadata": {
    "deletable": true,
    "editable": true
   },
   "source": [
    "## Задача PCA"
   ]
  },
  {
   "cell_type": "markdown",
   "metadata": {
    "deletable": true,
    "editable": true
   },
   "source": [
    "#### PCA\n",
    "\n",
    "## $$ \\| G U^{T} - F \\|^2 \\to \\min_{G, U} $$\n",
    "\n",
    "$$ dim F = (\\ell \\times n),~~~ dim G = (\\ell \\times m),~~~ dim U = (n\\times m) $$ \n",
    "---------\n",
    "<img src=\"pic/fig_pca_PCA.png\" width=\"600\">"
   ]
  },
  {
   "cell_type": "markdown",
   "metadata": {
    "deletable": true,
    "editable": true
   },
   "source": [
    "#### SVD\n",
    "\n",
    "## $$ F = V D U^{T} $$\n",
    "\n",
    "\n",
    "## $$ F^{+} = U D^{-1} V^{T} $$"
   ]
  },
  {
   "cell_type": "markdown",
   "metadata": {
    "deletable": true,
    "editable": true
   },
   "source": [
    "**Воспрос**: Как связаны решение задачи PCA и SVD? \n",
    "\n",
    "Если $m = n$, тогда \n",
    "## $$ F = G U^{T} = V D U^{T} $$\n",
    "\n",
    "Если $m\\geq rank(F)$\n",
    "\n",
    "**Воспрос**: Как связаны собственные числа $\\lambda_1,\\dots, \\lambda_m$, отвечающие главным компонентам, и ошибка приближения матрицы признаков (explained variance) \n",
    "## $$\\| G U^{T} - F \\|^2 ?$$"
   ]
  },
  {
   "cell_type": "code",
   "execution_count": 9,
   "metadata": {
    "collapsed": true,
    "deletable": true,
    "editable": true
   },
   "outputs": [],
   "source": [
    "# U --> already transposed (U^T)\n",
    "V, D, U = svd(X, full_matrices=False)"
   ]
  },
  {
   "cell_type": "markdown",
   "metadata": {
    "deletable": true,
    "editable": true
   },
   "source": [
    "#### Compare eigen values"
   ]
  },
  {
   "cell_type": "code",
   "execution_count": 10,
   "metadata": {
    "collapsed": false,
    "deletable": true,
    "editable": true
   },
   "outputs": [
    {
     "name": "stdout",
     "output_type": "stream",
     "text": [
      "(200, 100) (200, 100) (100,) (100, 100)\n"
     ]
    }
   ],
   "source": [
    "# Разберёмся с размерностями матриц\n",
    "print X.shape, V.shape, D.shape, U.shape"
   ]
  },
  {
   "cell_type": "code",
   "execution_count": 11,
   "metadata": {
    "collapsed": false,
    "deletable": true,
    "editable": true
   },
   "outputs": [
    {
     "name": "stdout",
     "output_type": "stream",
     "text": [
      "8.79559122982e-15\n",
      "eigen values: [  1.00000000e+00   4.04952051e-01   1.75161666e-01   1.37248625e-01\n",
      "   1.12332279e-01   9.19698603e-02   7.52985530e-02   6.16492410e-02\n",
      "   5.04741295e-02   4.13247221e-02   3.38338208e-02   2.77007896e-02\n",
      "   2.26794883e-02   1.85683946e-02   1.52025157e-02   1.24467671e-02\n",
      "   1.01905510e-02   8.34331749e-03   6.83093061e-03   5.59269296e-03\n",
      "   4.57890972e-03   3.74889421e-03   3.06933498e-03   2.51295894e-03\n",
      "   2.05743676e-03   1.68448675e-03   1.37914111e-03   1.12914524e-03\n",
      "   9.24465929e-04   7.56888686e-04   6.19688044e-04   5.07357659e-04\n",
      "   4.15389318e-04   3.40092009e-04   2.78443787e-04   2.27970491e-04\n",
      "   1.86646452e-04   1.52813190e-04   1.25112858e-04   1.02433745e-04\n",
      "   8.38656570e-05   6.86633925e-05   5.62168310e-05   4.60264484e-05\n",
      "   3.76832688e-05   3.08524510e-05   2.52598505e-05   2.06810164e-05\n",
      "   1.69321841e-05   1.38628999e-05   1.13499824e-05   9.29257967e-06\n",
      "   7.60812075e-06   6.22900243e-06   5.09987585e-06   4.17542520e-06\n",
      "   3.41854902e-06   2.79887121e-06   2.29152193e-06   1.87613948e-06\n",
      "   1.53605309e-06   1.25761390e-06   1.02964718e-06   8.43003809e-07\n",
      "   6.90193143e-07   5.65082352e-07   4.62650299e-07   3.78786028e-07\n",
      "   3.10123770e-07   2.53907868e-07   2.07882180e-07   1.70199534e-07\n",
      "   1.39347592e-07   1.14088159e-07   9.34074845e-08   7.64755801e-08\n",
      "   6.26129093e-08   5.12631144e-08   4.19706882e-08   3.43626932e-08\n",
      "   2.81337937e-08   2.30340021e-08   1.88586459e-08   1.54401533e-08\n",
      "   1.26413284e-08   1.03498443e-08   8.47373582e-09   6.93770811e-09\n",
      "   5.68011498e-09   4.65048482e-09   3.80749494e-09   3.11731320e-09\n",
      "   2.55224018e-09   2.08959753e-09   1.71081776e-09   1.40069911e-09\n",
      "   1.14679544e-09   9.38916691e-10   7.68719970e-10   6.29374680e-10]\n",
      "difference: [ -8.88178420e-16   5.55111512e-17  -9.43689571e-16  -7.49400542e-16\n",
      "   8.32667268e-17   2.77555756e-17  -2.49800181e-16  -1.17961196e-16\n",
      "  -1.52655666e-16  -1.04083409e-16  -6.93889390e-17  -3.46944695e-18\n",
      "  -1.11022302e-16  -1.04083409e-17  -2.77555756e-17   3.64291930e-17\n",
      "  -6.93889390e-18  -2.94902991e-17   5.20417043e-18  -1.73472348e-18\n",
      "   5.20417043e-18  -2.29850861e-17  -6.07153217e-18  -8.23993651e-18\n",
      "   5.20417043e-18   1.30104261e-17   2.60208521e-18  -1.71303943e-17\n",
      "  -7.69783542e-18  -3.25260652e-19   7.58941521e-18  -4.01154804e-18\n",
      "  -5.14996032e-18   5.63785130e-18  -3.79470760e-19  -3.06287114e-18\n",
      "  -1.24683250e-18  -9.13440330e-18   1.84314369e-18   2.58853269e-18\n",
      "  -3.69983991e-18   6.30192513e-18   3.36102673e-18   1.28749008e-19\n",
      "  -1.23734573e-17   1.33289105e-17  -2.67323598e-18   5.97666448e-18\n",
      "  -6.74577039e-18   5.33291944e-18   2.22261445e-18  -2.67662411e-19\n",
      "   3.28394674e-18   6.50606007e-18  -6.75847589e-18   1.27859623e-17\n",
      "   3.50841047e-18   5.25541592e-18   2.83163114e-18  -6.94715248e-18\n",
      "  -1.36480301e-17   3.33730981e-19   9.03148880e-18  -8.11341096e-18\n",
      "  -1.36604180e-17  -2.04219644e-18   4.75603706e-18  -6.67149619e-18\n",
      "  -1.49527785e-18  -1.38839288e-18   1.47464730e-17  -2.10688858e-18\n",
      "   4.06311117e-18  -2.97211950e-18   3.98343713e-18  -8.17884426e-18\n",
      "  -8.55345782e-18  -5.68149996e-18  -8.22326717e-18   6.09424985e-18\n",
      "  -1.16365452e-18   2.63496399e-18   1.46217408e-18   2.85502381e-18\n",
      "  -3.50338783e-18  -2.16309715e-18  -7.31982877e-18  -7.34129825e-18\n",
      "   3.29264040e-18   3.71716521e-18  -3.28072900e-18  -5.06475286e-18\n",
      "   6.13293254e-18  -8.37869482e-18  -7.10820268e-18   2.04034376e-18\n",
      "  -1.32604683e-17  -1.41093533e-17  -4.71336478e-18  -2.21182854e-18]\n"
     ]
    }
   ],
   "source": [
    "# Ошибка приближения (retained variance) и её связь собственными значениями\n",
    "print norm(np.dot(np.dot(V, diag(D)), U) - X)\n",
    "print \"eigen values:\", np.diagonal(np.dot(diag(D), diag(D)))\n",
    "print \"difference:\", np.diagonal(np.dot(diag(D), diag(D))) - eigen_values[list(reversed(list(eigen_values.argsort())))]"
   ]
  },
  {
   "cell_type": "markdown",
   "metadata": {
    "deletable": true,
    "editable": true
   },
   "source": [
    "#### Linear Regression Solution over SVD decomposition"
   ]
  },
  {
   "cell_type": "code",
   "execution_count": 12,
   "metadata": {
    "collapsed": false,
    "deletable": true,
    "editable": true
   },
   "outputs": [
    {
     "name": "stdout",
     "output_type": "stream",
     "text": [
      "[  2.27373675e-12   1.27329258e-11  -1.81898940e-12   2.18278728e-11\n",
      "  -1.09139364e-11   0.00000000e+00   1.04591891e-11   3.27418093e-11\n",
      "  -9.09494702e-12   4.54747351e-12  -7.27595761e-12  -1.00044417e-11\n",
      "   1.18234311e-11  -1.81898940e-12  -5.45696821e-12   1.81898940e-11\n",
      "  -2.91038305e-11  -1.81898940e-12   9.09494702e-12  -4.54747351e-12\n",
      "   5.40513750e+01   2.91038305e-11   0.00000000e+00  -7.27595761e-12\n",
      "   5.45696821e-12  -5.45696821e-12   6.36646291e-12   1.52340363e-11\n",
      "   7.27595761e-12  -7.27595761e-12  -1.81898940e-11  -1.27329258e-11\n",
      "  -7.27595761e-12   3.60880825e+01   1.45519152e-11   1.09139364e-11\n",
      "   9.43257875e+01   5.50035247e+01   8.18545232e-12   5.45696821e-12\n",
      "   9.36904824e+01  -7.27595761e-12  -2.38031816e-12   1.09139364e-11\n",
      "   9.12813302e+01   0.00000000e+00  -8.18545232e-12   1.66586744e-11\n",
      "   6.36646291e-12  -7.27595761e-12   5.45696821e-12   1.27329258e-11\n",
      "   1.36424205e-11   9.09494702e-12   1.81898940e-12  -3.63797881e-12\n",
      "  -9.09494702e-12   1.95814150e+01  -1.36424205e-12   5.45696821e-12\n",
      "   1.18234311e-11   0.00000000e+00   7.73070497e-12   6.36646291e-12\n",
      "  -4.54747351e-13  -7.27595761e-12  -1.81898940e-11  -7.27595761e-12\n",
      "   2.18278728e-11   3.09228199e-11   1.81898940e-12  -7.27595761e-12\n",
      "   1.81898940e-11   8.18545232e-12  -9.09494702e-12  -1.05160325e-12\n",
      "   5.45696821e-12   2.18278728e-11   1.00044417e-11  -7.27595761e-12\n",
      "  -1.04591891e-11   1.81898940e-12  -3.63797881e-12   0.00000000e+00\n",
      "  -5.00222086e-12  -1.81898940e-12   1.63709046e-11   3.28350225e+01\n",
      "   5.45696821e-12   2.72166777e+01   1.63709046e-11   1.72803993e-11\n",
      "  -2.54658516e-11   8.14567410e+01  -7.27595761e-12   2.72848411e-12\n",
      "  -1.00044417e-11  -3.63797881e-12   1.45519152e-11   9.09494702e-12]\n",
      "SSE:  1.11582283786e-11\n"
     ]
    }
   ],
   "source": [
    "V, d, U = svd(X, full_matrices=False)\n",
    "D_inv = diag(1 / d)\n",
    "D = diag(d)\n",
    "\n",
    "F_svd_plus = np.dot(U.T, np.dot(D_inv, V.T))\n",
    "alpha_svd = np.dot(F_svd_plus, Y)\n",
    "print alpha_svd\n",
    "print 'SSE: ', norm(np.dot(X, alpha_svd) - Y)"
   ]
  },
  {
   "cell_type": "markdown",
   "metadata": {
    "deletable": true,
    "editable": true
   },
   "source": [
    "#### Truncated SVD"
   ]
  },
  {
   "cell_type": "code",
   "execution_count": 13,
   "metadata": {
    "collapsed": false,
    "deletable": true,
    "editable": true
   },
   "outputs": [
    {
     "name": "stdout",
     "output_type": "stream",
     "text": [
      "Truncated D:\n",
      "[[ 1.  0.  0. ...,  0.  0.  0.]\n",
      " [ 0.  0.  0. ...,  0.  0.  0.]\n",
      " [ 0.  0.  0. ...,  0.  0.  0.]\n",
      " ..., \n",
      " [ 0.  0.  0. ...,  0.  0.  0.]\n",
      " [ 0.  0.  0. ...,  0.  0.  0.]\n",
      " [ 0.  0.  0. ...,  0.  0.  0.]]\n",
      "\n",
      "[ -4.08340653e+00   2.35752371e+00  -3.47392610e-01   1.98606596e+00\n",
      "  -2.09225161e+00   1.35026293e+00  -2.99459203e+00  -1.10378237e+00\n",
      "  -7.40731601e-01  -1.34258946e+00  -6.51804989e-02  -2.88005422e+00\n",
      "  -1.73359737e+00   1.26311049e+00  -2.45989204e-01  -1.19368668e+00\n",
      "   1.08446151e+00  -1.98659521e+00  -3.38173805e+00  -1.21128245e+00\n",
      "   5.89571609e-01  -9.46291112e-01  -5.09333577e-01   5.28325883e+00\n",
      "  -5.02438169e-01   9.67527621e-01  -1.59786208e+00  -6.62086088e-01\n",
      "   9.48767022e-01  -2.47169715e-01   1.72015065e+00   1.02335806e+00\n",
      "   9.67417756e-01   1.78917782e+00  -1.61414730e+00   6.59637249e-01\n",
      "   1.82650874e-01  -1.25375784e+00  -1.02235426e+00  -5.70415609e-02\n",
      "   1.51462367e-01  -7.53297152e-02  -2.60090430e+00   1.99802720e+00\n",
      "   2.36381127e+00  -2.11551153e+00   2.53899005e+00   3.75242891e+00\n",
      "  -2.50394642e+00  -3.74655477e-01  -1.98317058e+00   1.76643070e-01\n",
      "   1.73010097e-03  -7.05555277e-01   2.91824845e+00   1.16943219e+00\n",
      "   2.92996575e+00   2.86903028e+00   1.39294089e+00  -1.27025928e+00\n",
      "  -1.96112697e-02   5.86575201e-01  -1.17381350e+00   1.17758198e+00\n",
      "  -2.03653411e+00   1.38894852e+00  -3.66040699e+00  -1.19429943e+00\n",
      "  -2.19598048e+00   2.46286242e+00   9.53440325e-01  -6.77976475e-01\n",
      "  -4.60608857e-01  -2.26684803e-01  -4.83088523e+00   3.86780413e+00\n",
      "   2.18036757e-01  -6.96190200e-01  -1.61659870e+00   1.03585315e-01\n",
      "   1.76274706e+00   4.18877656e-01   1.59925691e-01  -6.79673105e-01\n",
      "  -4.56809083e+00   5.15882006e+00   3.51793014e+00   2.23360631e+00\n",
      "   1.76295662e+00  -1.57910562e+00   1.44159592e+00  -8.11390166e-01\n",
      "   7.03354314e-01   3.54761208e-01   3.80428914e+00   2.72026894e+00\n",
      "   1.72051350e+00  -7.22869352e-01   1.31801388e-01   9.11832175e-01]\n",
      "25.4266567681\n"
     ]
    }
   ],
   "source": [
    "V, d, U = svd(X, full_matrices=False)\n",
    "D_inv = diag([[(1 / d)[0]]+ [0.0]*(len(d)-1)][0])\n",
    "D = diag([[d[0]]+ [0.0]*(len(d)-1)][0])\n",
    "\n",
    "print \"Truncated D:\"\n",
    "print D\n",
    "print\n",
    "\n",
    "# print \"SVD approximation norm:\", norm(np.dot(np.dot(V, D), U) - X)\n",
    "\n",
    "F_svd_plus = np.dot(U.T, np.dot(D_inv, V.T))\n",
    "alpha_svd = np.dot(F_svd_plus, Y)\n",
    "print alpha_svd\n",
    "print norm(np.dot(X, alpha_svd) - Y)"
   ]
  },
  {
   "cell_type": "markdown",
   "metadata": {
    "deletable": true,
    "editable": true
   },
   "source": [
    "## PCA for Classifiaction"
   ]
  },
  {
   "cell_type": "code",
   "execution_count": 16,
   "metadata": {
    "collapsed": false,
    "deletable": true,
    "editable": true
   },
   "outputs": [],
   "source": [
    "from sklearn.svm import SVC\n",
    "from sklearn.decomposition import PCA\n",
    "from sklearn.pipeline import Pipeline\n",
    "from sklearn.model_selection import ShuffleSplit, cross_val_score\n",
    "from sklearn.model_selection import train_test_split\n",
    "\n",
    "from sklearn.datasets import load_digits\n",
    "X, y = load_digits(return_X_y=True)\n",
    "X_train, X_test, Y_train, Y_test = train_test_split(X, y, train_size=0.7)"
   ]
  },
  {
   "cell_type": "code",
   "execution_count": 17,
   "metadata": {
    "collapsed": false,
    "deletable": true,
    "editable": true
   },
   "outputs": [
    {
     "name": "stdout",
     "output_type": "stream",
     "text": [
      "SVM: 0.977777777778\n",
      "PCA+SVM: 0.960888888889\n"
     ]
    }
   ],
   "source": [
    "from sklearn.datasets import load_iris\n",
    "\n",
    "iris = load_iris()\n",
    "\n",
    "cv_strategy = ShuffleSplit(iris.data.shape[0], random_state=33, test_size=0.1)\n",
    "\n",
    "estimator = Pipeline([\n",
    "    ('reduce_dim', PCA(n_components=2)),\n",
    "    ('svm', SVC(kernel=\"linear\")),\n",
    "])\n",
    "print \"SVM:\", cross_val_score(SVC(kernel=\"linear\"), iris.data, iris.target, scoring='accuracy', cv=cv_strategy).mean()\n",
    "print \"PCA+SVM:\", cross_val_score(estimator, iris.data, iris.target, scoring='accuracy', cv=cv_strategy).mean()"
   ]
  },
  {
   "cell_type": "code",
   "execution_count": 18,
   "metadata": {
    "collapsed": false,
    "deletable": true,
    "editable": true
   },
   "outputs": [
    {
     "name": "stdout",
     "output_type": "stream",
     "text": [
      "0.978739256786 0.00715921990332\n"
     ]
    },
    {
     "ename": "KeyboardInterrupt",
     "evalue": "",
     "output_type": "error",
     "traceback": [
      "\u001b[0;31m---------------------------------------------------------------------------\u001b[0m",
      "\u001b[0;31mKeyboardInterrupt\u001b[0m                         Traceback (most recent call last)",
      "\u001b[0;32m<ipython-input-18-856664e7d6b6>\u001b[0m in \u001b[0;36m<module>\u001b[0;34m()\u001b[0m\n\u001b[1;32m     11\u001b[0m \u001b[0;34m\u001b[0m\u001b[0m\n\u001b[1;32m     12\u001b[0m \u001b[0;32mfor\u001b[0m \u001b[0mestimator_\u001b[0m \u001b[0;32min\u001b[0m \u001b[0;34m[\u001b[0m\u001b[0mSVC\u001b[0m\u001b[0;34m(\u001b[0m\u001b[0mkernel\u001b[0m\u001b[0;34m=\u001b[0m\u001b[0;34m\"linear\"\u001b[0m\u001b[0;34m)\u001b[0m\u001b[0;34m,\u001b[0m \u001b[0mestimator\u001b[0m\u001b[0;34m]\u001b[0m\u001b[0;34m:\u001b[0m\u001b[0;34m\u001b[0m\u001b[0m\n\u001b[0;32m---> 13\u001b[0;31m     \u001b[0mscoring\u001b[0m \u001b[0;34m=\u001b[0m \u001b[0mcross_val_score\u001b[0m\u001b[0;34m(\u001b[0m\u001b[0mestimator_\u001b[0m\u001b[0;34m,\u001b[0m \u001b[0mdigits\u001b[0m\u001b[0;34m.\u001b[0m\u001b[0mdata\u001b[0m\u001b[0;34m,\u001b[0m \u001b[0mdigits\u001b[0m\u001b[0;34m.\u001b[0m\u001b[0mtarget\u001b[0m\u001b[0;34m,\u001b[0m \u001b[0mscoring\u001b[0m\u001b[0;34m=\u001b[0m\u001b[0;34m'accuracy'\u001b[0m\u001b[0;34m,\u001b[0m \u001b[0mcv\u001b[0m\u001b[0;34m=\u001b[0m\u001b[0mcv_strategy\u001b[0m\u001b[0;34m)\u001b[0m\u001b[0;34m\u001b[0m\u001b[0m\n\u001b[0m\u001b[1;32m     14\u001b[0m     \u001b[0;32mprint\u001b[0m \u001b[0mscoring\u001b[0m\u001b[0;34m.\u001b[0m\u001b[0mmean\u001b[0m\u001b[0;34m(\u001b[0m\u001b[0;34m)\u001b[0m\u001b[0;34m,\u001b[0m \u001b[0mscoring\u001b[0m\u001b[0;34m.\u001b[0m\u001b[0mstd\u001b[0m\u001b[0;34m(\u001b[0m\u001b[0;34m)\u001b[0m\u001b[0;34m\u001b[0m\u001b[0m\n",
      "\u001b[0;32m/usr/local/lib/python2.7/dist-packages/sklearn/model_selection/_validation.pyc\u001b[0m in \u001b[0;36mcross_val_score\u001b[0;34m(estimator, X, y, groups, scoring, cv, n_jobs, verbose, fit_params, pre_dispatch)\u001b[0m\n\u001b[1;32m    138\u001b[0m                                               \u001b[0mtrain\u001b[0m\u001b[0;34m,\u001b[0m \u001b[0mtest\u001b[0m\u001b[0;34m,\u001b[0m \u001b[0mverbose\u001b[0m\u001b[0;34m,\u001b[0m \u001b[0mNone\u001b[0m\u001b[0;34m,\u001b[0m\u001b[0;34m\u001b[0m\u001b[0m\n\u001b[1;32m    139\u001b[0m                                               fit_params)\n\u001b[0;32m--> 140\u001b[0;31m                       for train, test in cv_iter)\n\u001b[0m\u001b[1;32m    141\u001b[0m     \u001b[0;32mreturn\u001b[0m \u001b[0mnp\u001b[0m\u001b[0;34m.\u001b[0m\u001b[0marray\u001b[0m\u001b[0;34m(\u001b[0m\u001b[0mscores\u001b[0m\u001b[0;34m)\u001b[0m\u001b[0;34m[\u001b[0m\u001b[0;34m:\u001b[0m\u001b[0;34m,\u001b[0m \u001b[0;36m0\u001b[0m\u001b[0;34m]\u001b[0m\u001b[0;34m\u001b[0m\u001b[0m\n\u001b[1;32m    142\u001b[0m \u001b[0;34m\u001b[0m\u001b[0m\n",
      "\u001b[0;32m/usr/local/lib/python2.7/dist-packages/sklearn/externals/joblib/parallel.pyc\u001b[0m in \u001b[0;36m__call__\u001b[0;34m(self, iterable)\u001b[0m\n\u001b[1;32m    756\u001b[0m             \u001b[0;31m# was dispatched. In particular this covers the edge\u001b[0m\u001b[0;34m\u001b[0m\u001b[0;34m\u001b[0m\u001b[0m\n\u001b[1;32m    757\u001b[0m             \u001b[0;31m# case of Parallel used with an exhausted iterator.\u001b[0m\u001b[0;34m\u001b[0m\u001b[0;34m\u001b[0m\u001b[0m\n\u001b[0;32m--> 758\u001b[0;31m             \u001b[0;32mwhile\u001b[0m \u001b[0mself\u001b[0m\u001b[0;34m.\u001b[0m\u001b[0mdispatch_one_batch\u001b[0m\u001b[0;34m(\u001b[0m\u001b[0miterator\u001b[0m\u001b[0;34m)\u001b[0m\u001b[0;34m:\u001b[0m\u001b[0;34m\u001b[0m\u001b[0m\n\u001b[0m\u001b[1;32m    759\u001b[0m                 \u001b[0mself\u001b[0m\u001b[0;34m.\u001b[0m\u001b[0m_iterating\u001b[0m \u001b[0;34m=\u001b[0m \u001b[0mTrue\u001b[0m\u001b[0;34m\u001b[0m\u001b[0m\n\u001b[1;32m    760\u001b[0m             \u001b[0;32melse\u001b[0m\u001b[0;34m:\u001b[0m\u001b[0;34m\u001b[0m\u001b[0m\n",
      "\u001b[0;32m/usr/local/lib/python2.7/dist-packages/sklearn/externals/joblib/parallel.pyc\u001b[0m in \u001b[0;36mdispatch_one_batch\u001b[0;34m(self, iterator)\u001b[0m\n\u001b[1;32m    606\u001b[0m                 \u001b[0;32mreturn\u001b[0m \u001b[0mFalse\u001b[0m\u001b[0;34m\u001b[0m\u001b[0m\n\u001b[1;32m    607\u001b[0m             \u001b[0;32melse\u001b[0m\u001b[0;34m:\u001b[0m\u001b[0;34m\u001b[0m\u001b[0m\n\u001b[0;32m--> 608\u001b[0;31m                 \u001b[0mself\u001b[0m\u001b[0;34m.\u001b[0m\u001b[0m_dispatch\u001b[0m\u001b[0;34m(\u001b[0m\u001b[0mtasks\u001b[0m\u001b[0;34m)\u001b[0m\u001b[0;34m\u001b[0m\u001b[0m\n\u001b[0m\u001b[1;32m    609\u001b[0m                 \u001b[0;32mreturn\u001b[0m \u001b[0mTrue\u001b[0m\u001b[0;34m\u001b[0m\u001b[0m\n\u001b[1;32m    610\u001b[0m \u001b[0;34m\u001b[0m\u001b[0m\n",
      "\u001b[0;32m/usr/local/lib/python2.7/dist-packages/sklearn/externals/joblib/parallel.pyc\u001b[0m in \u001b[0;36m_dispatch\u001b[0;34m(self, batch)\u001b[0m\n\u001b[1;32m    569\u001b[0m         \u001b[0mdispatch_timestamp\u001b[0m \u001b[0;34m=\u001b[0m \u001b[0mtime\u001b[0m\u001b[0;34m.\u001b[0m\u001b[0mtime\u001b[0m\u001b[0;34m(\u001b[0m\u001b[0;34m)\u001b[0m\u001b[0;34m\u001b[0m\u001b[0m\n\u001b[1;32m    570\u001b[0m         \u001b[0mcb\u001b[0m \u001b[0;34m=\u001b[0m \u001b[0mBatchCompletionCallBack\u001b[0m\u001b[0;34m(\u001b[0m\u001b[0mdispatch_timestamp\u001b[0m\u001b[0;34m,\u001b[0m \u001b[0mlen\u001b[0m\u001b[0;34m(\u001b[0m\u001b[0mbatch\u001b[0m\u001b[0;34m)\u001b[0m\u001b[0;34m,\u001b[0m \u001b[0mself\u001b[0m\u001b[0;34m)\u001b[0m\u001b[0;34m\u001b[0m\u001b[0m\n\u001b[0;32m--> 571\u001b[0;31m         \u001b[0mjob\u001b[0m \u001b[0;34m=\u001b[0m \u001b[0mself\u001b[0m\u001b[0;34m.\u001b[0m\u001b[0m_backend\u001b[0m\u001b[0;34m.\u001b[0m\u001b[0mapply_async\u001b[0m\u001b[0;34m(\u001b[0m\u001b[0mbatch\u001b[0m\u001b[0;34m,\u001b[0m \u001b[0mcallback\u001b[0m\u001b[0;34m=\u001b[0m\u001b[0mcb\u001b[0m\u001b[0;34m)\u001b[0m\u001b[0;34m\u001b[0m\u001b[0m\n\u001b[0m\u001b[1;32m    572\u001b[0m         \u001b[0mself\u001b[0m\u001b[0;34m.\u001b[0m\u001b[0m_jobs\u001b[0m\u001b[0;34m.\u001b[0m\u001b[0mappend\u001b[0m\u001b[0;34m(\u001b[0m\u001b[0mjob\u001b[0m\u001b[0;34m)\u001b[0m\u001b[0;34m\u001b[0m\u001b[0m\n\u001b[1;32m    573\u001b[0m \u001b[0;34m\u001b[0m\u001b[0m\n",
      "\u001b[0;32m/usr/local/lib/python2.7/dist-packages/sklearn/externals/joblib/_parallel_backends.pyc\u001b[0m in \u001b[0;36mapply_async\u001b[0;34m(self, func, callback)\u001b[0m\n\u001b[1;32m    107\u001b[0m     \u001b[0;32mdef\u001b[0m \u001b[0mapply_async\u001b[0m\u001b[0;34m(\u001b[0m\u001b[0mself\u001b[0m\u001b[0;34m,\u001b[0m \u001b[0mfunc\u001b[0m\u001b[0;34m,\u001b[0m \u001b[0mcallback\u001b[0m\u001b[0;34m=\u001b[0m\u001b[0mNone\u001b[0m\u001b[0;34m)\u001b[0m\u001b[0;34m:\u001b[0m\u001b[0;34m\u001b[0m\u001b[0m\n\u001b[1;32m    108\u001b[0m         \u001b[0;34m\"\"\"Schedule a func to be run\"\"\"\u001b[0m\u001b[0;34m\u001b[0m\u001b[0m\n\u001b[0;32m--> 109\u001b[0;31m         \u001b[0mresult\u001b[0m \u001b[0;34m=\u001b[0m \u001b[0mImmediateResult\u001b[0m\u001b[0;34m(\u001b[0m\u001b[0mfunc\u001b[0m\u001b[0;34m)\u001b[0m\u001b[0;34m\u001b[0m\u001b[0m\n\u001b[0m\u001b[1;32m    110\u001b[0m         \u001b[0;32mif\u001b[0m \u001b[0mcallback\u001b[0m\u001b[0;34m:\u001b[0m\u001b[0;34m\u001b[0m\u001b[0m\n\u001b[1;32m    111\u001b[0m             \u001b[0mcallback\u001b[0m\u001b[0;34m(\u001b[0m\u001b[0mresult\u001b[0m\u001b[0;34m)\u001b[0m\u001b[0;34m\u001b[0m\u001b[0m\n",
      "\u001b[0;32m/usr/local/lib/python2.7/dist-packages/sklearn/externals/joblib/_parallel_backends.pyc\u001b[0m in \u001b[0;36m__init__\u001b[0;34m(self, batch)\u001b[0m\n\u001b[1;32m    324\u001b[0m         \u001b[0;31m# Don't delay the application, to avoid keeping the input\u001b[0m\u001b[0;34m\u001b[0m\u001b[0;34m\u001b[0m\u001b[0m\n\u001b[1;32m    325\u001b[0m         \u001b[0;31m# arguments in memory\u001b[0m\u001b[0;34m\u001b[0m\u001b[0;34m\u001b[0m\u001b[0m\n\u001b[0;32m--> 326\u001b[0;31m         \u001b[0mself\u001b[0m\u001b[0;34m.\u001b[0m\u001b[0mresults\u001b[0m \u001b[0;34m=\u001b[0m \u001b[0mbatch\u001b[0m\u001b[0;34m(\u001b[0m\u001b[0;34m)\u001b[0m\u001b[0;34m\u001b[0m\u001b[0m\n\u001b[0m\u001b[1;32m    327\u001b[0m \u001b[0;34m\u001b[0m\u001b[0m\n\u001b[1;32m    328\u001b[0m     \u001b[0;32mdef\u001b[0m \u001b[0mget\u001b[0m\u001b[0;34m(\u001b[0m\u001b[0mself\u001b[0m\u001b[0;34m)\u001b[0m\u001b[0;34m:\u001b[0m\u001b[0;34m\u001b[0m\u001b[0m\n",
      "\u001b[0;32m/usr/local/lib/python2.7/dist-packages/sklearn/externals/joblib/parallel.pyc\u001b[0m in \u001b[0;36m__call__\u001b[0;34m(self)\u001b[0m\n\u001b[1;32m    129\u001b[0m \u001b[0;34m\u001b[0m\u001b[0m\n\u001b[1;32m    130\u001b[0m     \u001b[0;32mdef\u001b[0m \u001b[0m__call__\u001b[0m\u001b[0;34m(\u001b[0m\u001b[0mself\u001b[0m\u001b[0;34m)\u001b[0m\u001b[0;34m:\u001b[0m\u001b[0;34m\u001b[0m\u001b[0m\n\u001b[0;32m--> 131\u001b[0;31m         \u001b[0;32mreturn\u001b[0m \u001b[0;34m[\u001b[0m\u001b[0mfunc\u001b[0m\u001b[0;34m(\u001b[0m\u001b[0;34m*\u001b[0m\u001b[0margs\u001b[0m\u001b[0;34m,\u001b[0m \u001b[0;34m**\u001b[0m\u001b[0mkwargs\u001b[0m\u001b[0;34m)\u001b[0m \u001b[0;32mfor\u001b[0m \u001b[0mfunc\u001b[0m\u001b[0;34m,\u001b[0m \u001b[0margs\u001b[0m\u001b[0;34m,\u001b[0m \u001b[0mkwargs\u001b[0m \u001b[0;32min\u001b[0m \u001b[0mself\u001b[0m\u001b[0;34m.\u001b[0m\u001b[0mitems\u001b[0m\u001b[0;34m]\u001b[0m\u001b[0;34m\u001b[0m\u001b[0m\n\u001b[0m\u001b[1;32m    132\u001b[0m \u001b[0;34m\u001b[0m\u001b[0m\n\u001b[1;32m    133\u001b[0m     \u001b[0;32mdef\u001b[0m \u001b[0m__len__\u001b[0m\u001b[0;34m(\u001b[0m\u001b[0mself\u001b[0m\u001b[0;34m)\u001b[0m\u001b[0;34m:\u001b[0m\u001b[0;34m\u001b[0m\u001b[0m\n",
      "\u001b[0;32m/usr/local/lib/python2.7/dist-packages/sklearn/model_selection/_validation.pyc\u001b[0m in \u001b[0;36m_fit_and_score\u001b[0;34m(estimator, X, y, scorer, train, test, verbose, parameters, fit_params, return_train_score, return_parameters, return_n_test_samples, return_times, error_score)\u001b[0m\n\u001b[1;32m    236\u001b[0m             \u001b[0mestimator\u001b[0m\u001b[0;34m.\u001b[0m\u001b[0mfit\u001b[0m\u001b[0;34m(\u001b[0m\u001b[0mX_train\u001b[0m\u001b[0;34m,\u001b[0m \u001b[0;34m**\u001b[0m\u001b[0mfit_params\u001b[0m\u001b[0;34m)\u001b[0m\u001b[0;34m\u001b[0m\u001b[0m\n\u001b[1;32m    237\u001b[0m         \u001b[0;32melse\u001b[0m\u001b[0;34m:\u001b[0m\u001b[0;34m\u001b[0m\u001b[0m\n\u001b[0;32m--> 238\u001b[0;31m             \u001b[0mestimator\u001b[0m\u001b[0;34m.\u001b[0m\u001b[0mfit\u001b[0m\u001b[0;34m(\u001b[0m\u001b[0mX_train\u001b[0m\u001b[0;34m,\u001b[0m \u001b[0my_train\u001b[0m\u001b[0;34m,\u001b[0m \u001b[0;34m**\u001b[0m\u001b[0mfit_params\u001b[0m\u001b[0;34m)\u001b[0m\u001b[0;34m\u001b[0m\u001b[0m\n\u001b[0m\u001b[1;32m    239\u001b[0m \u001b[0;34m\u001b[0m\u001b[0m\n\u001b[1;32m    240\u001b[0m     \u001b[0;32mexcept\u001b[0m \u001b[0mException\u001b[0m \u001b[0;32mas\u001b[0m \u001b[0me\u001b[0m\u001b[0;34m:\u001b[0m\u001b[0;34m\u001b[0m\u001b[0m\n",
      "\u001b[0;32m/usr/local/lib/python2.7/dist-packages/sklearn/pipeline.pyc\u001b[0m in \u001b[0;36mfit\u001b[0;34m(self, X, y, **fit_params)\u001b[0m\n\u001b[1;32m    266\u001b[0m             \u001b[0mThis\u001b[0m \u001b[0mestimator\u001b[0m\u001b[0;34m\u001b[0m\u001b[0m\n\u001b[1;32m    267\u001b[0m         \"\"\"\n\u001b[0;32m--> 268\u001b[0;31m         \u001b[0mXt\u001b[0m\u001b[0;34m,\u001b[0m \u001b[0mfit_params\u001b[0m \u001b[0;34m=\u001b[0m \u001b[0mself\u001b[0m\u001b[0;34m.\u001b[0m\u001b[0m_fit\u001b[0m\u001b[0;34m(\u001b[0m\u001b[0mX\u001b[0m\u001b[0;34m,\u001b[0m \u001b[0my\u001b[0m\u001b[0;34m,\u001b[0m \u001b[0;34m**\u001b[0m\u001b[0mfit_params\u001b[0m\u001b[0;34m)\u001b[0m\u001b[0;34m\u001b[0m\u001b[0m\n\u001b[0m\u001b[1;32m    269\u001b[0m         \u001b[0;32mif\u001b[0m \u001b[0mself\u001b[0m\u001b[0;34m.\u001b[0m\u001b[0m_final_estimator\u001b[0m \u001b[0;32mis\u001b[0m \u001b[0;32mnot\u001b[0m \u001b[0mNone\u001b[0m\u001b[0;34m:\u001b[0m\u001b[0;34m\u001b[0m\u001b[0m\n\u001b[1;32m    270\u001b[0m             \u001b[0mself\u001b[0m\u001b[0;34m.\u001b[0m\u001b[0m_final_estimator\u001b[0m\u001b[0;34m.\u001b[0m\u001b[0mfit\u001b[0m\u001b[0;34m(\u001b[0m\u001b[0mXt\u001b[0m\u001b[0;34m,\u001b[0m \u001b[0my\u001b[0m\u001b[0;34m,\u001b[0m \u001b[0;34m**\u001b[0m\u001b[0mfit_params\u001b[0m\u001b[0;34m)\u001b[0m\u001b[0;34m\u001b[0m\u001b[0m\n",
      "\u001b[0;32m/usr/local/lib/python2.7/dist-packages/sklearn/pipeline.pyc\u001b[0m in \u001b[0;36m_fit\u001b[0;34m(self, X, y, **fit_params)\u001b[0m\n\u001b[1;32m    232\u001b[0m                 \u001b[0;32mpass\u001b[0m\u001b[0;34m\u001b[0m\u001b[0m\n\u001b[1;32m    233\u001b[0m             \u001b[0;32melif\u001b[0m \u001b[0mhasattr\u001b[0m\u001b[0;34m(\u001b[0m\u001b[0mtransform\u001b[0m\u001b[0;34m,\u001b[0m \u001b[0;34m\"fit_transform\"\u001b[0m\u001b[0;34m)\u001b[0m\u001b[0;34m:\u001b[0m\u001b[0;34m\u001b[0m\u001b[0m\n\u001b[0;32m--> 234\u001b[0;31m                 \u001b[0mXt\u001b[0m \u001b[0;34m=\u001b[0m \u001b[0mtransform\u001b[0m\u001b[0;34m.\u001b[0m\u001b[0mfit_transform\u001b[0m\u001b[0;34m(\u001b[0m\u001b[0mXt\u001b[0m\u001b[0;34m,\u001b[0m \u001b[0my\u001b[0m\u001b[0;34m,\u001b[0m \u001b[0;34m**\u001b[0m\u001b[0mfit_params_steps\u001b[0m\u001b[0;34m[\u001b[0m\u001b[0mname\u001b[0m\u001b[0;34m]\u001b[0m\u001b[0;34m)\u001b[0m\u001b[0;34m\u001b[0m\u001b[0m\n\u001b[0m\u001b[1;32m    235\u001b[0m             \u001b[0;32melse\u001b[0m\u001b[0;34m:\u001b[0m\u001b[0;34m\u001b[0m\u001b[0m\n\u001b[1;32m    236\u001b[0m                 \u001b[0mXt\u001b[0m \u001b[0;34m=\u001b[0m \u001b[0mtransform\u001b[0m\u001b[0;34m.\u001b[0m\u001b[0mfit\u001b[0m\u001b[0;34m(\u001b[0m\u001b[0mXt\u001b[0m\u001b[0;34m,\u001b[0m \u001b[0my\u001b[0m\u001b[0;34m,\u001b[0m \u001b[0;34m**\u001b[0m\u001b[0mfit_params_steps\u001b[0m\u001b[0;34m[\u001b[0m\u001b[0mname\u001b[0m\u001b[0;34m]\u001b[0m\u001b[0;34m)\u001b[0m\u001b[0;31m \u001b[0m\u001b[0;31m\\\u001b[0m\u001b[0;34m\u001b[0m\u001b[0m\n",
      "\u001b[0;32m/usr/local/lib/python2.7/dist-packages/sklearn/decomposition/pca.pyc\u001b[0m in \u001b[0;36mfit_transform\u001b[0;34m(self, X, y)\u001b[0m\n\u001b[1;32m    322\u001b[0m \u001b[0;34m\u001b[0m\u001b[0m\n\u001b[1;32m    323\u001b[0m         \"\"\"\n\u001b[0;32m--> 324\u001b[0;31m         \u001b[0mU\u001b[0m\u001b[0;34m,\u001b[0m \u001b[0mS\u001b[0m\u001b[0;34m,\u001b[0m \u001b[0mV\u001b[0m \u001b[0;34m=\u001b[0m \u001b[0mself\u001b[0m\u001b[0;34m.\u001b[0m\u001b[0m_fit\u001b[0m\u001b[0;34m(\u001b[0m\u001b[0mX\u001b[0m\u001b[0;34m)\u001b[0m\u001b[0;34m\u001b[0m\u001b[0m\n\u001b[0m\u001b[1;32m    325\u001b[0m         \u001b[0mU\u001b[0m \u001b[0;34m=\u001b[0m \u001b[0mU\u001b[0m\u001b[0;34m[\u001b[0m\u001b[0;34m:\u001b[0m\u001b[0;34m,\u001b[0m \u001b[0;34m:\u001b[0m\u001b[0mself\u001b[0m\u001b[0;34m.\u001b[0m\u001b[0mn_components_\u001b[0m\u001b[0;34m]\u001b[0m\u001b[0;34m\u001b[0m\u001b[0m\n\u001b[1;32m    326\u001b[0m \u001b[0;34m\u001b[0m\u001b[0m\n",
      "\u001b[0;32m/usr/local/lib/python2.7/dist-packages/sklearn/decomposition/pca.pyc\u001b[0m in \u001b[0;36m_fit\u001b[0;34m(self, X)\u001b[0m\n\u001b[1;32m    368\u001b[0m             \u001b[0;32mreturn\u001b[0m \u001b[0mself\u001b[0m\u001b[0;34m.\u001b[0m\u001b[0m_fit_full\u001b[0m\u001b[0;34m(\u001b[0m\u001b[0mX\u001b[0m\u001b[0;34m,\u001b[0m \u001b[0mn_components\u001b[0m\u001b[0;34m)\u001b[0m\u001b[0;34m\u001b[0m\u001b[0m\n\u001b[1;32m    369\u001b[0m         \u001b[0;32melif\u001b[0m \u001b[0msvd_solver\u001b[0m \u001b[0;32min\u001b[0m \u001b[0;34m[\u001b[0m\u001b[0;34m'arpack'\u001b[0m\u001b[0;34m,\u001b[0m \u001b[0;34m'randomized'\u001b[0m\u001b[0;34m]\u001b[0m\u001b[0;34m:\u001b[0m\u001b[0;34m\u001b[0m\u001b[0m\n\u001b[0;32m--> 370\u001b[0;31m             \u001b[0;32mreturn\u001b[0m \u001b[0mself\u001b[0m\u001b[0;34m.\u001b[0m\u001b[0m_fit_truncated\u001b[0m\u001b[0;34m(\u001b[0m\u001b[0mX\u001b[0m\u001b[0;34m,\u001b[0m \u001b[0mn_components\u001b[0m\u001b[0;34m,\u001b[0m \u001b[0msvd_solver\u001b[0m\u001b[0;34m)\u001b[0m\u001b[0;34m\u001b[0m\u001b[0m\n\u001b[0m\u001b[1;32m    371\u001b[0m \u001b[0;34m\u001b[0m\u001b[0m\n\u001b[1;32m    372\u001b[0m     \u001b[0;32mdef\u001b[0m \u001b[0m_fit_full\u001b[0m\u001b[0;34m(\u001b[0m\u001b[0mself\u001b[0m\u001b[0;34m,\u001b[0m \u001b[0mX\u001b[0m\u001b[0;34m,\u001b[0m \u001b[0mn_components\u001b[0m\u001b[0;34m)\u001b[0m\u001b[0;34m:\u001b[0m\u001b[0;34m\u001b[0m\u001b[0m\n",
      "\u001b[0;32m/usr/local/lib/python2.7/dist-packages/sklearn/decomposition/pca.pyc\u001b[0m in \u001b[0;36m_fit_truncated\u001b[0;34m(self, X, n_components, svd_solver)\u001b[0m\n\u001b[1;32m    464\u001b[0m                                      \u001b[0mn_iter\u001b[0m\u001b[0;34m=\u001b[0m\u001b[0mself\u001b[0m\u001b[0;34m.\u001b[0m\u001b[0miterated_power\u001b[0m\u001b[0;34m,\u001b[0m\u001b[0;34m\u001b[0m\u001b[0m\n\u001b[1;32m    465\u001b[0m                                      \u001b[0mflip_sign\u001b[0m\u001b[0;34m=\u001b[0m\u001b[0mTrue\u001b[0m\u001b[0;34m,\u001b[0m\u001b[0;34m\u001b[0m\u001b[0m\n\u001b[0;32m--> 466\u001b[0;31m                                      random_state=random_state)\n\u001b[0m\u001b[1;32m    467\u001b[0m \u001b[0;34m\u001b[0m\u001b[0m\n\u001b[1;32m    468\u001b[0m         \u001b[0mself\u001b[0m\u001b[0;34m.\u001b[0m\u001b[0mn_samples_\u001b[0m\u001b[0;34m,\u001b[0m \u001b[0mself\u001b[0m\u001b[0;34m.\u001b[0m\u001b[0mn_features_\u001b[0m \u001b[0;34m=\u001b[0m \u001b[0mn_samples\u001b[0m\u001b[0;34m,\u001b[0m \u001b[0mn_features\u001b[0m\u001b[0;34m\u001b[0m\u001b[0m\n",
      "\u001b[0;32m/usr/local/lib/python2.7/dist-packages/sklearn/utils/extmath.pyc\u001b[0m in \u001b[0;36mrandomized_svd\u001b[0;34m(M, n_components, n_oversamples, n_iter, power_iteration_normalizer, transpose, flip_sign, random_state)\u001b[0m\n\u001b[1;32m    362\u001b[0m \u001b[0;34m\u001b[0m\u001b[0m\n\u001b[1;32m    363\u001b[0m     Q = randomized_range_finder(M, n_random, n_iter,\n\u001b[0;32m--> 364\u001b[0;31m                                 power_iteration_normalizer, random_state)\n\u001b[0m\u001b[1;32m    365\u001b[0m \u001b[0;34m\u001b[0m\u001b[0m\n\u001b[1;32m    366\u001b[0m     \u001b[0;31m# project M to the (k + p) dimensional space using the basis vectors\u001b[0m\u001b[0;34m\u001b[0m\u001b[0;34m\u001b[0m\u001b[0m\n",
      "\u001b[0;32m/usr/local/lib/python2.7/dist-packages/sklearn/utils/extmath.pyc\u001b[0m in \u001b[0;36mrandomized_range_finder\u001b[0;34m(A, size, n_iter, power_iteration_normalizer, random_state)\u001b[0m\n\u001b[1;32m    264\u001b[0m     \u001b[0;31m# Sample the range of A using by linear projection of Q\u001b[0m\u001b[0;34m\u001b[0m\u001b[0;34m\u001b[0m\u001b[0m\n\u001b[1;32m    265\u001b[0m     \u001b[0;31m# Extract an orthonormal basis\u001b[0m\u001b[0;34m\u001b[0m\u001b[0;34m\u001b[0m\u001b[0m\n\u001b[0;32m--> 266\u001b[0;31m     \u001b[0mQ\u001b[0m\u001b[0;34m,\u001b[0m \u001b[0m_\u001b[0m \u001b[0;34m=\u001b[0m \u001b[0mlinalg\u001b[0m\u001b[0;34m.\u001b[0m\u001b[0mqr\u001b[0m\u001b[0;34m(\u001b[0m\u001b[0msafe_sparse_dot\u001b[0m\u001b[0;34m(\u001b[0m\u001b[0mA\u001b[0m\u001b[0;34m,\u001b[0m \u001b[0mQ\u001b[0m\u001b[0;34m)\u001b[0m\u001b[0;34m,\u001b[0m \u001b[0mmode\u001b[0m\u001b[0;34m=\u001b[0m\u001b[0;34m'economic'\u001b[0m\u001b[0;34m)\u001b[0m\u001b[0;34m\u001b[0m\u001b[0m\n\u001b[0m\u001b[1;32m    267\u001b[0m     \u001b[0;32mreturn\u001b[0m \u001b[0mQ\u001b[0m\u001b[0;34m\u001b[0m\u001b[0m\n\u001b[1;32m    268\u001b[0m \u001b[0;34m\u001b[0m\u001b[0m\n",
      "\u001b[0;32m/usr/local/lib/python2.7/dist-packages/scipy/linalg/decomp_qr.pyc\u001b[0m in \u001b[0;36mqr\u001b[0;34m(a, overwrite_a, lwork, mode, pivoting, check_finite)\u001b[0m\n\u001b[1;32m    139\u001b[0m         \u001b[0mgeqrf\u001b[0m\u001b[0;34m,\u001b[0m \u001b[0;34m=\u001b[0m \u001b[0mget_lapack_funcs\u001b[0m\u001b[0;34m(\u001b[0m\u001b[0;34m(\u001b[0m\u001b[0;34m'geqrf'\u001b[0m\u001b[0;34m,\u001b[0m\u001b[0;34m)\u001b[0m\u001b[0;34m,\u001b[0m \u001b[0;34m(\u001b[0m\u001b[0ma1\u001b[0m\u001b[0;34m,\u001b[0m\u001b[0;34m)\u001b[0m\u001b[0;34m)\u001b[0m\u001b[0;34m\u001b[0m\u001b[0m\n\u001b[1;32m    140\u001b[0m         qr, tau = safecall(geqrf, \"geqrf\", a1, lwork=lwork,\n\u001b[0;32m--> 141\u001b[0;31m             overwrite_a=overwrite_a)\n\u001b[0m\u001b[1;32m    142\u001b[0m \u001b[0;34m\u001b[0m\u001b[0m\n\u001b[1;32m    143\u001b[0m     \u001b[0;32mif\u001b[0m \u001b[0mmode\u001b[0m \u001b[0;32mnot\u001b[0m \u001b[0;32min\u001b[0m \u001b[0;34m[\u001b[0m\u001b[0;34m'economic'\u001b[0m\u001b[0;34m,\u001b[0m \u001b[0;34m'raw'\u001b[0m\u001b[0;34m]\u001b[0m \u001b[0;32mor\u001b[0m \u001b[0mM\u001b[0m \u001b[0;34m<\u001b[0m \u001b[0mN\u001b[0m\u001b[0;34m:\u001b[0m\u001b[0;34m\u001b[0m\u001b[0m\n",
      "\u001b[0;32m/usr/local/lib/python2.7/dist-packages/scipy/linalg/decomp_qr.pyc\u001b[0m in \u001b[0;36msafecall\u001b[0;34m(f, name, *args, **kwargs)\u001b[0m\n\u001b[1;32m     19\u001b[0m         \u001b[0mret\u001b[0m \u001b[0;34m=\u001b[0m \u001b[0mf\u001b[0m\u001b[0;34m(\u001b[0m\u001b[0;34m*\u001b[0m\u001b[0margs\u001b[0m\u001b[0;34m,\u001b[0m \u001b[0;34m**\u001b[0m\u001b[0mkwargs\u001b[0m\u001b[0;34m)\u001b[0m\u001b[0;34m\u001b[0m\u001b[0m\n\u001b[1;32m     20\u001b[0m         \u001b[0mkwargs\u001b[0m\u001b[0;34m[\u001b[0m\u001b[0;34m'lwork'\u001b[0m\u001b[0;34m]\u001b[0m \u001b[0;34m=\u001b[0m \u001b[0mret\u001b[0m\u001b[0;34m[\u001b[0m\u001b[0;34m-\u001b[0m\u001b[0;36m2\u001b[0m\u001b[0;34m]\u001b[0m\u001b[0;34m[\u001b[0m\u001b[0;36m0\u001b[0m\u001b[0;34m]\u001b[0m\u001b[0;34m.\u001b[0m\u001b[0mreal\u001b[0m\u001b[0;34m.\u001b[0m\u001b[0mastype\u001b[0m\u001b[0;34m(\u001b[0m\u001b[0mnumpy\u001b[0m\u001b[0;34m.\u001b[0m\u001b[0mint\u001b[0m\u001b[0;34m)\u001b[0m\u001b[0;34m\u001b[0m\u001b[0m\n\u001b[0;32m---> 21\u001b[0;31m     \u001b[0mret\u001b[0m \u001b[0;34m=\u001b[0m \u001b[0mf\u001b[0m\u001b[0;34m(\u001b[0m\u001b[0;34m*\u001b[0m\u001b[0margs\u001b[0m\u001b[0;34m,\u001b[0m \u001b[0;34m**\u001b[0m\u001b[0mkwargs\u001b[0m\u001b[0;34m)\u001b[0m\u001b[0;34m\u001b[0m\u001b[0m\n\u001b[0m\u001b[1;32m     22\u001b[0m     \u001b[0;32mif\u001b[0m \u001b[0mret\u001b[0m\u001b[0;34m[\u001b[0m\u001b[0;34m-\u001b[0m\u001b[0;36m1\u001b[0m\u001b[0;34m]\u001b[0m \u001b[0;34m<\u001b[0m \u001b[0;36m0\u001b[0m\u001b[0;34m:\u001b[0m\u001b[0;34m\u001b[0m\u001b[0m\n\u001b[1;32m     23\u001b[0m         raise ValueError(\"illegal value in %d-th argument of internal %s\"\n",
      "\u001b[0;31mKeyboardInterrupt\u001b[0m: "
     ]
    }
   ],
   "source": [
    "from sklearn.datasets import load_digits\n",
    "\n",
    "digits = load_digits()\n",
    "\n",
    "cv_strategy = ShuffleSplit(digits.data.shape[0], random_state=33, test_size=0.2)\n",
    "\n",
    "estimator = Pipeline([\n",
    "    ('reduce_dim', PCA(n_components=40)),\n",
    "    ('svm', SVC(kernel=\"linear\")),\n",
    "])\n",
    "\n",
    "for estimator_ in [SVC(kernel=\"linear\"), estimator]:\n",
    "    scoring = cross_val_score(estimator_, digits.data, digits.target, scoring='accuracy', cv=cv_strategy)\n",
    "    print scoring.mean(), scoring.std()"
   ]
  },
  {
   "cell_type": "code",
   "execution_count": null,
   "metadata": {
    "collapsed": false,
    "deletable": true,
    "editable": true
   },
   "outputs": [],
   "source": [
    "# One more example - eigen faces\n",
    "from IPython.display import IFrame\n",
    "IFrame(src=\"http://scikit-learn.org/stable/auto_examples/decomposition/plot_faces_decomposition.html#sphx-glr-auto-examples-decomposition-plot-faces-decomposition-pyhttp://scikit-learn.org/stable/auto_examples/decomposition/plot_faces_decomposition.html#sphx-glr-auto-examples-decomposition-plot-faces-decomposition-py\", width=800, height=400)"
   ]
  },
  {
   "cell_type": "markdown",
   "metadata": {
    "deletable": true,
    "editable": true
   },
   "source": [
    "-------\n",
    "<h1 align=\"center\">tSNE</h1> \n",
    "## Идея tSNE\n",
    "Laurens, Hinton Visualizing Data using t-SNE, 2008\n",
    "---------\n",
    "<img src=\"pic/Lle_hlle_swissroll.png\" width=\"600\">\n",
    "\n",
    "** Вопросы:**\n",
    "- Почему PCA не предназначен для данных со сложной нелиненой структурой?\n",
    "- В чём основаная идея SNE? \n",
    "- Какие преимущества tSNE переж SNE?"
   ]
  },
  {
   "cell_type": "markdown",
   "metadata": {
    "deletable": true,
    "editable": true
   },
   "source": [
    "### Пример\n",
    "** tSNE превносит дополнительную интепретацию в данные!!! **\n",
    "http://distill.pub/2016/misread-tsne/"
   ]
  },
  {
   "cell_type": "markdown",
   "metadata": {
    "deletable": true,
    "editable": true
   },
   "source": [
    "### tSNE vs PCA (MNIST)\n",
    "http://yann.lecun.com/exdb/mnist/\n",
    "\n",
    "Используется load_digits для упрощения"
   ]
  },
  {
   "cell_type": "markdown",
   "metadata": {
    "deletable": true,
    "editable": true
   },
   "source": [
    "Загрузка данных (см выше)"
   ]
  },
  {
   "cell_type": "markdown",
   "metadata": {
    "deletable": true,
    "editable": true
   },
   "source": [
    "Нарисуем примеры цифр из датасета load_digits"
   ]
  },
  {
   "cell_type": "code",
   "execution_count": null,
   "metadata": {
    "collapsed": false,
    "deletable": true,
    "editable": true
   },
   "outputs": [],
   "source": [
    "def plot_image(image_id, dataset=X_train, im_size=28):\n",
    "    pylab.imshow(255-dataset[image_id,:].reshape(im_size, im_size))\n",
    "    \n",
    "def plot_grid(image_ids, nrows, ncols, dataset=X_train, im_size=8):\n",
    "    fig = pyplot.gcf()\n",
    "    fig.set_size_inches(17.5,15.5)\n",
    "    for pylab_index, example_id in enumerate(image_ids):\n",
    "        pylab.subplot(nrows, ncols, pylab_index + 1)\n",
    "        plot_image(example_id, dataset, im_size)\n",
    "        pylab.axis('off')\n",
    "plot_grid(range(10), nrows=1, ncols=10)"
   ]
  },
  {
   "cell_type": "code",
   "execution_count": null,
   "metadata": {
    "collapsed": false,
    "deletable": true,
    "editable": true
   },
   "outputs": [],
   "source": [
    "def get_neighbors(example_img, X_minus_example, Y_minus_example, estimator):\n",
    "    distances, indices = estimator.kneighbors(example_img, n_neighbors=10)\n",
    "    distances, indices = distances[0], indices[0]\n",
    "    \n",
    "    df = pd.DataFrame()\n",
    "    df['distances'], df['indices']  = distances, indices\n",
    "    df['labels'] = Y_minus_example[indices]\n",
    "    \n",
    "    return df"
   ]
  },
  {
   "cell_type": "code",
   "execution_count": null,
   "metadata": {
    "collapsed": false,
    "deletable": true,
    "editable": true
   },
   "outputs": [],
   "source": [
    "pca = PCA(n_components=2)\n",
    "\n",
    "X_train_pca = pca.fit_transform(X_train)\n",
    "X_test_pca = pca.transform(X_test)\n",
    "pyplot.figure(figsize=(10, 6))\n",
    "pylab.scatter(X_train_pca[:, 0], X_train_pca[:, 1], c=Y_train, cmap=pyplot.cm.hot)"
   ]
  },
  {
   "cell_type": "code",
   "execution_count": null,
   "metadata": {
    "collapsed": false,
    "deletable": true,
    "editable": true
   },
   "outputs": [],
   "source": [
    "from sklearn.manifold import TSNE\n",
    "\n",
    "tsne = TSNE(n_components=2, n_iter=200)\n",
    "\n",
    "X_tsne = tsne.fit_transform(np.concatenate((X_train, X_test)))\n",
    "X_train_tsne, X_test_tsne = X_tsne[:len(X_train)], X_tsne[len(X_train):]"
   ]
  },
  {
   "cell_type": "code",
   "execution_count": 62,
   "metadata": {
    "collapsed": false,
    "deletable": true,
    "editable": true
   },
   "outputs": [
    {
     "data": {
      "text/plain": [
       "<matplotlib.collections.PathCollection at 0x109355c0>"
      ]
     },
     "execution_count": 62,
     "metadata": {},
     "output_type": "execute_result"
    },
    {
     "data": {
      "image/png": "[encoded data removed]",
      "text/plain": [
       "<matplotlib.figure.Figure at 0x114046d8>"
      ]
     },
     "metadata": {},
     "output_type": "display_data"
    }
   ],
   "source": [
    "pylab.scatter(X_train_tsne[:, 0], X_train_tsne[:, 1], c=Y_train, cmap=pyplot.cm.hot)"
   ]
  },
  {
   "cell_type": "code",
   "execution_count": 44,
   "metadata": {
    "collapsed": false,
    "deletable": true,
    "editable": true
   },
   "outputs": [
    {
     "name": "stdout",
     "output_type": "stream",
     "text": [
      "knn pca accuracy_score = 0.4115\n"
     ]
    }
   ],
   "source": [
    "# KNN_PCA2d vs KNN_TSNE2d\n",
    "\n",
    "knn_pca = KNeighborsClassifier().fit(X_train_pca, Y_train)\n",
    "y_pca = knn_pca.predict(X_test_pca)\n",
    "print 'knn pca accuracy_score = %s' % accuracy_score(y_pca, Y_test)"
   ]
  },
  {
   "cell_type": "code",
   "execution_count": 45,
   "metadata": {
    "collapsed": false,
    "deletable": true,
    "editable": true
   },
   "outputs": [
    {
     "name": "stdout",
     "output_type": "stream",
     "text": [
      "knn tsne accuracy_score = 0.8685\n"
     ]
    }
   ],
   "source": [
    "knn_tsne = KNeighborsClassifier().fit(X_train_tsne, Y_train)\n",
    "y_tsne = knn_tsne.predict(X_test_tsne)\n",
    "print 'knn tsne accuracy_score = %s' % accuracy_score(y_tsne, Y_test)"
   ]
  },
  {
   "cell_type": "markdown",
   "metadata": {
    "deletable": true,
    "editable": true
   },
   "source": [
    "<h1 align=\"center\">Conclusion</h1>  "
   ]
  },
  {
   "cell_type": "markdown",
   "metadata": {
    "collapsed": true,
    "deletable": true,
    "editable": true
   },
   "source": [
    "**PRO PCA**:\n",
    " \n",
    " * PCA помогает избавиться от \"лишних\" размерностей\n",
    " * PCA строит оптимальное линейное преобразование\n",
    " * PCA применим для больших размерностей\n",
    " * существуют ядерные вариант PCA (KernelPCA)\n",
    "\n",
    "**Cons PCA**\n",
    " * если требуется сложное нелинейное преобразование, PCA не работает\n",
    " * не подходит для визуализации на двухмерной плоскости при большой размерности исходных пространств\n",
    "\n",
    "**PRO tSNE**:\n",
    " * отлично визуализируют (2D, 3D) данные\n",
    " * испольюзуются для предобрабтки данных, анализа структуры данных\n",
    "       \n",
    "**Cons tSNE**\n",
    "  * стохастичность (PCA детерминирован)\n",
    "  * неинтерпретируемость данных\n",
    "  * не применим (сложно применим) для новых данных\n",
    "  * не даёт ответ об оптимальной размерности пространства\n",
    "\n",
    "## <a href=\"https://github.com/ml-mipt/ml-mipt-part1/tree/master/2017/home_work/hw8\"> HW8 </a>\n",
    "See at lecture\n",
    "  \n",
    "## Reference\n",
    "- ESL https://web.stanford.edu/~hastie/local.ftp/Springer/OLD/ESLII_print4.pdf\n",
    "- TSNE http://www.youtube.com/watch?v=RJVL80Gg3lA\n",
    "- http://distill.pub/2016/misread-tsne/\n",
    "\n",
    "## Обратная связь \n",
    "  ** <span style=\"font-size: 16pt\"> <a href=\"https://docs.google.com/forms/d/e/1FAIpQLSdmyY3f-lwrhSGeqJPaxcXrdj0SfZzZbgRIggg-nx4EQ_eQLQ/viewform?c=0&w=1\"> Отзыв </a> о семинаре </span> **\n",
    "  \n",
    "  ** <span style=\"font-size: 16pt\"> <a href=\"https://docs.google.com/forms/d/e/1FAIpQLSdefy8neFtoxDlXD3toHi3fWB3OW-23APTRj-GuTX8wtAJahQ/viewform?c=0&w=1\"> Отзыв </a> о лекции </span> **"
   ]
  }
 ],
 "metadata": {
  "anaconda-cloud": {},
  "kernelspec": {
   "display_name": "Python 2",
   "language": "python",
   "name": "python2"
  },
  "language_info": {
   "codemirror_mode": {
    "name": "ipython",
    "version": 2
   },
   "file_extension": ".py",
   "mimetype": "text/x-python",
   "name": "python",
   "nbconvert_exporter": "python",
   "pygments_lexer": "ipython2",
   "version": "2.7.12+"
  }
 },
 "nbformat": 4,
 "nbformat_minor": 0
}
