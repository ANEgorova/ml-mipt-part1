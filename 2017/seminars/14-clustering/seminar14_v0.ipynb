{
 "cells": [
  {
   "cell_type": "markdown",
   "metadata": {
    "deletable": true,
    "editable": true
   },
   "source": [
    "# Модуль: Unsupervised Learning\n",
    "\n",
    "<span style=\"font-size: 14pt\">ФИВТ, АПТ, Курс по машинному обучению, Весна 2017, семинар 14 </span>\n",
    "\n",
    "<span style=\"color:blue; font-size: 12pt\">Alexey Romanenko, </span>\n",
    "<span style=\"color:blue; font-size: 12pt; font-family: 'Verdana'\">alexromsput@gmail.com</span>"
   ]
  },
  {
   "cell_type": "markdown",
   "metadata": {
    "deletable": true,
    "editable": true
   },
   "source": [
    "# Методы кластеризации\n",
    "<h3> Plan </h3>\n",
    "\n",
    "* ** Напоминание лекции ** \n",
    " - Задача кластеризации\n",
    " - Демо k-means, DBSCAN\n",
    " - Обзор других методов кластеризации: AUTOENCODER\n",
    "\n",
    "\n",
    "* **Реализация k-means**\n",
    " - Пример реализации k-means\n",
    " - Оптимизация начального расположения центров kmeans++\n",
    " \n",
    " \n",
    "* **Кластеризация текстов**\n",
    " - Описание данных\n",
    " - Агломеративная кластеризация\n",
    " - k-means"
   ]
  },
  {
   "cell_type": "code",
   "execution_count": 1,
   "metadata": {
    "collapsed": false,
    "deletable": true,
    "editable": true
   },
   "outputs": [],
   "source": [
    "import os\n",
    "import time\n",
    "import warnings\n",
    "import datetime\n",
    "import numpy as np\n",
    "import pandas as pd\n",
    "import random\n",
    "from sklearn.metrics import accuracy_score as acc\n",
    "from sklearn.model_selection import cross_val_score\n",
    "\n",
    "import pylab\n",
    "\n",
    "from matplotlib import pyplot as plt\n",
    "from matplotlib.colors import ListedColormap\n",
    "\n",
    "\n",
    "from IPython.display import Image, SVG\n",
    "\n",
    "%matplotlib inline"
   ]
  },
  {
   "cell_type": "markdown",
   "metadata": {
    "deletable": true,
    "editable": true
   },
   "source": [
    "<h1 align=\"center\"> Напоминание лекции </h1>\n",
    "** Вопросы **\n",
    "* В чем суть задачи кластеризации?\n",
    "* Как типы алгоритмов кластеризации вы знаете?\n",
    "* Какие основные шаги выделяют в алгоритме k-means?\n",
    "* Опишите кратко суть алгоритма DBSCAN."
   ]
  },
  {
   "cell_type": "markdown",
   "metadata": {
    "deletable": true,
    "editable": true
   },
   "source": [
    "## k-means demo\n",
    "<a href='https://www.naftaliharris.com/blog/visualizing-k-means-clustering/'> k-means </a>\n",
    "\n",
    "## DBSCAN demo\n",
    "<a href='https://www.naftaliharris.com/blog/visualizing-dbscan-clustering/'> DBSCAN </a>\n"
   ]
  },
  {
   "cell_type": "markdown",
   "metadata": {
    "deletable": true,
    "editable": true
   },
   "source": [
    "---------\n",
    "<h1 align=\"center\"> Реализация k-means </h1>"
   ]
  },
  {
   "cell_type": "code",
   "execution_count": 2,
   "metadata": {
    "collapsed": false,
    "deletable": true,
    "editable": true
   },
   "outputs": [
    {
     "ename": "SyntaxError",
     "evalue": "invalid syntax (<ipython-input-2-3ce53ed9be3b>, line 60)",
     "output_type": "error",
     "traceback": [
      "\u001b[0;36m  File \u001b[0;32m\"<ipython-input-2-3ce53ed9be3b>\"\u001b[0;36m, line \u001b[0;32m60\u001b[0m\n\u001b[0;31m    bestmukey = обновите привязку объектов к центрам кластеров (используйте np.linalg.norm )\u001b[0m\n\u001b[0m                ^\u001b[0m\n\u001b[0;31mSyntaxError\u001b[0m\u001b[0;31m:\u001b[0m invalid syntax\n"
     ]
    }
   ],
   "source": [
    "class KMeans():\n",
    "    def __init__(self, K, X=None, N=0):\n",
    "        self.K = K\n",
    "        if X == None:\n",
    "            if N == 0:\n",
    "                raise Exception(\"If no data is provided, \\\n",
    "                                 a parameter N (number of points) is needed\")\n",
    "            else:\n",
    "                self.N = N\n",
    "                self.X = self._init_board_gauss(N, K)\n",
    "        else:\n",
    "            self.X = X\n",
    "            self.N = len(X)\n",
    "        self.mu = None # a list of centers of clusters\n",
    "        self.clusters = None # labels of samples\n",
    "        self.method = None # method for sampling initial centers of clusters\n",
    " \n",
    "    def _init_board_gauss(self, N, k):\n",
    "        n = float(N)/k\n",
    "        X = []\n",
    "        for i in range(k):\n",
    "            c = (random.uniform(-1,1), random.uniform(-1,1))\n",
    "            s = random.uniform(0.05,0.15)\n",
    "            x = []\n",
    "            while len(x) < n:\n",
    "                a,b = np.array([np.random.normal(c[0],s),np.random.normal(c[1],s)])\n",
    "                # Continue drawing points from the distribution in the range [-1,1]\n",
    "                if abs(a) and abs(b)<1:\n",
    "                    x.append([a,b])\n",
    "            X.extend(x)\n",
    "        X = np.array(X)[:N]\n",
    "        return X\n",
    " \n",
    "    def plot_board(self, fig_size=(10,7) ):\n",
    "        X = self.X\n",
    "        fig = plt.figure(figsize = fig_size)\n",
    "        plt.xlim(-1,1)\n",
    "        plt.ylim(-1,1)\n",
    "        if self.mu and self.clusters:\n",
    "            mu = self.mu\n",
    "            clus = self.clusters\n",
    "            K = self.K\n",
    "            for m, clu in clus.items():\n",
    "                cs = plt.cm.spectral(1.*m/self.K)\n",
    "                plt.plot(mu[m][0], mu[m][1], 'o', marker='*', \\\n",
    "                         markersize=12, color=cs)\n",
    "                plt.plot(zip(*clus[m])[0], zip(*clus[m])[1], '.', \\\n",
    "                         markersize=8, color=cs, alpha=0.5)\n",
    "        else:\n",
    "            plt.plot(zip(*X)[0], zip(*X)[1], '.', alpha=0.5)\n",
    "        if self.method == '++':\n",
    "            tit = 'K-means++'\n",
    "        else:\n",
    "            tit = 'K-means with random initialization'\n",
    "        pars = 'N=%s, K=%s' % (str(self.N), str(self.K))\n",
    "        plt.title('\\n'.join([pars, tit]), fontsize=16)\n",
    "        plt.savefig('kpp_N%s_K%s.png' % (str(self.N), str(self.K)), \\\n",
    "                    bbox_inches='tight', dpi=200)\n",
    " \n",
    "    def _cluster_points(self):\n",
    "        mu = self.mu\n",
    "        clusters  = {}\n",
    "        for x in self.X:\n",
    "            bestmukey = обновите привязку объектов к центрам кластеров (используйте np.linalg.norm )\n",
    "            try:\n",
    "                clusters[bestmukey].append(x)\n",
    "            except KeyError:\n",
    "                clusters[bestmukey] = [x]\n",
    "        self.clusters = clusters\n",
    " \n",
    "    def _reevaluate_centers(self):\n",
    "        clusters = self.clusters\n",
    "        newmu = []\n",
    "        keys = sorted(self.clusters.keys())\n",
    "        for k in keys:\n",
    "            newmu.append(обновите центры кластеров)\n",
    "        self.mu = newmu\n",
    " \n",
    "    def _has_converged(self):\n",
    "        K = len(self.oldmu)\n",
    "        return(добавьте критерий останова\n",
    "               and len(set([tuple(a) for a in self.mu])) == K)\n",
    " \n",
    "    def find_centers(self, method='random'):\n",
    "        self.method = method\n",
    "        X = self.X\n",
    "        K = self.K\n",
    "        self.oldmu = random.sample(X, K)\n",
    "        if method != '++':\n",
    "            # Initialize to K random centers\n",
    "            self.mu = random.sample(X, K)\n",
    "        while not self._has_converged():\n",
    "            self.oldmu = сохранить старые центры кластеров\n",
    "            # Assign all points in X to clusters\n",
    "            self.обновите разметку кластеров\n",
    "            # Reevaluate centers\n",
    "            self.обновите центры кластеров"
   ]
  },
  {
   "cell_type": "code",
   "execution_count": 3,
   "metadata": {
    "collapsed": false,
    "deletable": true,
    "editable": true
   },
   "outputs": [
    {
     "ename": "NameError",
     "evalue": "name 'KMeans' is not defined",
     "output_type": "error",
     "traceback": [
      "\u001b[0;31m---------------------------------------------------------------------------\u001b[0m",
      "\u001b[0;31mNameError\u001b[0m                                 Traceback (most recent call last)",
      "\u001b[0;32m<ipython-input-3-49119834c917>\u001b[0m in \u001b[0;36m<module>\u001b[0;34m()\u001b[0m\n\u001b[0;32m----> 1\u001b[0;31m \u001b[0mkmeans\u001b[0m \u001b[0;34m=\u001b[0m \u001b[0mKMeans\u001b[0m\u001b[0;34m(\u001b[0m\u001b[0;36m3\u001b[0m\u001b[0;34m,\u001b[0m \u001b[0mN\u001b[0m\u001b[0;34m=\u001b[0m\u001b[0;36m200\u001b[0m\u001b[0;34m)\u001b[0m\u001b[0;34m\u001b[0m\u001b[0m\n\u001b[0m\u001b[1;32m      2\u001b[0m \u001b[0mkmeans\u001b[0m\u001b[0;34m.\u001b[0m\u001b[0mfind_centers\u001b[0m\u001b[0;34m(\u001b[0m\u001b[0;34m)\u001b[0m\u001b[0;34m\u001b[0m\u001b[0m\n\u001b[1;32m      3\u001b[0m \u001b[0mkmeans\u001b[0m\u001b[0;34m.\u001b[0m\u001b[0mplot_board\u001b[0m\u001b[0;34m(\u001b[0m\u001b[0mfig_size\u001b[0m\u001b[0;34m=\u001b[0m\u001b[0;34m(\u001b[0m\u001b[0;36m10\u001b[0m\u001b[0;34m,\u001b[0m\u001b[0;36m7\u001b[0m\u001b[0;34m)\u001b[0m\u001b[0;34m)\u001b[0m\u001b[0;34m\u001b[0m\u001b[0m\n",
      "\u001b[0;31mNameError\u001b[0m: name 'KMeans' is not defined"
     ]
    }
   ],
   "source": [
    "kmeans = KMeans(3, N=200)\n",
    "kmeans.find_centers()\n",
    "kmeans.plot_board(fig_size=(10,7))"
   ]
  },
  {
   "cell_type": "code",
   "execution_count": 88,
   "metadata": {
    "collapsed": false,
    "deletable": true,
    "editable": true,
    "scrolled": true
   },
   "outputs": [
    {
     "data": {
      "image/png": "[encoded data removed]",
      "text/plain": [
       "<matplotlib.figure.Figure at 0xd7f89e8>"
      ]
     },
     "metadata": {},
     "output_type": "display_data"
    }
   ],
   "source": [
    "kmeans.find_centers()\n",
    "kmeans.plot_board(fig_size=(10,6))"
   ]
  },
  {
   "cell_type": "markdown",
   "metadata": {
    "deletable": true,
    "editable": true
   },
   "source": [
    "### Improve to Kmeans++"
   ]
  },
  {
   "cell_type": "code",
   "execution_count": 4,
   "metadata": {
    "collapsed": false,
    "deletable": true,
    "editable": true
   },
   "outputs": [
    {
     "ename": "NameError",
     "evalue": "name 'KMeans' is not defined",
     "output_type": "error",
     "traceback": [
      "\u001b[0;31m---------------------------------------------------------------------------\u001b[0m",
      "\u001b[0;31mNameError\u001b[0m                                 Traceback (most recent call last)",
      "\u001b[0;32m<ipython-input-4-62a35026007d>\u001b[0m in \u001b[0;36m<module>\u001b[0;34m()\u001b[0m\n\u001b[0;32m----> 1\u001b[0;31m \u001b[0;32mclass\u001b[0m \u001b[0mKPlusPlus\u001b[0m\u001b[0;34m(\u001b[0m\u001b[0mKMeans\u001b[0m\u001b[0;34m)\u001b[0m\u001b[0;34m:\u001b[0m\u001b[0;34m\u001b[0m\u001b[0m\n\u001b[0m\u001b[1;32m      2\u001b[0m     \u001b[0;32mdef\u001b[0m \u001b[0m_dist_from_centers\u001b[0m\u001b[0;34m(\u001b[0m\u001b[0mself\u001b[0m\u001b[0;34m)\u001b[0m\u001b[0;34m:\u001b[0m\u001b[0;34m\u001b[0m\u001b[0m\n\u001b[1;32m      3\u001b[0m         \u001b[0mcent\u001b[0m \u001b[0;34m=\u001b[0m \u001b[0mself\u001b[0m\u001b[0;34m.\u001b[0m\u001b[0mmu\u001b[0m\u001b[0;34m\u001b[0m\u001b[0m\n\u001b[1;32m      4\u001b[0m         \u001b[0mX\u001b[0m \u001b[0;34m=\u001b[0m \u001b[0mself\u001b[0m\u001b[0;34m.\u001b[0m\u001b[0mX\u001b[0m\u001b[0;34m\u001b[0m\u001b[0m\n\u001b[1;32m      5\u001b[0m         \u001b[0mD2\u001b[0m \u001b[0;34m=\u001b[0m \u001b[0mnp\u001b[0m\u001b[0;34m.\u001b[0m\u001b[0marray\u001b[0m\u001b[0;34m(\u001b[0m\u001b[0;34m[\u001b[0m\u001b[0mmin\u001b[0m\u001b[0;34m(\u001b[0m\u001b[0;34m[\u001b[0m\u001b[0mnp\u001b[0m\u001b[0;34m.\u001b[0m\u001b[0mlinalg\u001b[0m\u001b[0;34m.\u001b[0m\u001b[0mnorm\u001b[0m\u001b[0;34m(\u001b[0m\u001b[0mx\u001b[0m\u001b[0;34m-\u001b[0m\u001b[0mc\u001b[0m\u001b[0;34m)\u001b[0m\u001b[0;34m**\u001b[0m\u001b[0;36m2\u001b[0m \u001b[0;32mfor\u001b[0m \u001b[0mc\u001b[0m \u001b[0;32min\u001b[0m \u001b[0mcent\u001b[0m\u001b[0;34m]\u001b[0m\u001b[0;34m)\u001b[0m \u001b[0;32mfor\u001b[0m \u001b[0mx\u001b[0m \u001b[0;32min\u001b[0m \u001b[0mX\u001b[0m\u001b[0;34m]\u001b[0m\u001b[0;34m)\u001b[0m\u001b[0;34m\u001b[0m\u001b[0m\n",
      "\u001b[0;31mNameError\u001b[0m: name 'KMeans' is not defined"
     ]
    }
   ],
   "source": [
    "class KPlusPlus(KMeans):\n",
    "    def _dist_from_centers(self):\n",
    "        cent = self.mu\n",
    "        X = self.X\n",
    "        D2 = np.array([min([np.linalg.norm(x-c)**2 for c in cent]) for x in X])\n",
    "        self.D2 = D2\n",
    " \n",
    "    def _choose_next_center(self):\n",
    "        self.probs = self.D2/self.D2.sum()\n",
    "        self.cumprobs = self.probs.cumsum()\n",
    "        r = random.random()\n",
    "        ind = np.where(self.cumprobs >= r)[0][0]\n",
    "        return(self.X[ind])\n",
    " \n",
    "    def init_centers(self):\n",
    "        self.mu = random.sample(self.X, 1)\n",
    "        while len(self.mu) < self.K:\n",
    "            self._dist_from_centers()\n",
    "            self.mu.append(self._choose_next_center())\n",
    " \n",
    "    def plot_init_centers(self, fig_size = (10,7)):\n",
    "        X = self.X\n",
    "        fig = plt.figure(figsize=(10,5))\n",
    "        plt.xlim(-1,1)\n",
    "        plt.ylim(-1,1)\n",
    "        plt.plot(zip(*X)[0], zip(*X)[1], '.', alpha=0.5)\n",
    "        plt.plot(zip(*self.mu)[0], zip(*self.mu)[1], 'ro')\n",
    "        plt.savefig('kpp_init_N%s_K%s.png' % (str(self.N),str(self.K)), \\\n",
    "                    bbox_inches='tight', dpi=200)"
   ]
  },
  {
   "cell_type": "code",
   "execution_count": 72,
   "metadata": {
    "collapsed": false,
    "deletable": true,
    "editable": true
   },
   "outputs": [
    {
     "data": {
      "image/png": "[encoded data removed]",
      "text/plain": [
       "<matplotlib.figure.Figure at 0xdd0d5f8>"
      ]
     },
     "metadata": {},
     "output_type": "display_data"
    }
   ],
   "source": [
    "kplusplus = KPlusPlus(5, N=200)\n",
    "kplusplus.init_centers()\n",
    "kplusplus.plot_init_centers(fig_size=(10,5))"
   ]
  },
  {
   "cell_type": "code",
   "execution_count": 75,
   "metadata": {
    "collapsed": false,
    "deletable": true,
    "editable": true
   },
   "outputs": [
    {
     "data": {
      "image/png": "[encoded data removed]",
      "text/plain": [
       "<matplotlib.figure.Figure at 0xc78b2b0>"
      ]
     },
     "metadata": {},
     "output_type": "display_data"
    },
    {
     "data": {
      "image/png": "[encoded data removed]",
      "text/plain": [
       "<matplotlib.figure.Figure at 0xdf2e7b8>"
      ]
     },
     "metadata": {},
     "output_type": "display_data"
    }
   ],
   "source": [
    "# Random initialization\n",
    "kplusplus.find_centers(method='random')\n",
    "kplusplus.plot_board(fig_size = (10,5))\n",
    "# k-means++ initialization\n",
    "kplusplus.find_centers(method='++')\n",
    "kplusplus.plot_board(fig_size = (10,5))"
   ]
  },
  {
   "cell_type": "markdown",
   "metadata": {
    "deletable": true,
    "editable": true
   },
   "source": [
    "-------\n",
    "<h1 align=\"center\">Кластеризация текстов</h1> \n",
    "\n",
    "\n",
    "##### Пример by V. Kantor\n",
    "--------\n",
    "** Вопросы:**\n",
    "- В чём задача кластеризации текстов? \n",
    "- Что является объектами (samples), что такое признаки для этих ообъектов?"
   ]
  },
  {
   "cell_type": "markdown",
   "metadata": {
    "deletable": true,
    "editable": true
   },
   "source": [
    "## Выборка"
   ]
  },
  {
   "cell_type": "code",
   "execution_count": 5,
   "metadata": {
    "collapsed": false,
    "deletable": true,
    "editable": true
   },
   "outputs": [],
   "source": [
    "from sklearn.datasets import fetch_20newsgroups"
   ]
  },
  {
   "cell_type": "code",
   "execution_count": 7,
   "metadata": {
    "collapsed": false,
    "deletable": true,
    "editable": true
   },
   "outputs": [
    {
     "name": "stdout",
     "output_type": "stream",
     "text": [
      "['alt.atheism', 'comp.graphics', 'comp.os.ms-windows.misc', 'comp.sys.ibm.pc.hardware', 'comp.sys.mac.hardware', 'comp.windows.x', 'misc.forsale', 'rec.autos', 'rec.motorcycles', 'rec.sport.baseball', 'rec.sport.hockey', 'sci.crypt', 'sci.electronics', 'sci.med', 'sci.space', 'soc.religion.christian', 'talk.politics.guns', 'talk.politics.mideast', 'talk.politics.misc', 'talk.religion.misc']\n"
     ]
    }
   ],
   "source": [
    "train_all = fetch_20newsgroups(subset='train')\n",
    "print (train_all.target_names)"
   ]
  },
  {
   "cell_type": "code",
   "execution_count": 8,
   "metadata": {
    "collapsed": true,
    "deletable": true,
    "editable": true
   },
   "outputs": [],
   "source": [
    "simple_dataset = fetch_20newsgroups(\n",
    "    subset='train', \n",
    "    categories=['comp.sys.mac.hardware', 'soc.religion.christian', 'rec.sport.hockey'])"
   ]
  },
  {
   "cell_type": "code",
   "execution_count": 9,
   "metadata": {
    "collapsed": false,
    "deletable": true,
    "editable": true
   },
   "outputs": [
    {
     "name": "stdout",
     "output_type": "stream",
     "text": [
      "From: erik@cheshire.oxy.edu (Erik Adams)\n",
      "Subject: HELP!!  My Macintosh \"luggable\" has lines on its screen!\n",
      "Organization: Occidental College, Los Angeles, CA 90041 USA.\n",
      "Distribution: comp\n",
      "Lines: 20\n",
      "\n",
      "Okay, I don't use it very much, but I would like for it to keep working\n",
      "correctly, at least as long as Apple continues to make System software\n",
      "that will run on it, if slowly :-)\n",
      "\n",
      "Here is the problem:  When the screen is tilted too far back, vertical\n",
      "lines appear on the screen.  They are every 10 pixels or so, and seem\n",
      "to be affected somewhat by opening windows and pulling down menus.\n",
      "It looks to a semi-technical person like there is a loose connection\n",
      "between the screen and the rest of the computer.\n",
      "\n",
      "I am open to suggestions that do not involve buying a new computer,\n",
      "or taking this one to the shop.  I would also like to not have\n",
      "to buy one of Larry Pina's books.  I like Larry, but I'm not sure\n",
      "I feel strongly enough about the computer to buy a service manual\n",
      "for it.\n",
      "\n",
      "On a related note:  what does the monitor connector connect to?\n",
      "\n",
      "Erik\n",
      "\n",
      "\n"
     ]
    }
   ],
   "source": [
    "print (simple_dataset.data[0])"
   ]
  },
  {
   "cell_type": "code",
   "execution_count": 10,
   "metadata": {
    "collapsed": false,
    "deletable": true,
    "editable": true
   },
   "outputs": [
    {
     "name": "stdout",
     "output_type": "stream",
     "text": [
      "From: dlecoint@garnet.acns.fsu.edu (Darius_Lecointe)\n",
      "Subject: Re: Sabbath Admissions 5of5\n",
      "Organization: Florida State University\n",
      "Lines: 21\n",
      "\n",
      "I find it interesting that cls never answered any of the questions posed. \n",
      "Then he goes on the make statements which make me shudder.  He has\n",
      "established a two-tiered God.  One set of rules for the Jews (his people)\n",
      "and another set for the saved Gentiles (his people).  Why would God\n",
      "discriminate?  Does the Jew who accepts Jesus now have to live under the\n",
      "Gentile rules.\n",
      "\n",
      "God has one set of rules for all his people.  Paul was never against the\n",
      "law.  In fact he says repeatedly that faith establishes rather that annuls\n",
      "the law.  Paul's point is germane to both Jews and Greeks.  The Law can\n",
      "never be used as an instrument of salvation.  And please do not combine\n",
      "the ceremonial and moral laws in one.\n",
      "\n",
      "In Matt 5:14-19 Christ plainly says what He came to do and you say He was\n",
      "only saying that for the Jews's benefit.  Your Christ must be a\n",
      "politician, speaking from both sides of His mouth.  As Paul said, \"I have\n",
      "not so learned Christ.\"  Forget all the theology, just do what Jesus says.\n",
      " Your excuses will not hold up in a court of law on earth, far less in\n",
      "God's judgement hall.\n",
      "\n",
      "Darius\n",
      "\n"
     ]
    }
   ],
   "source": [
    "print (simple_dataset.data[-1])"
   ]
  },
  {
   "cell_type": "code",
   "execution_count": 11,
   "metadata": {
    "collapsed": false,
    "deletable": true,
    "editable": true
   },
   "outputs": [
    {
     "name": "stdout",
     "output_type": "stream",
     "text": [
      "From: scialdone@nssdca.gsfc.nasa.gov (John Scialdone)\n",
      "Subject: CUT Vukota and Pilon!!!\n",
      "News-Software: VAX/VMS VNEWS 1.41    \n",
      "Organization: NASA - Goddard Space Flight Center\n",
      "Lines: 32\n",
      "\n",
      "I have been to all 3 Isles/Caps tilts at the Crap Centre this year, all Isles\n",
      "wins and there is no justification for Vukota and Pilon to play for the Isles.\n",
      "Vukota is absolutely the worst puck handler in the world!! He couldn't hit a\n",
      "bull in the ass with a banjo!! Al must remember a few years back when Mick \n",
      "scored 3 goals in one period against the Caps in a 5-3 Isles win. I was there\n",
      "and was astonished as was the rest of the crowd. Wake-up Al!!! Years later he's\n",
      "gotten worse. He's a cheap shot artist and always ends up getting\n",
      "stupid/senseless penalties. I think he would make a good police officier!!!\n",
      "\n",
      "As for Pilon, he can't carry the puck out to center ice by himself. He either\n",
      "makes a bad pass resulting in a turnover, or he attempts to bring the puck \n",
      "towards the neutral zone and skates right into an opposing skater. He can't\n",
      "stay on his skates with most forwards or centers. He either falls down or \n",
      "committs a penalty. Call up somebody from Capital District AL!!!!!\n",
      "\n",
      "As far as the playoffs, the Isles are as difficult to figure out as the Caps.\n",
      "Two good teams with talent but so inconsistent. They should meet in the first\n",
      "round. The Isles seem to play up to the level of their competition so they\n",
      "should play well against Jersey tonite. It'll probably be another tight 1-goal\n",
      "game as the last 20 games hve been for the Isles. I wish when the get a lead\n",
      "they could continue to pour it on instead of settling back into a defensive\n",
      "shell and letting the opposition get back in the game. Al MUST understand he\n",
      "can't do with this team what he did with the 80-83 Isles. maybe Al should got\n",
      "to. Where is Bobby Nystrom?? Clark Gilles?? John Tonelli?? These are the kind\n",
      "of young minds we need behing the bench!!    FIRE AL!!!!\n",
      "\n",
      "John Scialdone\n",
      "SCIALDONE@NSSDCA.GSFC.NASA.GOV\n",
      "\n",
      "**********When your ship comes in, first man takes the Sail********************\n",
      "\n",
      "\n",
      "\n"
     ]
    }
   ],
   "source": [
    "print (simple_dataset.data[-2])"
   ]
  },
  {
   "cell_type": "code",
   "execution_count": 12,
   "metadata": {
    "collapsed": false,
    "deletable": true,
    "editable": true
   },
   "outputs": [
    {
     "name": "stdout",
     "output_type": "stream",
     "text": [
      "1777\n"
     ]
    }
   ],
   "source": [
    "print (len(simple_dataset.data))"
   ]
  },
  {
   "cell_type": "markdown",
   "metadata": {
    "deletable": true,
    "editable": true
   },
   "source": [
    "### Признаки"
   ]
  },
  {
   "cell_type": "code",
   "execution_count": 13,
   "metadata": {
    "collapsed": false,
    "deletable": true,
    "editable": true
   },
   "outputs": [
    {
     "data": {
      "text/plain": [
       "(1777, 3767)"
      ]
     },
     "execution_count": 13,
     "metadata": {},
     "output_type": "execute_result"
    }
   ],
   "source": [
    "from sklearn.feature_extraction.text import CountVectorizer, TfidfVectorizer\n",
    "\n",
    "vectorizer = TfidfVectorizer(max_df=500, min_df=10)\n",
    "matrix = vectorizer.fit_transform(simple_dataset.data)\n",
    "matrix.shape"
   ]
  },
  {
   "cell_type": "markdown",
   "metadata": {
    "deletable": true,
    "editable": true
   },
   "source": [
    "## Аггломеративная кластеризация (neighbour joining)"
   ]
  },
  {
   "cell_type": "code",
   "execution_count": 29,
   "metadata": {
    "collapsed": false,
    "deletable": true,
    "editable": true
   },
   "outputs": [],
   "source": [
    "from sklearn.cluster.hierarchical import AgglomerativeClustering\n",
    "\n",
    "model = AgglomerativeClustering(n_clusters=3, affinity='cosine', linkage='complete')\n",
    "preds = model.fit_predict(matrix.toarray())"
   ]
  },
  {
   "cell_type": "code",
   "execution_count": 30,
   "metadata": {
    "collapsed": false,
    "deletable": true,
    "editable": true,
    "scrolled": false
   },
   "outputs": [
    {
     "name": "stdout",
     "output_type": "stream",
     "text": [
      "[0, 0, 0, 0, 0, 0, 0, 0, 0, 0, 0, 0, 0, 0, 0, 0, 0, 0, 0, 0, 0, 0, 0, 2, 0, 0, 0, 0, 0, 0, 0, 0, 0, 0, 0, 0, 0, 0, 0, 0, 0, 0, 0, 0, 0, 0, 0, 0, 0, 0, 0, 0, 0, 0, 0, 0, 0, 0, 0, 0, 0, 0, 0, 0, 0, 0, 0, 0, 0, 0, 0, 0, 0, 0, 0, 0, 0, 0, 0, 0, 0, 0, 0, 0, 0, 0, 0, 0, 0, 0, 0, 0, 0, 0, 0, 0, 0, 0, 0, 0, 0, 0, 0, 0, 0, 0, 0, 0, 0, 0, 0, 0, 0, 0, 0, 0, 0, 0, 0, 0, 0, 0, 0, 0, 0, 0, 0, 1, 0, 0, 0, 0, 0, 0, 0, 0, 0, 0, 0, 0, 0, 0, 0, 0, 0, 0, 0, 0, 0, 0, 0, 0, 0, 0, 0, 0, 0, 0, 0, 0, 0, 0, 0, 0, 0, 0, 0, 0, 0, 0, 0, 0, 0, 0, 0, 0, 0, 0, 0, 1, 0, 0, 0, 0, 0, 0, 0, 0, 0, 0, 0, 0, 0, 0, 0, 0, 0, 0, 0, 0, 0, 0, 0, 0, 0, 0, 0, 0, 0, 0, 0, 0, 0, 0, 0, 0, 0, 0, 0, 0, 0, 0, 0, 0, 0, 0, 0, 0, 0, 2, 0, 0, 0, 0, 0, 0, 0, 0, 0, 0, 0, 0, 0, 0, 0, 0, 0, 0, 0, 0, 0, 0, 0, 0, 0, 0, 0, 0, 0, 0, 0, 0, 0, 0, 0, 0, 0, 0, 0, 0, 0, 0, 0, 0, 0, 0, 0, 0, 0, 0, 0, 1, 0, 0, 0, 0, 2, 0, 0, 0, 0, 2, 0, 0, 0, 0, 0, 0, 0, 0, 0, 0, 0, 0, 0, 0, 0, 0, 0, 0, 0, 0, 0, 0, 0, 0, 0, 0, 0, 0, 0, 0, 0, 0, 0, 0, 0, 0, 0, 0, 0, 0, 0, 0, 0, 0, 0, 0, 0, 0, 0, 0, 0, 0, 0, 0, 0, 0, 0, 0, 0, 0, 0, 0, 0, 0, 0, 0, 0, 0, 0, 0, 0, 0, 0, 0, 0, 0, 0, 0, 0, 0, 0, 0, 0, 0, 0, 0, 1, 0, 0, 0, 0, 0, 0, 0, 0, 0, 0, 0, 0, 0, 0, 0, 0, 0, 0, 0, 0, 0, 0, 0, 0, 0, 0, 0, 0, 0, 0, 0, 0, 0, 0, 2, 0, 0, 0, 0, 0, 0, 0, 0, 0, 0, 0, 0, 0, 0, 0, 0, 0, 0, 0, 0, 0, 0, 0, 0, 0, 0, 0, 0, 0, 0, 0, 0, 0, 0, 0, 0, 0, 0, 0, 0, 0, 0, 0, 0, 0, 0, 0, 0, 0, 0, 0, 0, 0, 0, 0, 0, 0, 0, 0, 0, 0, 0, 0, 0, 0, 0, 0, 0, 0, 0, 0, 0, 0, 0, 0, 0, 0, 0, 0, 0, 0, 0, 0, 0, 0, 0, 0, 0, 0, 0, 0, 0, 0, 0, 0, 0, 0, 0, 0, 0, 0, 0, 0, 0, 0, 1, 0, 0, 0, 0, 0, 0, 0, 0, 0, 0, 0, 0, 0, 0, 0, 0, 0, 0, 0, 0, 0, 0, 0, 0, 0, 0, 0, 0, 0, 0, 0, 0, 0, 0, 0, 2, 0, 0, 0, 0, 0, 0, 0, 0, 0, 0, 0, 1, 0, 0, 0, 0, 0, 0, 0, 0, 0, 0, 0, 0, 0, 0, 0, 0, 0, 0, 0, 0, 0, 0, 0, 0, 0, 0, 0, 0, 0, 0, 0, 0, 0, 0, 0, 0, 0, 0, 0, 0, 0, 0, 0, 0, 0, 0, 0, 0, 0, 0, 0, 0, 0, 0, 0, 0, 0, 0, 0, 2, 0, 0, 0, 0, 0, 0, 0, 0, 0, 0, 0, 1, 0, 0, 0, 0, 0, 0, 0, 0, 0, 0, 0, 0, 0, 0, 0, 0, 0, 0, 0, 0, 0, 0, 0, 0, 0, 0, 0, 0, 0, 0, 0, 2, 0, 0, 0, 0, 1, 0, 0, 0, 0, 0, 0, 0, 0, 0, 0, 0, 0, 0, 0, 0, 0, 0, 0, 0, 0, 0, 0, 0, 0, 0, 0, 0, 0, 0, 0, 0, 0, 0, 0, 0, 0, 0, 0, 0, 0, 0, 0, 0, 0, 0, 0, 0, 0, 0, 0, 0, 0, 0, 0, 0, 0, 0, 0, 0, 0, 0, 0, 0, 0, 2, 0, 0, 0, 0, 0, 0, 0, 0, 0, 2, 0, 0, 0, 0, 0, 0, 0, 0, 0, 0, 0, 0, 0, 0, 0, 0, 0, 0, 0, 0, 0, 0, 0, 0, 0, 0, 0, 0, 0, 0, 0, 0, 0, 0, 0, 0, 0, 0, 0, 0, 0, 0, 0, 0, 0, 0, 0, 0, 0, 0, 0, 0, 0, 0, 0, 0, 0, 0, 0, 0, 0, 0, 0, 0, 0, 0, 0, 0, 0, 0, 0, 0, 0, 0, 0, 0, 0, 0, 0, 0, 0, 0, 0, 0, 0, 0, 0, 0, 0, 0, 0, 0, 0, 0, 0, 0, 0, 0, 0, 0, 0, 0, 0, 0, 0, 1, 0, 0, 0, 0, 0, 0, 0, 0, 0, 0, 0, 0, 0, 0, 0, 0, 0, 0, 0, 0, 0, 0, 0, 0, 0, 0, 0, 0, 0, 0, 0, 0, 0, 0, 0, 0, 2, 0, 0, 0, 0, 0, 0, 0, 0, 0, 0, 0, 0, 0, 0, 0, 0, 1, 0, 0, 0, 0, 0, 0, 0, 0, 0, 0, 0, 0, 0, 0, 0, 0, 0, 0, 0, 0, 0, 0, 0, 0, 0, 0, 0, 0, 0, 0, 0, 0, 0, 0, 0, 0, 0, 0, 0, 0, 0, 0, 0, 0, 0, 0, 0, 0, 0, 0, 0, 0, 0, 0, 0, 0, 0, 0, 0, 0, 0, 0, 1, 0, 0, 0, 0, 0, 0, 0, 0, 0, 0, 0, 0, 0, 0, 0, 0, 0, 0, 0, 0, 0, 0, 0, 0, 0, 0, 0, 0, 0, 0, 0, 0, 0, 0, 0, 0, 0, 0, 0, 0, 0, 0, 0, 0, 2, 0, 0, 0, 0, 0, 0, 0, 0, 0, 0, 0, 0, 0, 0, 0, 0, 0, 0, 0, 0, 0, 0, 0, 0, 0, 0, 0, 0, 0, 0, 0, 0, 0, 0, 0, 0, 0, 0, 0, 0, 0, 0, 0, 0, 0, 0, 0, 0, 0, 0, 0, 0, 0, 0, 0, 0, 0, 0, 0, 0, 0, 0, 0, 0, 0, 0, 0, 0, 0, 0, 0, 0, 0, 0, 0, 0, 0, 0, 0, 0, 0, 0, 0, 0, 0, 0, 0, 0, 0, 0, 0, 0, 0, 0, 0, 0, 0, 0, 0, 0, 0, 0, 0, 0, 0, 0, 0, 0, 0, 0, 0, 0, 0, 0, 0, 0, 0, 0, 0, 0, 0, 0, 0, 0, 0, 0, 0, 0, 0, 0, 0, 0, 0, 0, 0, 0, 0, 0, 0, 0, 0, 2, 0, 0, 0, 0, 0, 0, 0, 0, 0, 0, 0, 0, 0, 0, 0, 0, 0, 0, 0, 0, 0, 0, 0, 0, 0, 0, 0, 0, 0, 0, 0, 0, 0, 0, 0, 0, 0, 0, 0, 0, 0, 0, 0, 0, 0, 0, 0, 0, 0, 0, 0, 0, 0, 0, 0, 0, 0, 0, 0, 0, 0, 0, 0, 0, 0, 0, 0, 0, 0, 0, 0, 0, 0, 0, 0, 0, 0, 0, 0, 0, 0, 0, 0, 0, 0, 0, 0, 0, 0, 0, 0, 0, 0, 0, 0, 0, 0, 0, 0, 0, 0, 0, 0, 0, 0, 0, 0, 0, 0, 0, 0, 0, 0, 0, 0, 0, 0, 0, 0, 0, 0, 0, 0, 0, 0, 0, 0, 0, 0, 0, 0, 0, 0, 0, 0, 0, 0, 0, 0, 0, 0, 0, 0, 0, 0, 0, 0, 0, 0, 0, 0, 0, 0, 0, 0, 0, 0, 0, 0, 0, 0, 0, 0, 0, 0, 0, 0, 0, 0, 0, 0, 0, 0, 0, 0, 0, 0, 0, 0, 2, 0, 0, 0, 0, 0, 0, 0, 0, 0, 0, 0, 0, 0, 0, 0, 0, 0, 0, 0, 0, 0, 0, 0, 0, 0, 0, 0, 0, 0, 0, 0, 0, 0, 0, 0, 0, 0, 0, 0, 0, 0, 0, 0, 0, 0, 0, 0, 0, 0, 0, 0, 0, 0, 0, 0, 0, 0, 0, 0, 0, 0, 0, 0, 0, 0, 0, 0, 0, 0, 0, 0, 0, 0, 1, 0, 0, 0, 0, 0, 0, 0, 0, 0, 0, 0, 0, 0, 0, 0, 0, 0, 0, 0, 0, 0, 0, 0, 0, 0, 0, 0, 0, 0, 0, 0, 0, 0, 0, 0, 0, 0, 0, 0, 0, 0, 0, 0, 0, 0, 0, 0, 0, 0, 0, 0, 0, 0, 0, 0, 0, 0, 0, 0, 0, 0, 0, 0, 0, 0, 0, 0, 0, 0, 0, 0, 0, 0, 0, 0, 0, 0, 0, 0, 0, 0, 0, 0, 0, 0, 0, 0, 0, 0, 0, 0, 0, 0, 0, 0, 0, 0, 0, 0, 0, 0, 0, 0, 0, 2, 0, 0, 0, 0, 0, 0, 0, 0, 0, 0, 0, 0, 0, 0, 0, 0, 0, 0, 0, 0, 0, 0, 0, 0, 0, 0, 0, 0, 0, 0, 0, 0, 0, 0, 0, 0, 0, 0, 0, 0, 0, 0, 0, 0, 0, 0, 0, 0, 0, 0, 0, 0, 0, 0, 0, 0, 0, 0, 0, 0, 0, 0, 0, 0, 0, 0, 0, 0, 0, 0, 0, 0, 0, 0, 0, 0, 0, 0, 0, 0, 0, 0, 2, 0, 0, 0, 0, 0, 0, 0, 0, 0, 0, 0, 0, 0, 0, 0, 0, 0, 0, 0, 0, 1, 0, 0, 0, 0, 0, 0, 0, 0, 0, 0, 0, 0, 0, 0, 0, 0, 0, 0, 0, 0, 0, 0, 0, 0, 0, 0, 0, 0, 0, 0, 0, 0, 0, 0, 0, 0, 0, 0, 0, 0, 0, 0, 0, 0, 0, 0, 0, 0, 0, 0, 0, 0, 0, 0, 0, 0, 0, 0, 0, 0, 0, 0, 0, 0, 0, 0, 0, 0, 0, 0, 0, 0, 0, 0, 0, 0, 0, 0, 0, 0, 0, 0, 0, 0, 2, 0, 0, 0, 0, 0, 0, 0, 0, 0, 0, 0, 0, 0, 0, 0, 0, 0, 0, 0, 0, 0, 1, 0, 0, 2, 0, 0, 0, 0, 0, 0, 0, 0, 0, 0, 2, 0, 1, 0, 0, 0, 0, 0]\n"
     ]
    }
   ],
   "source": [
    "print(list(preds))"
   ]
  },
  {
   "cell_type": "code",
   "execution_count": 31,
   "metadata": {
    "collapsed": false,
    "deletable": true,
    "editable": true,
    "scrolled": true
   },
   "outputs": [
    {
     "name": "stdout",
     "output_type": "stream",
     "text": [
      "  (0, 2927)\t0.175137049773\n",
      "  (0, 1956)\t0.112814345953\n",
      "  (0, 2434)\t0.204033026964\n",
      "  (0, 347)\t0.0614394135045\n",
      "  (0, 1517)\t0.0671574255969\n",
      "  (0, 1369)\t0.258014006227\n",
      "  (0, 968)\t0.492658745753\n",
      "  (0, 1010)\t0.235895972201\n",
      "  (0, 1457)\t0.279740621783\n",
      "  (0, 1586)\t0.0356413444126\n",
      "  (0, 1727)\t0.0997292064079\n",
      "  (0, 1525)\t0.195814530042\n",
      "  (0, 2497)\t0.14842000324\n",
      "  (0, 2392)\t0.0298217692148\n",
      "  (0, 852)\t0.0383996998163\n",
      "  (0, 1513)\t0.0462487254849\n",
      "  (0, 2780)\t0.0417585099188\n",
      "  (0, 133)\t0.0446272924537\n",
      "  (0, 1375)\t0.0509860762517\n",
      "  (0, 2513)\t0.0428020144557\n",
      "  (0, 1891)\t0.0350185924907\n",
      "  (0, 1496)\t0.0371185912926\n",
      "  (0, 1427)\t0.0289246043733\n",
      "  (0, 345)\t0.0509860762517\n",
      "  (0, 1140)\t0.164343156678\n",
      "  :\t:\n",
      "  (0, 1734)\t0.0481364029785\n",
      "  (0, 2825)\t0.0496519132591\n",
      "  (0, 1026)\t0.0852102379609\n",
      "  (0, 1871)\t0.113206985806\n",
      "  (0, 969)\t0.0583790165909\n",
      "  (0, 3118)\t0.0331998488464\n",
      "  (0, 318)\t0.041140532341\n",
      "  (0, 2728)\t0.059592570054\n",
      "  (0, 2559)\t0.103572531979\n",
      "  (0, 2379)\t0.12390282713\n",
      "  (0, 1635)\t0.0591736837165\n",
      "  (0, 2806)\t0.0335947939889\n",
      "  (0, 1509)\t0.0467973103454\n",
      "  (0, 2050)\t0.0306902114833\n",
      "  (0, 1447)\t0.154192442613\n",
      "  (0, 682)\t0.0583790165909\n",
      "  (0, 1288)\t0.0619514135652\n",
      "  (0, 2015)\t0.0461155667207\n",
      "  (0, 2231)\t0.0318960579506\n",
      "  (0, 2948)\t0.0431038161274\n",
      "  (0, 1139)\t0.0529654655241\n",
      "  (0, 3113)\t0.0491242742214\n",
      "  (0, 577)\t0.0591736837165\n",
      "  (0, 2803)\t0.0503952747105\n",
      "  (0, 1064)\t0.0371793729894\n"
     ]
    }
   ],
   "source": [
    "print(matrix[0])"
   ]
  },
  {
   "cell_type": "code",
   "execution_count": 32,
   "metadata": {
    "collapsed": false,
    "deletable": true,
    "editable": true
   },
   "outputs": [
    {
     "data": {
      "text/plain": [
       "[u'00',\n",
       " u'000',\n",
       " u'01',\n",
       " u'02',\n",
       " u'03',\n",
       " u'030',\n",
       " u'04',\n",
       " u'040',\n",
       " u'05',\n",
       " u'06',\n",
       " u'07',\n",
       " u'08',\n",
       " u'09',\n",
       " u'0_',\n",
       " u'0d',\n",
       " u'0i',\n",
       " u'0l',\n",
       " u'0m',\n",
       " u'0p',\n",
       " u'0q',\n",
       " u'0qax',\n",
       " u'0t',\n",
       " u'0u',\n",
       " u'10',\n",
       " u'100',\n",
       " u'1000',\n",
       " u'1024',\n",
       " u'1024x768',\n",
       " u'1024x768x256',\n",
       " u'105',\n",
       " u'11',\n",
       " u'12',\n",
       " u'120',\n",
       " u'128',\n",
       " u'129',\n",
       " u'13',\n",
       " u'130',\n",
       " u'132',\n",
       " u'134',\n",
       " u'137',\n",
       " u'14',\n",
       " u'140',\n",
       " u'145',\n",
       " u'147',\n",
       " u'15',\n",
       " u'150',\n",
       " u'16',\n",
       " u'160',\n",
       " u'16mb',\n",
       " u'17',\n",
       " u'170',\n",
       " u'18',\n",
       " u'180',\n",
       " u'19',\n",
       " u'192',\n",
       " u'1989',\n",
       " u'199',\n",
       " u'1992',\n",
       " u'1993',\n",
       " u'1993apr15',\n",
       " u'1993apr16',\n",
       " u'1993apr17',\n",
       " u'1993apr19',\n",
       " u'1993apr20',\n",
       " u'1993apr22',\n",
       " u'1993apr5',\n",
       " u'1993apr6',\n",
       " u'1a',\n",
       " u'1d',\n",
       " u'1d17',\n",
       " u'1d20',\n",
       " u'1d9',\n",
       " u'1d9l',\n",
       " u'1eq',\n",
       " u'1f',\n",
       " u'1fp',\n",
       " u'1fpl',\n",
       " u'1k',\n",
       " u'1m',\n",
       " u'1mb',\n",
       " u'1o',\n",
       " u'1p',\n",
       " u'1s',\n",
       " u'1st',\n",
       " u'1t',\n",
       " u'1v',\n",
       " u'1w',\n",
       " u'20',\n",
       " u'200',\n",
       " u'2000',\n",
       " u'201',\n",
       " u'21',\n",
       " u'210',\n",
       " u'216',\n",
       " u'22',\n",
       " u'23',\n",
       " u'230',\n",
       " u'24',\n",
       " u'2400',\n",
       " u'241',\n",
       " u'24bit',\n",
       " u'24x',\n",
       " u'25',\n",
       " u'250',\n",
       " u'255',\n",
       " u'256',\n",
       " u'256k',\n",
       " u'25mhz',\n",
       " u'26',\n",
       " u'27',\n",
       " u'28',\n",
       " u'286',\n",
       " u'29',\n",
       " u'2a',\n",
       " u'2d',\n",
       " u'2f',\n",
       " u'2j',\n",
       " u'2l',\n",
       " u'2m',\n",
       " u'2mb',\n",
       " u'2nd',\n",
       " u'2p',\n",
       " u'2tg',\n",
       " u'2tm',\n",
       " u'2u',\n",
       " u'2v',\n",
       " u'2x',\n",
       " u'30',\n",
       " u'300',\n",
       " u'3000',\n",
       " u'301',\n",
       " u'31',\n",
       " u'312',\n",
       " u'32',\n",
       " u'320',\n",
       " u'320x200x256',\n",
       " u'33',\n",
       " u'33mhz',\n",
       " u'34',\n",
       " u'34u',\n",
       " u'35',\n",
       " u'36',\n",
       " u'37',\n",
       " u'38',\n",
       " u'386',\n",
       " u'386sx',\n",
       " u'39',\n",
       " u'3a',\n",
       " u'3c',\n",
       " u'3d',\n",
       " u'3do',\n",
       " u'3ds',\n",
       " u'3dy',\n",
       " u'3k',\n",
       " u'3l',\n",
       " u'3q',\n",
       " u'3rd',\n",
       " u'3t',\n",
       " u'40',\n",
       " u'400',\n",
       " u'408',\n",
       " u'41',\n",
       " u'415',\n",
       " u'416',\n",
       " u'42',\n",
       " u'43',\n",
       " u'44',\n",
       " u'45',\n",
       " u'46',\n",
       " u'47',\n",
       " u'48',\n",
       " u'480',\n",
       " u'486',\n",
       " u'486dx',\n",
       " u'49',\n",
       " u'4a',\n",
       " u'4b',\n",
       " u'4c',\n",
       " u'4e',\n",
       " u'4h',\n",
       " u'4k',\n",
       " u'4l',\n",
       " u'4m',\n",
       " u'4mb',\n",
       " u'4s',\n",
       " u'4t',\n",
       " u'4u',\n",
       " u'50',\n",
       " u'500',\n",
       " u'5000',\n",
       " u'503',\n",
       " u'51',\n",
       " u'510',\n",
       " u'512',\n",
       " u'512k',\n",
       " u'52',\n",
       " u'53',\n",
       " u'54',\n",
       " u'55',\n",
       " u'56',\n",
       " u'57',\n",
       " u'58',\n",
       " u'59',\n",
       " u'5g',\n",
       " u'5m',\n",
       " u'5s',\n",
       " u'5u',\n",
       " u'60',\n",
       " u'600',\n",
       " u'604',\n",
       " u'61',\n",
       " u'610',\n",
       " u'617',\n",
       " u'619',\n",
       " u'62',\n",
       " u'63',\n",
       " u'64',\n",
       " u'640',\n",
       " u'640x480',\n",
       " u'64k',\n",
       " u'65',\n",
       " u'650',\n",
       " u'66',\n",
       " u'66mhz',\n",
       " u'67',\n",
       " u'68',\n",
       " u'68000',\n",
       " u'68030',\n",
       " u'68040',\n",
       " u'68060',\n",
       " u'680x0',\n",
       " u'69',\n",
       " u'6e',\n",
       " u'6ei',\n",
       " u'6ei4',\n",
       " u'6f',\n",
       " u'6g',\n",
       " u'6k',\n",
       " u'6l',\n",
       " u'6t',\n",
       " u'6um',\n",
       " u'6v',\n",
       " u'70',\n",
       " u'700',\n",
       " u'7000',\n",
       " u'71',\n",
       " u'72',\n",
       " u'73',\n",
       " u'734',\n",
       " u'74',\n",
       " u'75',\n",
       " u'75u',\n",
       " u'76',\n",
       " u'768',\n",
       " u'77',\n",
       " u'78',\n",
       " u'79',\n",
       " u'7ex',\n",
       " u'7ey',\n",
       " u'7klj',\n",
       " u'7kn',\n",
       " u'7u',\n",
       " u'80',\n",
       " u'800',\n",
       " u'800x600',\n",
       " u'801',\n",
       " u'80ns',\n",
       " u'81',\n",
       " u'82',\n",
       " u'83',\n",
       " u'84',\n",
       " u'85',\n",
       " u'8514',\n",
       " u'86',\n",
       " u'87',\n",
       " u'88',\n",
       " u'89',\n",
       " u'8k',\n",
       " u'8m',\n",
       " u'8mb',\n",
       " u'8n',\n",
       " u'8v',\n",
       " u'90',\n",
       " u'900',\n",
       " u'91',\n",
       " u'92',\n",
       " u'93',\n",
       " u'94',\n",
       " u'95',\n",
       " u'950',\n",
       " u'96',\n",
       " u'9600',\n",
       " u'97',\n",
       " u'9760',\n",
       " u'98',\n",
       " u'99',\n",
       " u'9d',\n",
       " u'9f',\n",
       " u'9f9',\n",
       " u'9f9f',\n",
       " u'9l',\n",
       " u'9l3',\n",
       " u'9p',\n",
       " u'9s',\n",
       " u'9v',\n",
       " u'9x',\n",
       " u'__',\n",
       " u'___',\n",
       " u'____',\n",
       " u'_____',\n",
       " u'_________',\n",
       " u'_d',\n",
       " u'_o',\n",
       " u'_q',\n",
       " u'a2',\n",
       " u'a86',\n",
       " u'ab',\n",
       " u'ability',\n",
       " u'able',\n",
       " u'above',\n",
       " u'absolutely',\n",
       " u'ac',\n",
       " u'academic',\n",
       " u'acc',\n",
       " u'accelerated',\n",
       " u'accelerator',\n",
       " u'accelerators',\n",
       " u'accept',\n",
       " u'acceptable',\n",
       " u'access',\n",
       " u'according',\n",
       " u'account',\n",
       " u'ace',\n",
       " u'acm',\n",
       " u'acns',\n",
       " u'across',\n",
       " u'acs',\n",
       " u'active',\n",
       " u'actual',\n",
       " u'actually',\n",
       " u'ad',\n",
       " u'adams',\n",
       " u'adapter',\n",
       " u'adaptor',\n",
       " u'adb',\n",
       " u'add',\n",
       " u'added',\n",
       " u'adding',\n",
       " u'addition',\n",
       " u'additional',\n",
       " u'address',\n",
       " u'addresses',\n",
       " u'addressing',\n",
       " u'admin',\n",
       " u'admit',\n",
       " u'adobe',\n",
       " u'ads',\n",
       " u'advance',\n",
       " u'advanced',\n",
       " u'advantage',\n",
       " u'advice',\n",
       " u'ae',\n",
       " u'af',\n",
       " u'afford',\n",
       " u'after',\n",
       " u'again',\n",
       " u'against',\n",
       " u'ago',\n",
       " u'agree',\n",
       " u'ah',\n",
       " u'ahead',\n",
       " u'ai',\n",
       " u'aim',\n",
       " u'air',\n",
       " u'ak',\n",
       " u'al',\n",
       " u'ala',\n",
       " u'alan',\n",
       " u'alexander',\n",
       " u'algorithm',\n",
       " u'algorithms',\n",
       " u'all',\n",
       " u'allen',\n",
       " u'allow',\n",
       " u'allowed',\n",
       " u'allows',\n",
       " u'almost',\n",
       " u'alone',\n",
       " u'along',\n",
       " u'alpha',\n",
       " u'already',\n",
       " u'also',\n",
       " u'alt',\n",
       " u'alternative',\n",
       " u'although',\n",
       " u'always',\n",
       " u'am',\n",
       " u'america',\n",
       " u'american',\n",
       " u'ames',\n",
       " u'amiga',\n",
       " u'among',\n",
       " u'amount',\n",
       " u'analog',\n",
       " u'analysis',\n",
       " u'andre',\n",
       " u'andrew',\n",
       " u'andy',\n",
       " u'angeles',\n",
       " u'animation',\n",
       " u'ann',\n",
       " u'announce',\n",
       " u'announced',\n",
       " u'annoying',\n",
       " u'anonymous',\n",
       " u'another',\n",
       " u'answer',\n",
       " u'answers',\n",
       " u'anti',\n",
       " u'anybody',\n",
       " u'anymore',\n",
       " u'anyone',\n",
       " u'anything',\n",
       " u'anyway',\n",
       " u'anywhere',\n",
       " u'ap',\n",
       " u'apart',\n",
       " u'api',\n",
       " u'app',\n",
       " u'apparently',\n",
       " u'appear',\n",
       " u'appears',\n",
       " u'apple',\n",
       " u'applelink',\n",
       " u'appletalk',\n",
       " u'application',\n",
       " u'applications',\n",
       " u'applied',\n",
       " u'apply',\n",
       " u'appreciate',\n",
       " u'appreciated',\n",
       " u'approach',\n",
       " u'appropriate',\n",
       " u'apps',\n",
       " u'apr',\n",
       " u'april',\n",
       " u'arbitrary',\n",
       " u'arbor',\n",
       " u'arc',\n",
       " u'archie',\n",
       " u'architecture',\n",
       " u'architectures',\n",
       " u'archive',\n",
       " u'area',\n",
       " u'aren',\n",
       " u'arizona',\n",
       " u'around',\n",
       " u'art',\n",
       " u'arthur',\n",
       " u'articles',\n",
       " u'arts',\n",
       " u'ascii',\n",
       " u'ask',\n",
       " u'asked',\n",
       " u'asking',\n",
       " u'aspects',\n",
       " u'assembly',\n",
       " u'association',\n",
       " u'assume',\n",
       " u'assuming',\n",
       " u'ati',\n",
       " u'atm',\n",
       " u'att',\n",
       " u'attached',\n",
       " u'attention',\n",
       " u'au',\n",
       " u'audio',\n",
       " u'august',\n",
       " u'austin',\n",
       " u'australia',\n",
       " u'author',\n",
       " u'authors',\n",
       " u'autoexec',\n",
       " u'automatic',\n",
       " u'automatically',\n",
       " u'available',\n",
       " u'ave',\n",
       " u'avenue',\n",
       " u'average',\n",
       " u'avoid',\n",
       " u'aw',\n",
       " u'aware',\n",
       " u'away',\n",
       " u'awful',\n",
       " u'ax',\n",
       " u'ay',\n",
       " u'az',\n",
       " u'b8',\n",
       " u'b8e',\n",
       " u'b8f',\n",
       " u'back',\n",
       " u'background',\n",
       " u'backup',\n",
       " u'bad',\n",
       " u'bailey',\n",
       " u'ball',\n",
       " u'bank',\n",
       " u'bar',\n",
       " u'base',\n",
       " u'based',\n",
       " u'basic',\n",
       " u'basically',\n",
       " u'bat',\n",
       " u'batch',\n",
       " u'battery',\n",
       " u'baud',\n",
       " u'bay',\n",
       " u'bbs',\n",
       " u'bc',\n",
       " u'bcstec',\n",
       " u'because',\n",
       " u'become',\n",
       " u'becomes',\n",
       " u'been',\n",
       " u'before',\n",
       " u'begin',\n",
       " u'beginning',\n",
       " u'behind',\n",
       " u'being',\n",
       " u'believe',\n",
       " u'bell',\n",
       " u'below',\n",
       " u'benchmark',\n",
       " u'berkeley',\n",
       " u'berlin',\n",
       " u'bernoulli',\n",
       " u'besides',\n",
       " u'best',\n",
       " u'bet',\n",
       " u'beta',\n",
       " u'better',\n",
       " u'between',\n",
       " u'beyond',\n",
       " u'bezier',\n",
       " u'bhj',\n",
       " u'bhjn',\n",
       " u'big',\n",
       " u'bigger',\n",
       " u'bill',\n",
       " u'binary',\n",
       " u'bios',\n",
       " u'birmingham',\n",
       " u'bit',\n",
       " u'bitmap',\n",
       " u'bitnet',\n",
       " u'bits',\n",
       " u'biz',\n",
       " u'bj',\n",
       " u'bj200',\n",
       " u'bk',\n",
       " u'black',\n",
       " u'blank',\n",
       " u'blind',\n",
       " u'block',\n",
       " u'blow',\n",
       " u'blue',\n",
       " u'bmp',\n",
       " u'bn',\n",
       " u'bnr',\n",
       " u'board',\n",
       " u'boards',\n",
       " u'bob',\n",
       " u'body',\n",
       " u'boeing',\n",
       " u'book',\n",
       " u'books',\n",
       " u'bookstore',\n",
       " u'boot',\n",
       " u'borland',\n",
       " u'both',\n",
       " u'bottom',\n",
       " u'bought',\n",
       " u'boulder',\n",
       " u'box',\n",
       " u'boxes',\n",
       " u'boy',\n",
       " u'bq',\n",
       " u'branch',\n",
       " u'brand',\n",
       " u'break',\n",
       " u'brian',\n",
       " u'bring',\n",
       " u'brookline',\n",
       " u'brown',\n",
       " u'bryan',\n",
       " u'bs',\n",
       " u'btw',\n",
       " u'bu',\n",
       " u'bubblejet',\n",
       " u'budget',\n",
       " u'buffer',\n",
       " u'bug',\n",
       " u'bugs',\n",
       " u'build',\n",
       " u'building',\n",
       " u'built',\n",
       " u'bull',\n",
       " u'bunch',\n",
       " u'bundled',\n",
       " u'bus',\n",
       " u'business',\n",
       " u'button',\n",
       " u'buy',\n",
       " u'buying',\n",
       " u'bv',\n",
       " u'bx',\n",
       " u'bxn',\n",
       " u'by',\n",
       " u'byte',\n",
       " u'bytes',\n",
       " u'byu',\n",
       " u'c4',\n",
       " u'c610',\n",
       " u'c650',\n",
       " u'c7',\n",
       " u'c8',\n",
       " u'ca',\n",
       " u'cable',\n",
       " u'cables',\n",
       " u'cache',\n",
       " u'caches',\n",
       " u'cad',\n",
       " u'cae',\n",
       " u'calculations',\n",
       " u'california',\n",
       " u'call',\n",
       " u'called',\n",
       " u'calling',\n",
       " u'calls',\n",
       " u'cambridge',\n",
       " u'came',\n",
       " u'campus',\n",
       " u'canada',\n",
       " u'cannot',\n",
       " u'canon',\n",
       " u'capabilities',\n",
       " u'capability',\n",
       " u'capable',\n",
       " u'capture',\n",
       " u'card',\n",
       " u'cards',\n",
       " u'care',\n",
       " u'careful',\n",
       " u'carleton',\n",
       " u'carnegie',\n",
       " u'carpenter',\n",
       " u'carson',\n",
       " u'cartridge',\n",
       " u'cartridges',\n",
       " u'case',\n",
       " u'cases',\n",
       " u'caspian',\n",
       " u'cat',\n",
       " u'cause',\n",
       " u'caused',\n",
       " u'causes',\n",
       " u'cb',\n",
       " u'cc',\n",
       " u'ccwf',\n",
       " u'cd',\n",
       " u'cd300',\n",
       " u'cdrom',\n",
       " u'center',\n",
       " u'central',\n",
       " u'centre',\n",
       " u'centris',\n",
       " u'certain',\n",
       " u'certainly',\n",
       " u'ch',\n",
       " u'chain',\n",
       " u'chance',\n",
       " u'change',\n",
       " u'changed',\n",
       " u'changes',\n",
       " u'changing',\n",
       " u'channel',\n",
       " u'character',\n",
       " u'characters',\n",
       " u'charge',\n",
       " u'charles',\n",
       " u'cheap',\n",
       " u'cheaper',\n",
       " u'check',\n",
       " u'checked',\n",
       " u'checking',\n",
       " u'cheers',\n",
       " u'chen',\n",
       " u'chicago',\n",
       " u'chip',\n",
       " u'chips',\n",
       " u'choice',\n",
       " u'choose',\n",
       " u'chris',\n",
       " u'christopher',\n",
       " u'ci',\n",
       " u'cica',\n",
       " u'circle',\n",
       " u'circuit',\n",
       " u'cis',\n",
       " u'cisc',\n",
       " u'city',\n",
       " u'cl',\n",
       " u'claim',\n",
       " u'claims',\n",
       " u'clark',\n",
       " u'clarku',\n",
       " u'class',\n",
       " u'classes',\n",
       " u'clear',\n",
       " u'clearly',\n",
       " u'cleveland',\n",
       " u'click',\n",
       " u'client',\n",
       " u'cliff',\n",
       " u'clock',\n",
       " u'close',\n",
       " u'cmu',\n",
       " u'co',\n",
       " u'code',\n",
       " u'codes',\n",
       " u'coding',\n",
       " u'collection',\n",
       " u'college',\n",
       " u'collins',\n",
       " u'color',\n",
       " u'colorado',\n",
       " u'colors',\n",
       " u'colour',\n",
       " u'columbia',\n",
       " u'combination',\n",
       " u'come',\n",
       " u'comes',\n",
       " u'comics',\n",
       " u'coming',\n",
       " u'comm',\n",
       " u'command',\n",
       " u'commands',\n",
       " u'comment',\n",
       " u'comments',\n",
       " u'commercial',\n",
       " u'common',\n",
       " u'communication',\n",
       " u'communications',\n",
       " u'community',\n",
       " u'comp',\n",
       " u'compact',\n",
       " u'companies',\n",
       " u'company',\n",
       " u'comparable',\n",
       " u'compare',\n",
       " u'compared',\n",
       " u'comparison',\n",
       " u'comparisons',\n",
       " u'compatable',\n",
       " u'compatibility',\n",
       " u'compatible',\n",
       " u'competing',\n",
       " u'compile',\n",
       " u'compiled',\n",
       " u'compiler',\n",
       " u'complain',\n",
       " u'complaints',\n",
       " u'complete',\n",
       " u'completely',\n",
       " u'complex',\n",
       " u'complicated',\n",
       " u'component',\n",
       " u'components',\n",
       " u'compress',\n",
       " u'compressed',\n",
       " u'compression',\n",
       " u'compuserve',\n",
       " u'computer',\n",
       " u'computers',\n",
       " u'computing',\n",
       " u'concerned',\n",
       " u'concerning',\n",
       " u'config',\n",
       " u'configuration',\n",
       " u'configurations',\n",
       " u'configured',\n",
       " u'confused',\n",
       " u'confusion',\n",
       " u'connect',\n",
       " u'connected',\n",
       " u'connection',\n",
       " u'connector',\n",
       " u'consider',\n",
       " u'considered',\n",
       " u'considering',\n",
       " u'consultant',\n",
       " u'contact',\n",
       " u'contain',\n",
       " u'contained',\n",
       " u'containing',\n",
       " u'contains',\n",
       " u'control',\n",
       " u'controller',\n",
       " u'controls',\n",
       " u'convenience',\n",
       " u'conversion',\n",
       " u'convert',\n",
       " u'converted',\n",
       " u'converter',\n",
       " u'converts',\n",
       " u'convex',\n",
       " u'cool',\n",
       " u'coos',\n",
       " u'copies',\n",
       " u'coprocessor',\n",
       " u'copy',\n",
       " u'copyright',\n",
       " u'corel',\n",
       " u'coreldraw',\n",
       " u'cornell',\n",
       " u'corner',\n",
       " u'corp',\n",
       " u'corporation',\n",
       " u'correct',\n",
       " u'correctly',\n",
       " u'corrupted',\n",
       " u'corruption',\n",
       " u'cost',\n",
       " u'costs',\n",
       " u'could',\n",
       " u'couldn',\n",
       " u'count',\n",
       " u'couple',\n",
       " u'course',\n",
       " u'cover',\n",
       " u'cpu',\n",
       " u'cpus',\n",
       " u'craig',\n",
       " u'crash',\n",
       " u'crashes',\n",
       " u'create',\n",
       " u'created',\n",
       " u'creates',\n",
       " u'creating',\n",
       " u'creative',\n",
       " u'credit',\n",
       " u'cross',\n",
       " u'cs',\n",
       " u'csc',\n",
       " u'csd',\n",
       " u'csie',\n",
       " u'cso',\n",
       " u'ct',\n",
       " u'cube',\n",
       " u'curious',\n",
       " u'current',\n",
       " u'currently',\n",
       " u'cursor',\n",
       " u'curve',\n",
       " u'curves',\n",
       " u'custom',\n",
       " u'customers',\n",
       " u'cut',\n",
       " u'cv',\n",
       " u'cview',\n",
       " u'cwru',\n",
       " u'cx',\n",
       " u'cz',\n",
       " u'd6',\n",
       " u'd8',\n",
       " u'd88',\n",
       " u'd9',\n",
       " u'daemon',\n",
       " u'dakota',\n",
       " u'dal',\n",
       " u'dale',\n",
       " u'dan',\n",
       " u'dangerous',\n",
       " u'daniel',\n",
       " u'dark',\n",
       " u'dartmouth',\n",
       " u'data',\n",
       " u'database',\n",
       " u'date',\n",
       " u'dave',\n",
       " u'david',\n",
       " u'day',\n",
       " u'days',\n",
       " u'db',\n",
       " u'dc',\n",
       " u'de',\n",
       " u'dead',\n",
       " u'deal',\n",
       " u'dealer',\n",
       " u'dear',\n",
       " u'death',\n",
       " u'dec',\n",
       " u'decent',\n",
       " u'decide',\n",
       " u'decided',\n",
       " u'decision',\n",
       " u'default',\n",
       " u'define',\n",
       " u'defined',\n",
       " u'definitely',\n",
       " u'delete',\n",
       " u'deleted',\n",
       " u'deluxe',\n",
       " u'demo',\n",
       " u'demon',\n",
       " u'denver',\n",
       " u'department',\n",
       " u'depending',\n",
       " u'depends',\n",
       " u'dept',\n",
       " u'depth',\n",
       " u'der',\n",
       " u'described',\n",
       " u'description',\n",
       " u'design',\n",
       " u'designed',\n",
       " u'desired',\n",
       " u'desk',\n",
       " u'deskjet',\n",
       " u'desktop',\n",
       " u'detailed',\n",
       " u'details',\n",
       " u'determine',\n",
       " u'dev',\n",
       " u'develop',\n",
       " u'developed',\n",
       " u'developer',\n",
       " u'developers',\n",
       " u'developing',\n",
       " u'development',\n",
       " u'device',\n",
       " u'devices',\n",
       " u'dial',\n",
       " u'dialog',\n",
       " u'diamond',\n",
       " u'did',\n",
       " u'didn',\n",
       " u'diego',\n",
       " u'differ',\n",
       " u'difference',\n",
       " u'differences',\n",
       " u'different',\n",
       " u'difficult',\n",
       " u'digex',\n",
       " u'digital',\n",
       " u'dir',\n",
       " u'direct',\n",
       " u'direction',\n",
       " u'directly',\n",
       " u'directories',\n",
       " u'directory',\n",
       " u'disable',\n",
       " u'disappears',\n",
       " u'disclaimer',\n",
       " u'discovered',\n",
       " u'discussed',\n",
       " u'discussing',\n",
       " u'discussion',\n",
       " u'disk',\n",
       " u'disks',\n",
       " u'display',\n",
       " u'displaying',\n",
       " u'displays',\n",
       " u'distance',\n",
       " u'distortion',\n",
       " u'distributed',\n",
       " u'distribution',\n",
       " u'division',\n",
       " u'dk',\n",
       " u'dl',\n",
       " u'dll',\n",
       " u'dm',\n",
       " u'doc',\n",
       " u'dock',\n",
       " u'docs',\n",
       " u'document',\n",
       " u'documentation',\n",
       " u'does',\n",
       " u'doesn',\n",
       " u'doing',\n",
       " u'dollars',\n",
       " u'domain',\n",
       " u'don',\n",
       " u'done',\n",
       " u'dont',\n",
       " u'dos',\n",
       " u'dos6',\n",
       " u'dot',\n",
       " u'double',\n",
       " u'doubt',\n",
       " ...]"
      ]
     },
     "execution_count": 32,
     "metadata": {},
     "output_type": "execute_result"
    }
   ],
   "source": [
    "vectorizer.get_feature_names()"
   ]
  },
  {
   "cell_type": "code",
   "execution_count": 33,
   "metadata": {
    "collapsed": false,
    "deletable": true,
    "editable": true
   },
   "outputs": [
    {
     "data": {
      "text/plain": [
       "u'daemon'"
      ]
     },
     "execution_count": 33,
     "metadata": {},
     "output_type": "execute_result"
    }
   ],
   "source": [
    "vectorizer.get_feature_names()[877]"
   ]
  },
  {
   "cell_type": "code",
   "execution_count": 34,
   "metadata": {
    "collapsed": false,
    "deletable": true,
    "editable": true
   },
   "outputs": [
    {
     "data": {
      "text/plain": [
       "u'From: erik@cheshire.oxy.edu (Erik Adams)\\nSubject: HELP!!  My Macintosh \"luggable\" has lines on its screen!\\nOrganization: Occidental College, Los Angeles, CA 90041 USA.\\nDistribution: comp\\nLines: 20\\n\\nOkay, I don\\'t use it very much, but I would like for it to keep working\\ncorrectly, at least as long as Apple continues to make System software\\nthat will run on it, if slowly :-)\\n\\nHere is the problem:  When the screen is tilted too far back, vertical\\nlines appear on the screen.  They are every 10 pixels or so, and seem\\nto be affected somewhat by opening windows and pulling down menus.\\nIt looks to a semi-technical person like there is a loose connection\\nbetween the screen and the rest of the computer.\\n\\nI am open to suggestions that do not involve buying a new computer,\\nor taking this one to the shop.  I would also like to not have\\nto buy one of Larry Pina\\'s books.  I like Larry, but I\\'m not sure\\nI feel strongly enough about the computer to buy a service manual\\nfor it.\\n\\nOn a related note:  what does the monitor connector connect to?\\n\\nErik\\n\\n'"
      ]
     },
     "execution_count": 34,
     "metadata": {},
     "output_type": "execute_result"
    }
   ],
   "source": [
    "simple_dataset.data[0]"
   ]
  },
  {
   "cell_type": "code",
   "execution_count": 35,
   "metadata": {
    "collapsed": false,
    "deletable": true,
    "editable": true
   },
   "outputs": [
    {
     "data": {
      "text/plain": [
       "array([0, 0, 1, ..., 0, 1, 2])"
      ]
     },
     "execution_count": 35,
     "metadata": {},
     "output_type": "execute_result"
    }
   ],
   "source": [
    "simple_dataset.target"
   ]
  },
  {
   "cell_type": "code",
   "execution_count": 36,
   "metadata": {
    "collapsed": false,
    "deletable": true,
    "editable": true
   },
   "outputs": [
    {
     "data": {
      "text/plain": [
       "array([0, 0, 0, ..., 0, 0, 0])"
      ]
     },
     "execution_count": 36,
     "metadata": {},
     "output_type": "execute_result"
    }
   ],
   "source": [
    "preds"
   ]
  },
  {
   "cell_type": "code",
   "execution_count": 37,
   "metadata": {
    "collapsed": false,
    "deletable": true,
    "editable": true
   },
   "outputs": [
    {
     "ename": "ValueError",
     "evalue": "Found input variables with inconsistent numbers of samples: [1753, 1777]",
     "output_type": "error",
     "traceback": [
      "\u001b[0;31m---------------------------------------------------------------------------\u001b[0m",
      "\u001b[0;31mValueError\u001b[0m                                Traceback (most recent call last)",
      "\u001b[0;32m<ipython-input-37-d3d8c6c141c2>\u001b[0m in \u001b[0;36m<module>\u001b[0;34m()\u001b[0m\n\u001b[1;32m      3\u001b[0m \u001b[0mmapped_preds\u001b[0m \u001b[0;34m=\u001b[0m \u001b[0;34m[\u001b[0m\u001b[0mmapping\u001b[0m\u001b[0;34m[\u001b[0m\u001b[0mpred\u001b[0m\u001b[0;34m]\u001b[0m \u001b[0;32mfor\u001b[0m \u001b[0mpred\u001b[0m \u001b[0;32min\u001b[0m \u001b[0mpreds\u001b[0m\u001b[0;34m]\u001b[0m\u001b[0;34m\u001b[0m\u001b[0m\n\u001b[1;32m      4\u001b[0m \u001b[0;31m# print (float(sum(mapped_preds != simple_dataset.target)) / len(simple_dataset.target))\u001b[0m\u001b[0;34m\u001b[0m\u001b[0;34m\u001b[0m\u001b[0m\n\u001b[0;32m----> 5\u001b[0;31m \u001b[0;32mprint\u001b[0m\u001b[0;34m(\u001b[0m\u001b[0macc\u001b[0m\u001b[0;34m(\u001b[0m\u001b[0mmapped_preds\u001b[0m\u001b[0;34m,\u001b[0m \u001b[0msimple_dataset\u001b[0m\u001b[0;34m.\u001b[0m\u001b[0mtarget\u001b[0m\u001b[0;34m)\u001b[0m\u001b[0;34m)\u001b[0m\u001b[0;34m\u001b[0m\u001b[0m\n\u001b[0m",
      "\u001b[0;32m/usr/local/lib/python2.7/dist-packages/sklearn/metrics/classification.pyc\u001b[0m in \u001b[0;36maccuracy_score\u001b[0;34m(y_true, y_pred, normalize, sample_weight)\u001b[0m\n\u001b[1;32m    170\u001b[0m \u001b[0;34m\u001b[0m\u001b[0m\n\u001b[1;32m    171\u001b[0m     \u001b[0;31m# Compute accuracy for each possible representation\u001b[0m\u001b[0;34m\u001b[0m\u001b[0;34m\u001b[0m\u001b[0m\n\u001b[0;32m--> 172\u001b[0;31m     \u001b[0my_type\u001b[0m\u001b[0;34m,\u001b[0m \u001b[0my_true\u001b[0m\u001b[0;34m,\u001b[0m \u001b[0my_pred\u001b[0m \u001b[0;34m=\u001b[0m \u001b[0m_check_targets\u001b[0m\u001b[0;34m(\u001b[0m\u001b[0my_true\u001b[0m\u001b[0;34m,\u001b[0m \u001b[0my_pred\u001b[0m\u001b[0;34m)\u001b[0m\u001b[0;34m\u001b[0m\u001b[0m\n\u001b[0m\u001b[1;32m    173\u001b[0m     \u001b[0;32mif\u001b[0m \u001b[0my_type\u001b[0m\u001b[0;34m.\u001b[0m\u001b[0mstartswith\u001b[0m\u001b[0;34m(\u001b[0m\u001b[0;34m'multilabel'\u001b[0m\u001b[0;34m)\u001b[0m\u001b[0;34m:\u001b[0m\u001b[0;34m\u001b[0m\u001b[0m\n\u001b[1;32m    174\u001b[0m         \u001b[0mdiffering_labels\u001b[0m \u001b[0;34m=\u001b[0m \u001b[0mcount_nonzero\u001b[0m\u001b[0;34m(\u001b[0m\u001b[0my_true\u001b[0m \u001b[0;34m-\u001b[0m \u001b[0my_pred\u001b[0m\u001b[0;34m,\u001b[0m \u001b[0maxis\u001b[0m\u001b[0;34m=\u001b[0m\u001b[0;36m1\u001b[0m\u001b[0;34m)\u001b[0m\u001b[0;34m\u001b[0m\u001b[0m\n",
      "\u001b[0;32m/usr/local/lib/python2.7/dist-packages/sklearn/metrics/classification.pyc\u001b[0m in \u001b[0;36m_check_targets\u001b[0;34m(y_true, y_pred)\u001b[0m\n\u001b[1;32m     70\u001b[0m     \u001b[0my_pred\u001b[0m \u001b[0;34m:\u001b[0m \u001b[0marray\u001b[0m \u001b[0;32mor\u001b[0m \u001b[0mindicator\u001b[0m \u001b[0mmatrix\u001b[0m\u001b[0;34m\u001b[0m\u001b[0m\n\u001b[1;32m     71\u001b[0m     \"\"\"\n\u001b[0;32m---> 72\u001b[0;31m     \u001b[0mcheck_consistent_length\u001b[0m\u001b[0;34m(\u001b[0m\u001b[0my_true\u001b[0m\u001b[0;34m,\u001b[0m \u001b[0my_pred\u001b[0m\u001b[0;34m)\u001b[0m\u001b[0;34m\u001b[0m\u001b[0m\n\u001b[0m\u001b[1;32m     73\u001b[0m     \u001b[0mtype_true\u001b[0m \u001b[0;34m=\u001b[0m \u001b[0mtype_of_target\u001b[0m\u001b[0;34m(\u001b[0m\u001b[0my_true\u001b[0m\u001b[0;34m)\u001b[0m\u001b[0;34m\u001b[0m\u001b[0m\n\u001b[1;32m     74\u001b[0m     \u001b[0mtype_pred\u001b[0m \u001b[0;34m=\u001b[0m \u001b[0mtype_of_target\u001b[0m\u001b[0;34m(\u001b[0m\u001b[0my_pred\u001b[0m\u001b[0;34m)\u001b[0m\u001b[0;34m\u001b[0m\u001b[0m\n",
      "\u001b[0;32m/usr/local/lib/python2.7/dist-packages/sklearn/utils/validation.pyc\u001b[0m in \u001b[0;36mcheck_consistent_length\u001b[0;34m(*arrays)\u001b[0m\n\u001b[1;32m    179\u001b[0m     \u001b[0;32mif\u001b[0m \u001b[0mlen\u001b[0m\u001b[0;34m(\u001b[0m\u001b[0muniques\u001b[0m\u001b[0;34m)\u001b[0m \u001b[0;34m>\u001b[0m \u001b[0;36m1\u001b[0m\u001b[0;34m:\u001b[0m\u001b[0;34m\u001b[0m\u001b[0m\n\u001b[1;32m    180\u001b[0m         raise ValueError(\"Found input variables with inconsistent numbers of\"\n\u001b[0;32m--> 181\u001b[0;31m                          \" samples: %r\" % [int(l) for l in lengths])\n\u001b[0m\u001b[1;32m    182\u001b[0m \u001b[0;34m\u001b[0m\u001b[0m\n\u001b[1;32m    183\u001b[0m \u001b[0;34m\u001b[0m\u001b[0m\n",
      "\u001b[0;31mValueError\u001b[0m: Found input variables with inconsistent numbers of samples: [1753, 1777]"
     ]
    }
   ],
   "source": [
    "# Assessement\n",
    "mapping = {2 : 1, 1: 2, 0: 0}\n",
    "mapped_preds = [mapping[pred] for pred in preds]\n",
    "# print (float(sum(mapped_preds != simple_dataset.target)) / len(simple_dataset.target))\n",
    "print(acc(mapped_preds, simple_dataset.target))"
   ]
  },
  {
   "cell_type": "code",
   "execution_count": null,
   "metadata": {
    "collapsed": false,
    "deletable": true,
    "editable": true
   },
   "outputs": [],
   "source": [
    "import itertools\n",
    "def validate_with_mappings(preds, target):\n",
    "    permutations = itertools.permutations([0, 1, 2])\n",
    "    for a, b, c in permutations:\n",
    "        mapping = {2 : a, 1: b, 0: c}\n",
    "        mapped_preds = [mapping[pred] for pred in preds]\n",
    "#         print (float(sum(mapped_preds != target)) / len(target))\n",
    "        print(acc(mapped_preds, target))\n",
    "validate_with_mappings(preds, simple_dataset.target)"
   ]
  },
  {
   "cell_type": "markdown",
   "metadata": {
    "deletable": true,
    "editable": true
   },
   "source": [
    "## KMeans"
   ]
  },
  {
   "cell_type": "code",
   "execution_count": 24,
   "metadata": {
    "collapsed": false,
    "deletable": true,
    "editable": true
   },
   "outputs": [
    {
     "name": "stdout",
     "output_type": "stream",
     "text": [
      "[0 0 2 ..., 0 2 1]\n",
      "[0 0 1 ..., 0 1 2]\n",
      "0.0292628024761\n",
      "0.326392796849\n",
      "0.349465391109\n",
      "0.952729319077\n",
      "0.0180078784468\n",
      "0.324141812043\n"
     ]
    }
   ],
   "source": [
    "from sklearn.cluster import KMeans\n",
    "\n",
    "model = KMeans(n_clusters=3, random_state=1)\n",
    "preds = model.fit_predict(matrix.toarray())\n",
    "print (preds)\n",
    "print (simple_dataset.target)\n",
    "validate_with_mappings(preds, simple_dataset.target)"
   ]
  },
  {
   "cell_type": "code",
   "execution_count": 25,
   "metadata": {
    "collapsed": false,
    "deletable": true,
    "editable": true
   },
   "outputs": [
    {
     "name": "stdout",
     "output_type": "stream",
     "text": [
      "0.985360318588\n"
     ]
    }
   ],
   "source": [
    "# Compare with Linear Regression\n",
    "from sklearn.linear_model import LogisticRegression\n",
    "clf = LogisticRegression()\n",
    "print (cross_val_score(clf, matrix, simple_dataset.target).mean())"
   ]
  },
  {
   "cell_type": "markdown",
   "metadata": {
    "deletable": true,
    "editable": true
   },
   "source": [
    "** Вопрос: ** очень высокая точность кластеризации текстов, очень близкая к точности Supervised алгоритма. Почему?"
   ]
  },
  {
   "cell_type": "markdown",
   "metadata": {
    "deletable": true,
    "editable": true
   },
   "source": [
    "## Более сложная выборка"
   ]
  },
  {
   "cell_type": "code",
   "execution_count": 26,
   "metadata": {
    "collapsed": true,
    "deletable": true,
    "editable": true
   },
   "outputs": [],
   "source": [
    "noteasy_dataset = fetch_20newsgroups(\n",
    "    subset='train', \n",
    "    categories=['comp.sys.mac.hardware', 'comp.os.ms-windows.misc', 'comp.graphics'])\n",
    "matrix = vectorizer.fit_transform(noteasy_dataset.data)"
   ]
  },
  {
   "cell_type": "code",
   "execution_count": 27,
   "metadata": {
    "collapsed": false,
    "deletable": true,
    "editable": true
   },
   "outputs": [
    {
     "name": "stdout",
     "output_type": "stream",
     "text": [
      "[0 1 2 ..., 0 2 0]\n",
      "[2 1 1 ..., 2 0 2]\n",
      "0.7535653166\n",
      "0.296634341129\n",
      "0.393610952653\n",
      "0.12892184826\n",
      "0.11751283514\n",
      "0.309754706218\n"
     ]
    }
   ],
   "source": [
    "model = KMeans(n_clusters=3, random_state=1)\n",
    "preds = model.fit_predict(matrix.toarray())\n",
    "print (preds)\n",
    "print (noteasy_dataset.target)\n",
    "validate_with_mappings(preds, noteasy_dataset.target)"
   ]
  },
  {
   "cell_type": "code",
   "execution_count": 28,
   "metadata": {
    "collapsed": false,
    "deletable": true,
    "editable": true
   },
   "outputs": [
    {
     "name": "stdout",
     "output_type": "stream",
     "text": [
      "0.917279226713\n"
     ]
    }
   ],
   "source": [
    "clf = LogisticRegression()\n",
    "print (cross_val_score(clf, matrix, noteasy_dataset.target).mean())"
   ]
  },
  {
   "cell_type": "markdown",
   "metadata": {
    "deletable": true,
    "editable": true
   },
   "source": [
    "## SVD + KMeans"
   ]
  },
  {
   "cell_type": "code",
   "execution_count": 28,
   "metadata": {
    "collapsed": false,
    "deletable": true,
    "editable": true
   },
   "outputs": [
    {
     "name": "stdout",
     "output_type": "stream",
     "text": [
      "0.406731317741\n",
      "0.0889903023388\n",
      "0.793496862521\n",
      "0.297204791786\n",
      "0.296063890473\n",
      "0.11751283514\n"
     ]
    }
   ],
   "source": [
    "from sklearn.decomposition import TruncatedSVD\n",
    "\n",
    "model = KMeans(n_clusters=3, random_state=42)\n",
    "svd = TruncatedSVD(n_components=1000, random_state=123)\n",
    "features = svd.fit_transform(matrix)\n",
    "preds = model.fit_predict(features)\n",
    "validate_with_mappings(preds, noteasy_dataset.target)"
   ]
  },
  {
   "cell_type": "code",
   "execution_count": 29,
   "metadata": {
    "collapsed": false,
    "deletable": true,
    "editable": true
   },
   "outputs": [
    {
     "name": "stdout",
     "output_type": "stream",
     "text": [
      "0.286936679977\n",
      "0.154592127781\n",
      "0.110667427268\n",
      "0.29948659441\n",
      "0.413576725613\n",
      "0.734740444952\n"
     ]
    }
   ],
   "source": [
    "model = KMeans(n_clusters=3, random_state=42)\n",
    "svd = TruncatedSVD(n_components=200, random_state=321)\n",
    "features = svd.fit_transform(matrix)\n",
    "preds = model.fit_predict(features)\n",
    "validate_with_mappings(preds, noteasy_dataset.target)"
   ]
  },
  {
   "cell_type": "markdown",
   "metadata": {
    "deletable": true,
    "editable": true
   },
   "source": [
    "** Вопрос: ** всё равно сумели добиться довольно высокой точности. В чем причина?"
   ]
  },
  {
   "cell_type": "markdown",
   "metadata": {
    "deletable": true,
    "editable": true
   },
   "source": [
    "### Вывод"
   ]
  },
  {
   "cell_type": "markdown",
   "metadata": {
    "deletable": true,
    "editable": true
   },
   "source": [
    "1. Получили интерпретируемый результат на обеих выборках\n",
    "2. На простых выбрках kMeans и Agglomerative работают хорошо в рамках начального приближения."
   ]
  },
  {
   "cell_type": "markdown",
   "metadata": {
    "deletable": true,
    "editable": true
   },
   "source": [
    "<h1 align=\"center\">Conclusion</h1>  "
   ]
  },
  {
   "cell_type": "markdown",
   "metadata": {
    "collapsed": true,
    "deletable": true,
    "editable": true
   },
   "source": [
    "\n",
    "## <a href=\"https://github.com/ml-mipt/ml-mipt-part1/tree/master/2017/home_work/hw8\"> HW8 </a>\n",
    "  \n",
    "## Reference\n",
    "- ESL https://web.stanford.edu/~hastie/local.ftp/Springer/OLD/ESLII_print4.pdf\n",
    "- К.В. Воронцов, Математические методы обучения по прецедентам, http://www.machinelearning.ru/wiki/images/6/6d/Voron-ML-1.pdf\n",
    "\n",
    "\n",
    "\n",
    "## Обратная связь \n",
    "  ** <span style=\"font-size: 16pt\"> <a href=\"https://docs.google.com/forms/d/e/1FAIpQLSdmyY3f-lwrhSGeqJPaxcXrdj0SfZzZbgRIggg-nx4EQ_eQLQ/viewform?c=0&w=1\"> Отзыв </a> о семинаре </span> **\n",
    "  \n",
    "  ** <span style=\"font-size: 16pt\"> <a href=\"https://docs.google.com/forms/d/e/1FAIpQLSdefy8neFtoxDlXD3toHi3fWB3OW-23APTRj-GuTX8wtAJahQ/viewform?c=0&w=1\"> Отзыв </a> о лекции </span> **"
   ]
  }
 ],
 "metadata": {
  "anaconda-cloud": {},
  "kernelspec": {
   "display_name": "Python 2",
   "language": "python",
   "name": "python2"
  },
  "language_info": {
   "codemirror_mode": {
    "name": "ipython",
    "version": 2
   },
   "file_extension": ".py",
   "mimetype": "text/x-python",
   "name": "python",
   "nbconvert_exporter": "python",
   "pygments_lexer": "ipython2",
   "version": "2.7.12+"
  }
 },
 "nbformat": 4,
 "nbformat_minor": 0
}
