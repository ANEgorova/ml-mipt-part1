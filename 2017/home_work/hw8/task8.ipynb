{
 "cells": [
  {
   "cell_type": "markdown",
   "metadata": {
    "deletable": true,
    "editable": true
   },
   "source": [
    "<span style=\"font-size: 14pt\">Домашнее задание №8 </span>\n",
    "\n",
    "<span style=\"color: red; font-size: 14pt\">Deadline: 20.05.2017 23:59:59</span>\n",
    "\n",
    "<span style=\"font-size: 10pt\">ФИВТ, АПТ, Курс по машинному обучению, Весна 2017, Модуль Unspervised Learning, </span>\n",
    "\n",
    "<span style=\"color:blue; font-size: 10pt\">Alexey Romanenko, </span>\n",
    "<span style=\"color:blue; font-size: 10pt; font-family: 'Verdana'\">alexromsput@gmail.com</span>\n"
   ]
  },
  {
   "cell_type": "markdown",
   "metadata": {
    "deletable": true,
    "editable": true
   },
   "source": [
    "<h1 align=\"center\">Organization Info</h1> "
   ]
  },
  {
   "cell_type": "markdown",
   "metadata": {
    "deletable": true,
    "editable": true
   },
   "source": [
    "**Дополнительный материал для выполнения дз**:\n",
    "- Воронцов К. В. Математические методы обучения по прецедентам. 2012. http://www.machinelearning.ru/wiki/images/6/6d/Voron-ML-1.pdf (разделы 5.2 и 7.1)\n",
    "- Hastie T., Tibshirani R., Friedman J. The Elements of Statistical Learning. Springer: Data Mining, Inference, and Prediction.  — 2nd ed. — Springer-Verlag. 2009. — 746 p.http://statweb.stanford.edu/~tibs/ElemStatLearn/printings/ESLII_print10.pdf (глава 14)\n",
    "\n",
    "\n",
    "\n",
    "**Оформление дз**: \n",
    "- Присылайте выполненное задание на почту ``ml.course.mipt@gmail.com``\n",
    "- Укажите тему письма в следующем формате ``ML2017_fall <номер_группы> <фамилия>``, к примеру -- ``ML2017_fall 496 ivanov``\n",
    "- Выполненное дз сохраните в файл ``<фамилия>_<группа>_task<номер задания>.ipnb``, к примеру -- ``ML2017_496_task1.ipnb``\n",
    "\n",
    "**Вопросы**:\n",
    "- Присылайте вопросы на почту ``ml.course.mipt@gmail.com``\n",
    "- Укажите тему письма в следующем формате ``ML2016_fall Question <Содержание вопроса>``\n",
    "\n",
    "--------\n",
    "- **PS1**: Используются автоматические фильтры, и просто не найдем ваше дз, если вы не аккуратно его подпишите.\n",
    "- **PS2**: Дедлайн жесткий, в том числе потому что это ДЗ последнее в курсе. "
   ]
  },
  {
   "cell_type": "markdown",
   "metadata": {
    "deletable": true,
    "editable": true
   },
   "source": [
    "<h1 align=\"center\">Контрольные вопросы (0 % - для самоконтроля) </h1> "
   ]
  },
  {
   "cell_type": "markdown",
   "metadata": {
    "deletable": true,
    "editable": true
   },
   "source": [
    "Ответе на вопросы своими словами (загугленный материал надо пересказать), ответ обоснуйте (напишите и ОБЪЯСНИТЕ формулки если потребуется), если не выходит, то вернитесь к лекции дополнительным материалам:\n",
    " \n",
    "**Вопрос 1**: В чём заключается проблема мультиколлинеарности?    \n",
    "_Мультиколлинеарность существует, когда два или более предикторов в регрессионной модели умеренно или сильно     коррелированы._        \n",
    "_Проблема мультиколлинеарности - увеличение дисперсии оценок коэффициентов. Также оценки становятся очень чувствительными к незначительным изменениям в модели._        \n",
    "_В результате оценки коэффициентов нестабильны и их трудно интерпретировать => переобучение._\n",
    " \n",
    "**Вопрос 2**: Какие проблемы при обучении алгоритмов возникают из-за большой разамерности пространства признаков?\n",
    "    - Проклятие размерности;  \n",
    "    - Неинтерпретируемость.\n",
    " \n",
    "**Вопрос 3**: В чем суть проклятия размерности?    \n",
    "_Проклятие размерности включает в себя следующую проблему: экспоненциальный рост количества данных из-за увеличения размерности пространства. В таком случае сложно применять классические методы решения._\n",
    " \n",
    "** Вопрос 4**: Какая связь между решением задачи PCA и SVD-разложение матрицы регрессии?    \n",
    "_Задача PCA - уменьшить размерность, с помощью новой матрицы F признаков размера $l * m$, старая матрица признаков G имеет размерность $l * n$._        \n",
    "_Тогда если взять m = n, то представление матрицы F через матрицу G будет совпадать с сингулярным разложением F при $G = V \\cdot \\sqrt{\\Lambda}$, где $\\Lambda = G^{T}G$_\n",
    " \n",
    "** Вопрос 5**: Почему в t-SNE расстояние между парамми объектов измеряется \"по-стьюденту\" и как это помогает решить проблему \"скрученности\" (crowding problem)?\n",
    " \n",
    "**Вопрос 6**: На какой идее базируются алгоритмы агломеративной кластеризации? Напишите формулу Ланса-Уильямса.    \n",
    "_Изначально каждый элемент в своем кластере.    \n",
    "Далее находятся самые близкие друг к другу кластеры и объединяются в один кластер. Расстояния пересчитываются.    \n",
    "Таким образом строится система вложенных разбиений.    \n",
    "Расстояние от нового кластера $W = U \\cup V$ до любого другого кластера $S$ вычисляется c помощью формулы Ланса-Уильямса по расстояниям $R(U, V)$, $R(U, S)$ и $R(V, S)$, которые уже должны быть известны:    \n",
    "$$R(W, S) = \\alpha_{U} R(U, S) + \\alpha_{V} R(V, S) + \\beta R(U, V ) + \\gamma|R(U, S) − R(V, S)|,$$    \n",
    "где $\\alpha_{U}, \\alpha_{V}, \\beta, \\gamma$ — числовые параметры_\n",
    " \n",
    "**Вопрос 7**: Какие два шага выделяют в алгоритме кластеризации k-means?    \n",
    "1) _Перевычисляется центр для каждого кластера, полученного на предыдущем шаге;_    \n",
    "2) _Элементы разбиваются на кластеры вновь в соответствии с тем, какой из новых центров оказался ближе по выбранной метрике._\n",
    " \n",
    "**Вопрос 8**: В чём отличия (основные упрощения) k-means от EM-алгоритма кластеризации?    \n",
    "1) _В EM-алгоритме каждый объект распределяется по всем кластерам с вероятностями $g_{iy} = P\\{y_i = y\\}$.  \n",
    "В алгоритме k-means каждый объект жёстко приписывается только к одному кластеру, в соответствии с ближайшим центром._    \n",
    "2) _В EM-алгоритме форма кластеров настраиваемая.    \n",
    "В алгоритме k-means форма жёстко определяется метрикой._\n",
    " \n",
    "** Вопрос 9 **Какой принцип работы графовых алгоритмов кластеризации?    \n",
    "_Представляем выборку в виде графа, где вершины - объекты выборки, рёбра - расстояния между объектами $\\rho_{ij} = \\rho(x_i, x_j)$._\n",
    " \n",
    "** Вопрос 10 **  В чем некорректность постановки задачи кластеризации?    \n",
    "    - число кластеров, неизвестно заранее;    \n",
    "    - точной постановки задачи кластеризации нет;\n",
    "    - существует много критериев качества кластеризации;\n",
    "    - существует много эвристических методов кластеризации;\n",
    "    - результат кластеризации существенно зависит от метрики, которая задаётся субъективно.\n",
    " \n",
    "-----------\n",
    "PS: Если проверяющий не понял ответ на большинство вопросов, то будет пичалька. Пишите так, чтобы можно было разобраться."
   ]
  },
  {
   "cell_type": "markdown",
   "metadata": {
    "collapsed": true,
    "deletable": true,
    "editable": true
   },
   "source": [
    "<h1 align=\"center\">Вопросы по теории (30%) </h1> "
   ]
  },
  {
   "cell_type": "markdown",
   "metadata": {
    "deletable": true,
    "editable": true
   },
   "source": [
    "** Задача 1 ** \n",
    "Ответьте на вопросы:    \n",
    "1) Как можно не прибегая к визуализации понять, что кластерная структура у данного облака точек отсутствует?    <span style=color:green>Выбрать метрику, запустить алгоритм кластеризации с заданным числом искомых кластеров и посмотреть на график этой метрики в зависимости от количества кластеров. Если он будет линейным, значит кластерная структура отсутствует.</span>    \n",
    "2) Какие из алгоритмов кластеризации могут выделять кластеры с ленточной структурой?     \n",
    " <span style=color:green>ФорЭл, агломеративный алгоритм: метод ближнего соседа</span>    \n",
    " 3) Какие алгоритмы кластеризации чувствительны к шуму и перемычкам?    \n",
    " <span style=color:green>Алгоритм выделения связных компонент, Алгоритм \"Кратчайший незамкнутый путь\"</span>    \n",
    " 4) Каким образом приближают «центр кластера» в нелинейных пространствах?    \n",
    "  <span style=color:green>Вводят функции расстояний.</span>    \n",
    " 5) Каким образом можно определять число кластеров?    \n",
    " <span style=color:green>Использовать визуализацию.</span>\n",
    " \n",
    "** Задача 2 **\n",
    "Даны пять точек на числовой оси $X = (1; 5; 7; 8; 8)$, число кластеров равно 2. Рассчитайте ответ алгоритма  K-means (финальные центры кластеров), если начальные центры кластеров c1 = 1, c2 = 10.    \n",
    "<span style=color:green>Введем $W = (1, 1, 2, 2, 2)$ - соответствующий класс для точек.</span>       \n",
    "<span style=color:green> Найдем новые центры:</span>    \n",
    "<span style=color:green>     \n",
    "$\\mu_1 = \\dfrac{1 \\cdot 1 + 5 \\cdot 5 + 7 \\cdot 0 + 2 \\cdot 8 \\cdot 0}{1 + 1} = 3$,</span>     \n",
    "<span style=color:green>    \n",
    "$\\mu_2 = \\dfrac{1 \\cdot 0 + 5 \\cdot 0 + 7 \\cdot 1 + 2 \\cdot 8 \\cdot 1}{1 + 1 + 1} = \\dfrac{23}{3} = 7 \\dfrac{2}{3}$</span>\n",
    "\n",
    "** Задача 3 **\n",
    "Докажите, что the k-means всегда сходится.    \n",
    "От противного. Пусть не сходится. Тогда алгоритм все время переходит от одной кластеризации к другой с меньшим весом. Всего возможно $k^n$ кластеризаций. k-means когда-то войдет в цикл, потому что общее количество кластеризаций конечно. Но вес алгоритма постоянно уменьшается (предположение от противного). Противоречие.\n",
    "\n",
    "** Задача 4 **\n",
    "Для сжатия размерности пространства алгоритм PCA применяется датасету с количеством признаков $D = 100$. Наблюдается следующий спектр собственных значений матрицы объектов-признаков. \n",
    "<img src=\"PCA_lambda.png\" width=\"600\">\n",
    "Ответье на вопросы\n",
    "\n",
    "* 1) Высокая ли эффективная размерность пространства признаков (intrinsic dimensionality) (насколько она близка к 100)?    \n",
    "<span style=color:green>Высокая, почти нигде точки, после которой происходит падение.</span>\n",
    "* 2) Можно ли перевести датасет с помощью PCA в пространство меньшей размерности с минимальными потерями точности? Если да, то чему примерно будет равна размернось     \n",
    "<span style=color:green>  Нет</span>"
   ]
  },
  {
   "cell_type": "markdown",
   "metadata": {
    "deletable": true,
    "editable": true
   },
   "source": [
    "<h2 align=\"center\">Практическое задание 1 (30%) </h2>\n",
    "Реализуйте PCA"
   ]
  },
  {
   "cell_type": "code",
   "execution_count": 1,
   "metadata": {
    "collapsed": false,
    "deletable": true,
    "editable": true
   },
   "outputs": [],
   "source": [
    "import numpy as np\n",
    "import pylab as plt\n",
    "'''\n",
    "Performs the Principal Coponent analysis of the Matrix F\n",
    "Matrix must be n * l dimensions\n",
    "where n is # features\n",
    "l is # samples\n",
    "'''\n",
    "\n",
    "def PCA(F, varRetained=0.95, show=False):\n",
    "    # Input\n",
    "    #     F - initaial matrix \n",
    "    # Compute Covariance Matrix Sigma\n",
    "    # Input\n",
    "    (n, l) = F.shape\n",
    "    Sigma = 1.0 / l * np.dot(F, np.transpose(F))\n",
    "    # Compute eigenvectors and eigenvalues of Sigma by SVD\n",
    "    # U, V - matrix, d - array: Sigma = U * np.diag(d) * V\n",
    "    U, d, V = np.linalg.svd(Sigma)\n",
    "\n",
    "    # compute the value m: number of minumum features that retains the given variance varRetaine\n",
    "    dTot = np.sum(d)\n",
    "    var_i = np.array([np.sum(d[: i + 1]) / dTot * 100.0 for i in range(n)])\n",
    "    m = len(var_i[var_i < (varRetained * 100)])\n",
    "    print('%.2f %% variance retained in %d dimensions' % (var_i[m], m))\n",
    "\n",
    "    # plot the variance plot\n",
    "    if show:\n",
    "        plt.plot(var_i)\n",
    "        plt.xlabel('Number of Features')\n",
    "        plt.ylabel(' Percentage Variance retained')\n",
    "        plt.title('PCA $\\% \\sigma^2 $ vs # features')\n",
    "        plt.show()\n",
    "\n",
    "    # compute the reduced dimensional features by projection\n",
    "    U_reduced = U[:, : m]\n",
    "    G = np.dot(np.transpose(U_reduced), F)\n",
    "\n",
    "    return G, U_reduced"
   ]
  },
  {
   "cell_type": "code",
   "execution_count": 2,
   "metadata": {
    "collapsed": true,
    "deletable": true,
    "editable": true
   },
   "outputs": [],
   "source": [
    "# Примените алгоритм к данным MNIST\n",
    "from sklearn.model_selection import train_test_split\n",
    "\n",
    "from sklearn.datasets import load_digits\n",
    "X, y = load_digits(return_X_y=True)\n",
    "X_train, X_test, Y_train, Y_test = train_test_split(X, y, train_size=0.7)"
   ]
  },
  {
   "cell_type": "code",
   "execution_count": 3,
   "metadata": {
    "collapsed": false,
    "deletable": true,
    "editable": true
   },
   "outputs": [
    {
     "name": "stdout",
     "output_type": "stream",
     "text": [
      "Performing PCA - Principal COmponent Analysis\n",
      "95.25 % variance retained in 15 dimensions\n"
     ]
    },
    {
     "data": {
      "image/png": "[encoded data removed]",
      "text/plain": [
       "<matplotlib.figure.Figure at 0x7fa62c413780>"
      ]
     },
     "metadata": {},
     "output_type": "display_data"
    }
   ],
   "source": [
    "#################################################################\n",
    "# PCA of training set\n",
    "print('Performing PCA - Principal COmponent Analysis')\n",
    "\n",
    "Z, U_reduced = PCA(X.T, varRetained = 0.95, show = True)"
   ]
  },
  {
   "cell_type": "code",
   "execution_count": 4,
   "metadata": {
    "collapsed": false,
    "deletable": true,
    "editable": true
   },
   "outputs": [
    {
     "name": "stdout",
     "output_type": "stream",
     "text": [
      "[[-45.86127719 -55.52967927 -55.8278837  ..., -65.52698526 -58.60616587\n",
      "  -64.44823101]\n",
      " [ -1.19211574   7.86176977   6.91459576 ...,  10.65872857  -4.9112521\n",
      "   -0.45551347]\n",
      " [-21.10005932  20.4871986    9.66245273 ...,   6.2945608  -12.72315226\n",
      "   -7.04184347]\n",
      " ..., \n",
      " [  2.59969259   2.23270344  -3.86710638 ...,   8.86413263   2.70410925\n",
      "    5.26077066]\n",
      " [ -2.06434074  -6.51808622   5.24417247 ...,   2.16217854  -8.76526739\n",
      "    7.5053199 ]\n",
      " [ -2.2613081    2.1515819   -0.62235491 ...,  -5.14328342 -13.46219914\n",
      "   -4.69903541]]\n",
      "[[  0.00000000e+00   0.00000000e+00   0.00000000e+00   0.00000000e+00\n",
      "    0.00000000e+00   0.00000000e+00   0.00000000e+00   0.00000000e+00\n",
      "    0.00000000e+00   0.00000000e+00   0.00000000e+00   0.00000000e+00\n",
      "    0.00000000e+00   0.00000000e+00   0.00000000e+00]\n",
      " [ -5.77192878e-03  -1.73619371e-02   9.85740003e-03  -1.84048382e-02\n",
      "    1.99513790e-02  -1.42232213e-02   1.09749979e-02  -8.50458120e-03\n",
      "    1.89535667e-02  -2.00303310e-02   1.39722270e-02  -8.73734257e-03\n",
      "   -5.71260055e-02   2.19374814e-02  -1.57656455e-02]\n",
      " [ -1.00696020e-01  -2.24200800e-01   4.48071690e-02  -1.23100765e-01\n",
      "    1.82042764e-01  -8.72415154e-02   6.17819566e-02  -5.49919656e-02\n",
      "    2.12755902e-01  -8.25529225e-02  -4.45382518e-02  -1.21328951e-01\n",
      "   -2.63822844e-01   1.33292578e-01  -6.65469554e-02]\n",
      " [ -2.29641867e-01  -1.37464667e-01   8.71833404e-04  -1.22041169e-01\n",
      "    2.08220187e-01   5.84089331e-02  -7.17565845e-02   3.63120681e-02\n",
      "    1.64351626e-01   2.07519908e-02   3.20636404e-03  -1.10118118e-01\n",
      "    1.24642536e-01  -1.79412849e-01   1.43104002e-01]\n",
      " [ -2.29629079e-01  -3.44686443e-02   4.71422113e-02   1.44693467e-01\n",
      "    4.63059807e-02   7.41524150e-03  -6.06356534e-02  -5.72724148e-02\n",
      "   -9.22560987e-02  -1.89172931e-01   2.94432272e-01   1.82407810e-01\n",
      "   -8.39617486e-02  -1.75555989e-01   3.81126209e-01]\n",
      " [ -1.11132408e-01  -9.72341798e-02   1.16667579e-01   2.68551096e-01\n",
      "    1.02219668e-01  -1.70751857e-01  -8.92874500e-02  -6.90141172e-02\n",
      "   -3.19884043e-01  -2.58880617e-01   3.25228506e-01   1.43564896e-02\n",
      "   -1.11927932e-01   2.33971700e-01   8.07584715e-02]\n",
      " [ -2.53850228e-02  -8.38661323e-03   6.29499204e-02   1.16106606e-01\n",
      "    7.21682736e-02  -9.40017765e-02  -5.63045722e-02   1.72780160e-02\n",
      "   -9.87873958e-02  -5.37227587e-02   1.66759633e-01  -1.74757303e-01\n",
      "   -9.87584737e-03   1.87397012e-01  -1.05936543e-01]\n",
      " [ -2.27321903e-03   2.28152694e-03   8.16433952e-03   1.66018946e-02\n",
      "    8.96277131e-03  -3.88925929e-03  -1.01703385e-02   1.22833352e-02\n",
      "   -6.72002558e-03   2.68640192e-03   2.58564750e-02  -4.85613004e-02\n",
      "    3.37151276e-03   1.62600863e-02  -2.06188068e-02]\n",
      " [ -1.15131258e-04  -3.22519902e-04   1.52191610e-04  -3.84251131e-04\n",
      "    7.40455696e-05  -1.13674504e-04   1.06739973e-04  -2.50175220e-04\n",
      "   -5.07846799e-04  -2.68204150e-04  -2.39878440e-04   1.53883443e-03\n",
      "   -1.24616736e-03  -7.90157560e-04   6.37575828e-04]\n",
      " [ -3.85780810e-02  -1.19627690e-01   1.91174589e-02  -7.82952433e-02\n",
      "    7.61589235e-02  -5.34764761e-02   6.49548191e-03  -1.73436737e-03\n",
      "    5.39731651e-02  -1.95110129e-02   3.07472748e-02   1.26869645e-01\n",
      "   -2.09804541e-01   1.81575956e-02  -2.74672837e-02]\n",
      " [ -2.01744314e-01  -2.45698693e-01  -6.81140823e-02  -7.74965809e-02\n",
      "    3.21106793e-01  -5.43228119e-02  -2.82212612e-02   2.15258005e-02\n",
      "    2.75392498e-02   5.06677342e-02  -9.39465003e-02   8.17203464e-02\n",
      "    6.56954101e-02   2.85215504e-02  -1.05389361e-01]\n",
      " [ -2.32849975e-01   1.46934320e-01  -2.70157334e-03  -5.44499073e-02\n",
      "    5.05491542e-02  -4.12433527e-03   5.61756167e-02   1.45931160e-01\n",
      "   -2.23609176e-02   7.60848951e-02   1.72996200e-01  -1.36535646e-01\n",
      "    2.17040157e-01  -1.20432471e-01  -8.71633252e-02]\n",
      " [ -2.00821003e-01  -4.83676918e-02   8.42083867e-02   1.18547672e-02\n",
      "   -1.39528864e-01   1.22238434e-01   2.53391236e-01  -3.38297792e-02\n",
      "    7.80888981e-02   5.11470207e-02   3.14473476e-01   2.31970289e-01\n",
      "   -8.96535650e-02  -1.91525321e-01  -2.77410042e-01]\n",
      " [ -1.59441471e-01  -2.18765265e-01   4.75889085e-02   2.89668917e-01\n",
      "    4.26257109e-02   2.04206981e-01   5.63005385e-02  -7.28108993e-02\n",
      "   -3.52718114e-01  -1.09238690e-01   1.02079279e-02   9.67337127e-02\n",
      "    5.28748792e-02  -5.64784412e-02   8.18306225e-04]\n",
      " [ -3.48630321e-02  -1.49123539e-02   5.96219458e-02   1.60049690e-01\n",
      "    4.70818569e-02  -3.52166341e-02  -4.71788480e-02   3.59908973e-02\n",
      "   -1.44358487e-01  -7.44498233e-02   5.65368430e-02  -2.58528405e-01\n",
      "    1.23071533e-03   1.18615098e-01  -1.11525361e-01]\n",
      " [ -1.87173744e-03   4.49594228e-03   3.53751778e-03   1.49968156e-02\n",
      "    2.18876208e-03  -8.99879408e-03  -4.71968806e-03   9.80451156e-03\n",
      "    3.78354859e-05   2.09047633e-03   1.45678011e-02  -4.08649267e-02\n",
      "   -5.93209331e-03  -2.03615185e-04  -1.23224105e-02]\n",
      " [ -5.09411428e-05  -4.96623497e-05   4.08226797e-05  -2.14475569e-04\n",
      "    1.07954332e-04  -1.79016380e-04   7.09563595e-05   6.21886184e-05\n",
      "   -2.22280499e-04   4.44146446e-04   4.55416791e-04   8.93853846e-04\n",
      "   -1.48028089e-04  -8.59288383e-04  -1.27472247e-05]\n",
      " [ -5.04003004e-02  -7.98076397e-02  -3.82449126e-02  -4.00940398e-02\n",
      "    1.27046774e-01  -1.01517627e-01   1.78905284e-02   5.22107004e-02\n",
      "   -6.60045533e-02   1.04585538e-01   1.30925737e-02   2.84152005e-01\n",
      "   -1.54291557e-01  -1.98399557e-02  -6.09317275e-02]\n",
      " [ -1.93121184e-01   8.24284086e-02  -2.05136640e-01   7.18887695e-03\n",
      "    2.35380531e-01  -2.31349528e-01   5.33196744e-02   9.39194907e-02\n",
      "   -1.99708876e-01   3.03881851e-01  -1.39112664e-01   1.40029045e-01\n",
      "    2.25757778e-01   1.93298233e-01  -1.26804464e-01]\n",
      " [ -1.37069729e-01   2.14703247e-01   4.28509870e-02  -6.56478272e-02\n",
      "   -2.66898013e-01  -1.55560481e-01   2.82373281e-01  -8.34004196e-02\n",
      "   -3.00264452e-02   1.25900331e-01   1.60454674e-01  -2.77042894e-01\n",
      "    8.38499186e-02   8.33722387e-02   4.52923033e-02]\n",
      " [ -1.39267090e-01  -1.73715467e-01   2.18789634e-01  -8.95045185e-02\n",
      "   -2.69858815e-01   1.23862912e-01   2.35911177e-01  -1.35707386e-01\n",
      "    1.69124966e-01   1.51366163e-01   4.60408832e-02   3.02274802e-01\n",
      "   -1.30876593e-02   1.32144145e-01  -1.22509388e-02]\n",
      " [ -1.52231979e-01  -1.64595520e-01   5.89698565e-04   3.17573144e-01\n",
      "   -4.22484565e-02   3.52637220e-01   6.35568223e-02   2.07498561e-02\n",
      "   -1.92532054e-01   1.66078074e-01  -3.03632689e-01  -2.58446133e-02\n",
      "    1.10133356e-02  -1.00466083e-01  -5.08301428e-02]\n",
      " [ -3.36776795e-02   2.86920117e-02  -2.61729828e-02   1.49260290e-01\n",
      "    2.44754389e-02   1.74506980e-02   1.21033114e-02   4.23883590e-02\n",
      "   -2.58201808e-02   1.48778307e-02  -5.57030920e-02  -2.49258522e-01\n",
      "   -1.06674936e-01  -6.58523792e-02  -7.07204251e-02]\n",
      " [ -8.92272390e-04   4.23977755e-03   2.83486749e-04   6.29956111e-03\n",
      "   -1.58094113e-03  -5.76091914e-03  -2.59202099e-03   1.44802815e-03\n",
      "    5.43394834e-03   1.70145986e-03  -2.04968754e-03  -1.49584317e-02\n",
      "   -8.68948053e-03  -1.05500840e-02  -3.54727806e-03]\n",
      " [ -2.07156398e-05   9.83814804e-05   5.64424881e-05  -5.11910589e-05\n",
      "    8.86462458e-05  -1.57950643e-04   4.65642133e-05  -1.99959934e-05\n",
      "   -3.95160489e-05   3.46137576e-04   1.59396058e-04   3.85127827e-04\n",
      "    7.89208121e-05  -3.93249716e-04   1.40829883e-05]\n",
      " [ -4.73996408e-02   6.41642953e-02  -7.79246525e-02   4.65649495e-02\n",
      "    1.01570305e-01  -1.15476728e-01   2.79259144e-02   4.10527650e-02\n",
      "   -4.42148872e-03   8.46939758e-02  -2.61928350e-02   2.40245731e-01\n",
      "   -8.56362273e-02  -2.50949515e-02   5.00927668e-02]\n",
      " [ -1.76195759e-01   2.53383256e-01  -1.93262959e-01   8.26847045e-02\n",
      "    1.28854631e-01  -3.24991854e-01   1.28555570e-02  -1.41947377e-01\n",
      "   -1.07954044e-01   2.65356176e-01  -7.05524914e-02   1.85594975e-01\n",
      "   -1.22787585e-01   6.71296192e-02  -2.01050274e-02]\n",
      " [ -1.73045076e-01  -3.73191914e-02   1.30368558e-01  -6.18389795e-02\n",
      "   -1.80496965e-01  -3.18906135e-01   3.14120329e-02  -4.70493095e-01\n",
      "   -8.33715592e-02   1.45056316e-01   1.46084458e-02  -2.68664106e-01\n",
      "    3.98151154e-02  -5.27209658e-02   7.60352341e-02]\n",
      " [ -1.94041747e-01  -2.11340062e-01   2.53475247e-01   1.70223299e-02\n",
      "   -2.04681771e-01  -3.38118740e-02  -1.15669944e-01  -1.47339771e-01\n",
      "    9.08737076e-02   2.03085964e-01  -1.77817960e-01   1.07910943e-01\n",
      "    1.90769900e-01   2.39140702e-01   1.94456468e-01]\n",
      " [ -1.45701647e-01  -4.36491852e-02  -5.18925708e-02   3.61228835e-01\n",
      "   -7.12602007e-02   1.65508537e-01  -7.47363529e-02   5.36186060e-02\n",
      "    1.47341153e-01   3.44059945e-01  -1.04398677e-01  -2.26375907e-01\n",
      "   -2.20586475e-01   3.77978830e-02  -8.50785357e-02]\n",
      " [ -4.34712062e-02   5.14149899e-02  -6.45398268e-02   1.49903232e-01\n",
      "    5.75271116e-02   9.75000430e-02   2.47750755e-02  -2.97788164e-02\n",
      "    1.15234104e-01   1.13538248e-01   3.05584434e-02  -1.63478171e-01\n",
      "   -2.29634273e-01  -1.53898686e-01  -1.41005237e-02]\n",
      " [ -4.19731452e-05   2.13533271e-04  -3.89131627e-05   2.19959839e-04\n",
      "   -5.74047153e-05  -1.75710978e-04   1.24578446e-05  -3.88297932e-05\n",
      "    2.53305921e-04   3.01674922e-04  -4.93709881e-05  -7.09848074e-04\n",
      "   -2.96602929e-04  -3.90344398e-04  -1.05450204e-04]\n",
      " [  0.00000000e+00   0.00000000e+00   0.00000000e+00   0.00000000e+00\n",
      "    0.00000000e+00   0.00000000e+00   0.00000000e+00   0.00000000e+00\n",
      "    0.00000000e+00   0.00000000e+00   0.00000000e+00   0.00000000e+00\n",
      "    0.00000000e+00   0.00000000e+00   0.00000000e+00]\n",
      " [ -4.47272192e-02   1.59937035e-01  -8.85767445e-02   5.68014004e-02\n",
      "    5.51179145e-02   3.73523006e-02   3.53745488e-02   8.32905030e-05\n",
      "    1.42183846e-01  -2.02603322e-02  -4.68290723e-02   1.23921847e-01\n",
      "   -9.66576661e-02   5.53662348e-02   1.46957185e-01]\n",
      " [ -1.48666338e-01   3.67953714e-01  -9.09942176e-02   4.09963686e-02\n",
      "    1.07555438e-01   6.89034183e-02  -1.20763951e-01  -2.61522936e-01\n",
      "    8.57408559e-02  -7.01593000e-02  -3.75100464e-02   5.88107174e-02\n",
      "   -2.49843854e-01  -1.17828808e-01  -1.14268713e-03]\n",
      " [ -1.77790283e-01   1.62544210e-01   2.63792449e-01  -1.34940464e-01\n",
      "    1.97160539e-02  -9.04724334e-03  -3.26321923e-01  -2.67886519e-01\n",
      "   -7.25541575e-02  -9.46257775e-02  -1.66937497e-01  -4.23761673e-02\n",
      "   -9.13858767e-02  -3.21875749e-01  -2.92515828e-01]\n",
      " [ -2.00740037e-01   8.33442616e-02   2.78708404e-01  -7.91006312e-03\n",
      "   -1.23583286e-01  -7.29608787e-02  -3.50533694e-01   1.88602955e-01\n",
      "    5.44084865e-02  -2.03439537e-01  -2.60402327e-01   1.13880547e-01\n",
      "    1.28909840e-01   5.97958056e-02  -4.80835589e-02]\n",
      " [ -1.68315005e-01   3.68311431e-02  -1.69580061e-01   2.67613904e-01\n",
      "   -1.51793280e-01  -1.57790609e-02  -2.97750539e-01   6.12052675e-02\n",
      "    4.01024022e-01  -9.89423409e-03   1.71096595e-01  -1.26034072e-02\n",
      "    8.68426031e-02   2.20200578e-01  -2.35836011e-02]\n",
      " [ -5.55463219e-02   2.16171980e-02  -1.28595956e-01   9.72662777e-02\n",
      "    1.32886974e-02   1.05727042e-01  -5.90452565e-02  -3.13006911e-02\n",
      "    1.75614634e-01   1.06524438e-01   1.69943476e-01   9.47909741e-03\n",
      "   -2.60085778e-02  -4.46333147e-02   9.13585895e-02]\n",
      " [  0.00000000e+00   0.00000000e+00   0.00000000e+00   0.00000000e+00\n",
      "    0.00000000e+00   0.00000000e+00   0.00000000e+00   0.00000000e+00\n",
      "    0.00000000e+00   0.00000000e+00   0.00000000e+00   0.00000000e+00\n",
      "    0.00000000e+00  -4.40810382e-39  -3.00926554e-36]\n",
      " [ -1.67504402e-04   1.28882059e-03  -2.87791411e-04   3.26939443e-04\n",
      "   -4.95899688e-04   4.02041697e-04   1.26241175e-03   3.32512943e-04\n",
      "    1.53554895e-03  -1.01074043e-03   3.20522163e-04  -7.86838225e-05\n",
      "   -1.69452006e-03   2.60367444e-03   2.41431880e-03]\n",
      " [ -3.03093051e-02   1.06896456e-01  -5.12953751e-02   2.57937981e-02\n",
      "    8.23369135e-03   9.76985451e-02   7.31127555e-02  -1.40483522e-02\n",
      "    9.16907894e-02  -8.63254097e-02  -2.55992858e-02   4.54723870e-02\n",
      "   -4.19557161e-02   1.97545107e-01   1.64283579e-01]\n",
      " [ -1.34877039e-01   3.02194117e-01  -1.36040092e-01  -1.12864584e-01\n",
      "    6.34787506e-02   3.90091098e-01   6.63281597e-02  -2.06677049e-01\n",
      "   -5.57129064e-02  -1.91146926e-01  -1.20842700e-01   6.23582549e-04\n",
      "    6.22329917e-02   2.23085732e-01   1.29167822e-01]\n",
      " [ -1.41021382e-01   2.46279160e-01   2.63655299e-01  -1.68103153e-01\n",
      "    6.43237522e-02   2.27967998e-01  -6.82688700e-02   6.62769056e-02\n",
      "   -8.05308910e-03   7.63429738e-02   1.20002743e-01   9.54672334e-02\n",
      "   -7.60184742e-02   1.71375844e-01  -1.66631036e-01]\n",
      " [ -1.48985416e-01   2.08233426e-01   2.98133936e-01   8.95447861e-02\n",
      "   -1.87453515e-02  -1.06740111e-01   1.27226331e-01   3.49371287e-01\n",
      "   -7.20283425e-03  -1.00361462e-01  -2.13873120e-01  -1.71139992e-02\n",
      "   -1.44994331e-01   8.28292508e-02   1.39966391e-01]\n",
      " [ -1.60831673e-01   1.15680852e-02  -2.45802507e-01   1.57571849e-01\n",
      "   -1.80178295e-01  -1.29313310e-01   2.55384873e-02   2.25698849e-03\n",
      "    1.45261460e-01  -3.57264726e-01  -7.45239284e-02   5.99995943e-02\n",
      "    1.93511754e-01   1.25843033e-01  -2.38288877e-01]\n",
      " [ -6.64759571e-02  -3.69936501e-02  -2.20327553e-01  -6.50425783e-02\n",
      "   -8.20138184e-02   4.33746183e-02  -2.11619102e-01  -3.48086586e-02\n",
      "    6.51820844e-02   4.34631873e-02   2.15477759e-01   2.40988202e-02\n",
      "    8.74900405e-02  -3.15142587e-02   7.97475596e-02]\n",
      " [ -5.51082114e-04   1.60995959e-03  -1.37358950e-03  -2.87640051e-03\n",
      "   -2.29950297e-03   6.32826691e-04  -6.50954540e-03  -1.11075314e-04\n",
      "   -3.85066271e-04   4.42415416e-03   5.63863025e-03  -6.12149427e-03\n",
      "    8.27486729e-04  -1.80702783e-03   5.00860817e-03]\n",
      " [ -1.37552339e-04   6.92869783e-04  -2.88805865e-04   1.38515923e-04\n",
      "   -3.96883048e-04   7.31601023e-04   1.67555141e-03  -1.23563168e-04\n",
      "    3.74730502e-04  -8.17524510e-04   1.66957102e-03  -1.12953423e-03\n",
      "   -7.00034560e-04   1.72697679e-03   1.24169245e-03]\n",
      " [ -1.36866964e-02  -8.44171416e-03  -1.12165748e-02  -1.77914626e-02\n",
      "    1.17450802e-02   2.38971737e-02   5.56736638e-02  -3.98467852e-02\n",
      "    1.56763259e-02  -4.59986688e-02  -1.41562697e-02  -4.39030499e-02\n",
      "   -2.70759181e-02   1.04308451e-01   4.03657818e-02]\n",
      " [ -1.47014114e-01  -5.68683443e-02  -1.61161328e-01  -2.25180091e-01\n",
      "    1.19161989e-01   2.49051004e-01   1.76556789e-01  -1.78766386e-01\n",
      "   -1.14654605e-01  -1.08633739e-01  -1.05820298e-01  -1.74352412e-01\n",
      "    2.90204467e-02   2.95832296e-01   3.33305741e-02]\n",
      " [ -1.86218828e-01   9.14527770e-02   1.12096313e-01  -1.62267725e-01\n",
      "    1.42419640e-01   1.89714346e-01   7.26492342e-04   2.02694163e-01\n",
      "   -7.08871133e-02   1.18596161e-01   3.25413673e-01  -6.36621273e-02\n",
      "    1.94168237e-01   2.12860850e-02  -1.59472127e-01]\n",
      " [ -1.84080924e-01   1.05927312e-01   9.09870317e-02   6.35642969e-02\n",
      "   -1.80451008e-02  -1.36501416e-01   4.00033295e-01   2.79050189e-01\n",
      "    1.20356250e-01  -1.45658598e-01  -3.92528710e-02  -6.90497965e-02\n",
      "   -8.66047120e-02  -9.99834374e-02   3.59532456e-02]\n",
      " [ -1.71466725e-01  -1.38629203e-01  -2.94200506e-01  -7.06599788e-02\n",
      "   -2.11780521e-01  -5.64368625e-02   1.16819458e-01   2.21368090e-02\n",
      "   -2.65240398e-02  -2.64118496e-01  -8.65203785e-02   1.81867944e-02\n",
      "   -9.98144737e-03  -1.22710692e-01  -3.78183327e-01]\n",
      " [ -7.17104866e-02  -6.35930658e-02  -1.52733000e-01  -2.18765640e-01\n",
      "   -1.40208026e-01   2.34262258e-02  -2.63227376e-01   1.62648128e-01\n",
      "   -6.81932867e-02   7.71286064e-02   1.21103386e-01  -5.26913957e-02\n",
      "   -9.50194594e-02   5.11665255e-02   3.53300758e-03]\n",
      " [ -3.91559838e-03   9.32255312e-04  -7.65996455e-04  -2.18361173e-02\n",
      "   -1.64693540e-02  -6.39296744e-03  -1.03365224e-02   4.15025206e-02\n",
      "   -6.64251333e-03   1.65445151e-02   3.45756854e-03  -3.46504485e-02\n",
      "   -1.92267529e-02  -6.08027450e-03   1.33458679e-02]\n",
      " [ -1.06007935e-05   9.43483882e-06   3.31960238e-05   1.42483191e-05\n",
      "   -1.10952664e-05   9.21939093e-05   1.11258145e-04   6.13700617e-05\n",
      "   -1.95453466e-04  -2.71853035e-05   7.43777195e-05   2.83447821e-05\n",
      "    5.22526796e-05   1.76488237e-04  -2.47067769e-05]\n",
      " [ -5.29455366e-03  -1.41274167e-02   9.85798597e-03  -1.76706379e-02\n",
      "    2.09444566e-02  -1.26390298e-02   1.32727598e-02  -7.28384222e-03\n",
      "    1.63751763e-02  -2.06138667e-02   1.10018958e-02  -1.47952306e-02\n",
      "   -4.92616181e-02   3.18770176e-02  -2.07145117e-02]\n",
      " [ -1.07432660e-01  -2.36509398e-01   6.58952515e-02  -1.19871997e-01\n",
      "    2.08080374e-01  -7.53753930e-02   4.59848999e-02  -8.76460005e-02\n",
      "    2.28678138e-01  -1.14085493e-01   1.61074551e-04  -1.16460283e-01\n",
      "   -2.77991563e-01   1.69876706e-01  -6.90345043e-02]\n",
      " [ -2.34430118e-01  -1.42724209e-01  -2.55591556e-02  -8.77383165e-02\n",
      "    2.21473680e-01  -3.02759106e-02  -3.50940754e-02   9.71662143e-02\n",
      "    1.12197210e-01  -2.22741634e-02  -4.57997806e-02  -1.64222313e-01\n",
      "    2.14020350e-01  -2.27578313e-01   2.45755373e-01]\n",
      " [ -2.29300708e-01  -1.04634966e-02  -2.03622356e-01  -1.24444310e-01\n",
      "   -2.11895541e-01  -5.82600728e-02   6.78597096e-02   7.11951367e-02\n",
      "   -8.85583007e-02  -7.89502804e-02  -1.17116256e-01   4.78121347e-03\n",
      "   -6.36782378e-02  -2.21895219e-01   3.13772056e-01]\n",
      " [ -1.30885120e-01  -9.01286131e-02  -1.83210572e-01  -2.23848818e-01\n",
      "   -3.04465539e-01   3.81317892e-02  -1.71796835e-01   1.43858927e-01\n",
      "   -2.91136538e-01   4.13846735e-02  -9.85176134e-03  -1.10586028e-02\n",
      "   -2.96302893e-01   7.71481507e-02   1.98226832e-02]\n",
      " [ -3.92343661e-02  -3.68410903e-02  -2.14953332e-02  -1.66309866e-01\n",
      "   -1.02221506e-01   2.14569983e-02  -9.82756728e-02   2.50105290e-01\n",
      "   -1.31436704e-01   1.10726379e-01   8.47448184e-03  -9.40068545e-02\n",
      "   -2.65994690e-01   1.10389726e-01   8.76263880e-02]\n",
      " [ -6.76004954e-03  -1.15150706e-02   6.40453868e-03  -3.49806282e-02\n",
      "   -2.55438818e-02  -2.09921777e-02   8.05902428e-03   1.09451727e-01\n",
      "   -7.84179381e-03   3.07986761e-02  -2.81547364e-02  -5.86491272e-02\n",
      "   -5.82076739e-02  -4.90860622e-03   3.87436067e-02]]\n"
     ]
    }
   ],
   "source": [
    "print(Z)\n",
    "print(U_reduced)"
   ]
  },
  {
   "cell_type": "markdown",
   "metadata": {
    "deletable": true,
    "editable": true
   },
   "source": [
    "<h1 align=\"center\"><h2 align=\"center\">Практическое задание 2 (40%) </h2> </h1>"
   ]
  },
  {
   "cell_type": "markdown",
   "metadata": {
    "deletable": true,
    "editable": true
   },
   "source": [
    "<h2 align=\"left\">Изучение алгоритмов кластеризации на разных выборках</h2>\n",
    "\n",
    "### Кластеризация цифр с помощью dbscan\n",
    "На данных из sklearn.datasets.load_digits примените алгоритмы кластеризации (знания о метках классов при кластеризации использовать нельзя):\n",
    " - <a href='http://scikit-learn.org/stable/modules/generated/sklearn.cluster.DBSCAN.html#sklearn.cluster.DBSCAN'>dbscan </a> \n",
    " запускайте при различных параметрах eps и minsamples, для всех экспериментов можете выбрать одну метрику (вспомните семинар про  метрические алгоритмы);\n",
    " - Используя метки классов цифр, оцените качество различных кластеризаций при помощи Adjusted Mutual Information и Adjusted Rand Index. \n",
    " - визуалируйте изображения тех цифр, которые соответствуют core_points;\n",
    " - визуалируйте изображения тех цифр, которые соответствуют выбросам;\n",
    " - сделайте выводы и применимости алгоритмов.\n",
    "\n",
    "### Уменьшение палитры изображения\n",
    " - для <a href=\"https://thumbs.dreamstime.com/x/two-lorikeet-birds-2293918.jpg\"> картинки </a> \n",
    "нужно уменьшить число цветов в палитре; для этого нужно выделить кластеры в пространстве RGB, объекты соответствуют пикселам изображения; после выделения кластеров,\n",
    "все пикселы, отнесенные в один кластер, заполняются одним цветом; этот цвет может быть центроидом соответствующего кластера, медианным цветом по кластеру. \n",
    " - Попробуйте различные алгоритмы кластеризации:\n",
    "        -- KMeans\n",
    "        -- MeanShift\n",
    "        -- AgglomerativeClustering\n",
    "   Рассмотрите число кластеров K = 2, 3, 10, 20\n",
    " - Для различных кластеризаций оцените и сравните потери от уменьшения цветов при помощи\n",
    "метрики <a href=\"http://scikit-image.org/docs/dev/api/skimage.measure.html\"> SSIM</a>. Какой способ оказался лучшим?"
   ]
  },
  {
   "cell_type": "markdown",
   "metadata": {
    "deletable": true,
    "editable": true
   },
   "source": [
    "# Кластеризация цифр с помощью dbscan"
   ]
  },
  {
   "cell_type": "code",
   "execution_count": 1,
   "metadata": {
    "collapsed": false,
    "deletable": true,
    "editable": true
   },
   "outputs": [],
   "source": [
    "from sklearn.datasets import load_digits\n",
    "from sklearn.cluster import DBSCAN\n",
    "import pylab as plt\n",
    "import numpy as np\n",
    "from matplotlib import pyplot\n",
    "from sklearn.metrics.cluster import adjusted_mutual_info_score\n",
    "from sklearn.metrics.cluster import adjusted_rand_score\n",
    "from sklearn.model_selection import train_test_split\n",
    "from sklearn.decomposition import PCA\n",
    "from sklearn.manifold import TSNE\n",
    "from itertools import groupby"
   ]
  },
  {
   "cell_type": "code",
   "execution_count": 2,
   "metadata": {
    "collapsed": false,
    "deletable": true,
    "editable": true
   },
   "outputs": [],
   "source": [
    "X, y = load_digits(return_X_y=True)\n",
    "X_train, X_test, Y_train, Y_test = train_test_split(X, y, train_size=0.7)"
   ]
  },
  {
   "cell_type": "code",
   "execution_count": 18,
   "metadata": {
    "collapsed": false,
    "deletable": true,
    "editable": true
   },
   "outputs": [
    {
     "data": {
      "image/png": "[encoded data removed]",
      "text/plain": [
       "<matplotlib.figure.Figure at 0x7fb30d120cc0>"
      ]
     },
     "metadata": {},
     "output_type": "display_data"
    }
   ],
   "source": [
    "def plot_image(image_id, dataset=X_train, im_size=28):\n",
    "    plt.imshow(255-dataset[image_id,:].reshape(im_size, im_size))\n",
    "    \n",
    "def plot_grid(image_ids, nrows, ncols, dataset=X_train, im_size=8):\n",
    "    fig = pyplot.gcf()\n",
    "    fig.set_size_inches(17.5,5)\n",
    "    for pylab_index, example_id in enumerate(image_ids):\n",
    "        plt.subplot(nrows, ncols, pylab_index + 1)\n",
    "        plot_image(example_id, dataset, im_size)\n",
    "        plt.axis('off')\n",
    "    plt.show()\n",
    "    \n",
    "\n",
    "plot_grid(range(10), nrows=1, ncols=10, dataset=X_train)"
   ]
  },
  {
   "cell_type": "code",
   "execution_count": 17,
   "metadata": {
    "collapsed": false
   },
   "outputs": [
    {
     "name": "stdout",
     "output_type": "stream",
     "text": [
      "1\n",
      "AMI_score =  -9.49390289076e-17\n",
      "ARS_score =  0.0\n"
     ]
    }
   ],
   "source": [
    "clusters = DBSCAN(eps=2.5, min_samples=150).fit(X_train)\n",
    "labels = clusters.labels_\n",
    "print(len(set(labels)))\n",
    "#  оценим качество\n",
    "def labels_scores(labels_true, labels_pred):\n",
    "    AMI_score = adjusted_mutual_info_score(labels_true, labels_pred)\n",
    "    print(\"AMI_score = \", AMI_score)\n",
    "    ARS_score = adjusted_rand_score(labels_true, labels_pred)\n",
    "    print(\"ARS_score = \", ARS_score)\n",
    "labels_scores(Y_train, labels)"
   ]
  },
  {
   "cell_type": "code",
   "execution_count": 21,
   "metadata": {
    "collapsed": false,
    "deletable": true,
    "editable": true
   },
   "outputs": [
    {
     "name": "stdout",
     "output_type": "stream",
     "text": [
      "0.567454786397\n"
     ]
    }
   ],
   "source": [
    "scores = []\n",
    "clusters_res = []\n",
    "#  получили значения eps и min_samples\n",
    "for eps in range(17, 30, 1):\n",
    "    for min_sample in range(1, 10, 1):\n",
    "        clusters =  DBSCAN(eps=eps, min_samples=min_sample).fit(X_train)\n",
    "        clusters_res.append((eps, min_sample))\n",
    "        scores.append(adjusted_rand_score(Y_train, clusters.labels_))"
   ]
  },
  {
   "cell_type": "code",
   "execution_count": 42,
   "metadata": {
    "collapsed": false
   },
   "outputs": [
    {
     "name": "stdout",
     "output_type": "stream",
     "text": [
      "eps = 22\n",
      "min_samples = 1\n",
      "AMI_score =  0.583615785621\n",
      "ARS_score =  0.567454786397\n"
     ]
    }
   ],
   "source": [
    "best =  clusters_res[scores.index(max(scores))]\n",
    "eps = best[0]\n",
    "min_samples = best[1]\n",
    "print(\"eps = \" + str(eps))\n",
    "print(\"min_samples = \" + str(min_samples))\n",
    "clusters = DBSCAN(eps=eps, min_samples=min_samples).fit(X_train)\n",
    "labels_scores(Y_train, clusters.labels_)"
   ]
  },
  {
   "cell_type": "code",
   "execution_count": 44,
   "metadata": {
    "collapsed": false,
    "deletable": true,
    "editable": true
   },
   "outputs": [
    {
     "data": {
      "image/png": "[encoded data removed]",
      "text/plain": [
       "<matplotlib.figure.Figure at 0x7fa5f3f91470>"
      ]
     },
     "metadata": {},
     "output_type": "display_data"
    }
   ],
   "source": [
    "#  нарисуем core_points\n",
    "\n",
    "plot_grid(dataset=X_train[clusters.core_sample_indices_], image_ids=range(20), nrows=2, ncols=10)"
   ]
  },
  {
   "cell_type": "code",
   "execution_count": 51,
   "metadata": {
    "collapsed": false
   },
   "outputs": [
    {
     "name": "stdout",
     "output_type": "stream",
     "text": [
      "[12  1  2  2 19  3 10  2 20 21  3 22 12  1  7  1  1  1  2 12  1 23]\n",
      "[]\n"
     ]
    },
    {
     "ename": "IndexError",
     "evalue": "index 0 is out of bounds for axis 0 with size 0",
     "output_type": "error",
     "traceback": [
      "\u001b[0;31m---------------------------------------------------------------------------\u001b[0m",
      "\u001b[0;31mIndexError\u001b[0m                                Traceback (most recent call last)",
      "\u001b[0;32m<ipython-input-51-6cdd61e6f055>\u001b[0m in \u001b[0;36m<module>\u001b[0;34m()\u001b[0m\n\u001b[1;32m      9\u001b[0m \u001b[0mprint\u001b[0m\u001b[0;34m(\u001b[0m\u001b[0mbad_labels\u001b[0m\u001b[0;34m)\u001b[0m\u001b[0;34m\u001b[0m\u001b[0m\n\u001b[1;32m     10\u001b[0m plot_grid(dataset=X_train[(clusters.labels_ == -1)],\n\u001b[0;32m---> 11\u001b[0;31m           image_ids=range(20), nrows=2, ncols=10)\n\u001b[0m",
      "\u001b[0;32m<ipython-input-7-82e6e381e74d>\u001b[0m in \u001b[0;36mplot_grid\u001b[0;34m(image_ids, nrows, ncols, dataset, im_size)\u001b[0m\n\u001b[1;32m      7\u001b[0m     \u001b[0;32mfor\u001b[0m \u001b[0mpylab_index\u001b[0m\u001b[0;34m,\u001b[0m \u001b[0mexample_id\u001b[0m \u001b[0;32min\u001b[0m \u001b[0menumerate\u001b[0m\u001b[0;34m(\u001b[0m\u001b[0mimage_ids\u001b[0m\u001b[0;34m)\u001b[0m\u001b[0;34m:\u001b[0m\u001b[0;34m\u001b[0m\u001b[0m\n\u001b[1;32m      8\u001b[0m         \u001b[0mplt\u001b[0m\u001b[0;34m.\u001b[0m\u001b[0msubplot\u001b[0m\u001b[0;34m(\u001b[0m\u001b[0mnrows\u001b[0m\u001b[0;34m,\u001b[0m \u001b[0mncols\u001b[0m\u001b[0;34m,\u001b[0m \u001b[0mpylab_index\u001b[0m \u001b[0;34m+\u001b[0m \u001b[0;36m1\u001b[0m\u001b[0;34m)\u001b[0m\u001b[0;34m\u001b[0m\u001b[0m\n\u001b[0;32m----> 9\u001b[0;31m         \u001b[0mplot_image\u001b[0m\u001b[0;34m(\u001b[0m\u001b[0mexample_id\u001b[0m\u001b[0;34m,\u001b[0m \u001b[0mdataset\u001b[0m\u001b[0;34m,\u001b[0m \u001b[0mim_size\u001b[0m\u001b[0;34m)\u001b[0m\u001b[0;34m\u001b[0m\u001b[0m\n\u001b[0m\u001b[1;32m     10\u001b[0m         \u001b[0mplt\u001b[0m\u001b[0;34m.\u001b[0m\u001b[0maxis\u001b[0m\u001b[0;34m(\u001b[0m\u001b[0;34m'off'\u001b[0m\u001b[0;34m)\u001b[0m\u001b[0;34m\u001b[0m\u001b[0m\n\u001b[1;32m     11\u001b[0m     \u001b[0mplt\u001b[0m\u001b[0;34m.\u001b[0m\u001b[0mshow\u001b[0m\u001b[0;34m(\u001b[0m\u001b[0;34m)\u001b[0m\u001b[0;34m\u001b[0m\u001b[0m\n",
      "\u001b[0;32m<ipython-input-7-82e6e381e74d>\u001b[0m in \u001b[0;36mplot_image\u001b[0;34m(image_id, dataset, im_size)\u001b[0m\n\u001b[1;32m      1\u001b[0m \u001b[0;32mdef\u001b[0m \u001b[0mplot_image\u001b[0m\u001b[0;34m(\u001b[0m\u001b[0mimage_id\u001b[0m\u001b[0;34m,\u001b[0m \u001b[0mdataset\u001b[0m\u001b[0;34m=\u001b[0m\u001b[0mX_train\u001b[0m\u001b[0;34m,\u001b[0m \u001b[0mim_size\u001b[0m\u001b[0;34m=\u001b[0m\u001b[0;36m28\u001b[0m\u001b[0;34m)\u001b[0m\u001b[0;34m:\u001b[0m\u001b[0;34m\u001b[0m\u001b[0m\n\u001b[0;32m----> 2\u001b[0;31m     \u001b[0mplt\u001b[0m\u001b[0;34m.\u001b[0m\u001b[0mimshow\u001b[0m\u001b[0;34m(\u001b[0m\u001b[0;36m255\u001b[0m\u001b[0;34m-\u001b[0m\u001b[0mdataset\u001b[0m\u001b[0;34m[\u001b[0m\u001b[0mimage_id\u001b[0m\u001b[0;34m,\u001b[0m\u001b[0;34m:\u001b[0m\u001b[0;34m]\u001b[0m\u001b[0;34m.\u001b[0m\u001b[0mreshape\u001b[0m\u001b[0;34m(\u001b[0m\u001b[0mim_size\u001b[0m\u001b[0;34m,\u001b[0m \u001b[0mim_size\u001b[0m\u001b[0;34m)\u001b[0m\u001b[0;34m)\u001b[0m\u001b[0;34m\u001b[0m\u001b[0m\n\u001b[0m\u001b[1;32m      3\u001b[0m \u001b[0;34m\u001b[0m\u001b[0m\n\u001b[1;32m      4\u001b[0m \u001b[0;32mdef\u001b[0m \u001b[0mplot_grid\u001b[0m\u001b[0;34m(\u001b[0m\u001b[0mimage_ids\u001b[0m\u001b[0;34m,\u001b[0m \u001b[0mnrows\u001b[0m\u001b[0;34m,\u001b[0m \u001b[0mncols\u001b[0m\u001b[0;34m,\u001b[0m \u001b[0mdataset\u001b[0m\u001b[0;34m=\u001b[0m\u001b[0mX_train\u001b[0m\u001b[0;34m,\u001b[0m \u001b[0mim_size\u001b[0m\u001b[0;34m=\u001b[0m\u001b[0;36m8\u001b[0m\u001b[0;34m)\u001b[0m\u001b[0;34m:\u001b[0m\u001b[0;34m\u001b[0m\u001b[0m\n\u001b[1;32m      5\u001b[0m     \u001b[0mfig\u001b[0m \u001b[0;34m=\u001b[0m \u001b[0mpyplot\u001b[0m\u001b[0;34m.\u001b[0m\u001b[0mgcf\u001b[0m\u001b[0;34m(\u001b[0m\u001b[0;34m)\u001b[0m\u001b[0;34m\u001b[0m\u001b[0m\n",
      "\u001b[0;31mIndexError\u001b[0m: index 0 is out of bounds for axis 0 with size 0"
     ]
    }
   ],
   "source": [
    "# нарисуем выбросы\n",
    "bad_labels = []\n",
    "index = 0\n",
    "for i in clusters.labels_:\n",
    "    if i == -1:\n",
    "        bad_labels.append(index)\n",
    "        index += 1\n",
    "print(bad_labels)\n",
    "plot_grid(dataset=X_train[(clusters.labels_ == -1)],\n",
    "          image_ids=range(20), nrows=2, ncols=10)"
   ]
  },
  {
   "cell_type": "code",
   "execution_count": null,
   "metadata": {
    "collapsed": false
   },
   "outputs": [],
   "source": []
  },
  {
   "cell_type": "markdown",
   "metadata": {
    "deletable": true,
    "editable": true
   },
   "source": [
    "# Уменьшение палитры изображения"
   ]
  },
  {
   "cell_type": "code",
   "execution_count": 38,
   "metadata": {
    "collapsed": false,
    "deletable": true,
    "editable": true
   },
   "outputs": [],
   "source": [
    "from PIL import Image\n",
    "from sklearn.cluster import KMeans"
   ]
  },
  {
   "cell_type": "code",
   "execution_count": 39,
   "metadata": {
    "collapsed": false,
    "deletable": true,
    "editable": true
   },
   "outputs": [],
   "source": [
    "image = Image.open(\"two-lorikeet-birds-2293918.jpg\")\n",
    "pix = image.load() "
   ]
  },
  {
   "cell_type": "code",
   "execution_count": 55,
   "metadata": {
    "collapsed": false,
    "deletable": true,
    "editable": true
   },
   "outputs": [],
   "source": [
    "model = KMeans(n_clusters=3, random_state=1)"
   ]
  },
  {
   "cell_type": "code",
   "execution_count": null,
   "metadata": {
    "collapsed": true,
    "deletable": true,
    "editable": true
   },
   "outputs": [],
   "source": []
  },
  {
   "cell_type": "code",
   "execution_count": null,
   "metadata": {
    "collapsed": true,
    "deletable": true,
    "editable": true
   },
   "outputs": [],
   "source": []
  }
 ],
 "metadata": {
  "anaconda-cloud": {},
  "kernelspec": {
   "display_name": "Python 3",
   "language": "python",
   "name": "python3"
  },
  "language_info": {
   "codemirror_mode": {
    "name": "ipython",
    "version": 3
   },
   "file_extension": ".py",
   "mimetype": "text/x-python",
   "name": "python",
   "nbconvert_exporter": "python",
   "pygments_lexer": "ipython3",
   "version": "3.5.2+"
  }
 },
 "nbformat": 4,
 "nbformat_minor": 0
}
