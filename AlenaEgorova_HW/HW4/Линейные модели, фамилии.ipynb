{
 "cells": [
  {
   "cell_type": "code",
   "execution_count": 11,
   "metadata": {
    "collapsed": true,
    "deletable": true,
    "editable": true
   },
   "outputs": [],
   "source": [
    "import numpy as np\n",
    "import pandas as pd\n",
    "import sklearn\n",
    "from sklearn.feature_extraction.text import CountVectorizer\n",
    "from sklearn.linear_model import LogisticRegression\n",
    "from sklearn.metrics import roc_auc_score"
   ]
  },
  {
   "cell_type": "code",
   "execution_count": 12,
   "metadata": {
    "collapsed": false,
    "deletable": true,
    "editable": true
   },
   "outputs": [],
   "source": [
    "train = pd.read_csv('linear_train.csv', names=['Last Name', 'Label'])\n",
    "test = pd.read_csv('linear_test.csv', names=['Last Name'])\n",
    "ans_example = pd.read_csv('linear_ans_example.csv')"
   ]
  },
  {
   "cell_type": "code",
   "execution_count": 17,
   "metadata": {
    "collapsed": false,
    "deletable": true,
    "editable": true
   },
   "outputs": [],
   "source": [
    "#  Создадим новые признаки - n-граммы\n",
    "#  Кроме этих признаков, у нас больше ничего не будет\n",
    "#  Для этого создадим CountVectorizer, обучим его на словах из train\n",
    "vect = CountVectorizer(ngram_range=(1, 7), analyzer='char_wb', lowercase=False)\n",
    "fitted = vect.fit(train['Last Name'])\n",
    "train_n = fitted.transform(train['Last Name']) \n",
    "test_n = fitted.transform(test['Last Name'])"
   ]
  },
  {
   "cell_type": "code",
   "execution_count": 14,
   "metadata": {
    "collapsed": false,
    "deletable": true,
    "editable": true
   },
   "outputs": [],
   "source": [
    "#  Далее используем логистическую регрессию\n",
    "lg_regr = LogisticRegression(random_state=12, solver='lbfgs', warm_start=True);\n",
    "lg_regr.fit(train_n, train['Label'])\n",
    "prediction = lg2.predict_proba(test_n)"
   ]
  },
  {
   "cell_type": "code",
   "execution_count": 15,
   "metadata": {
    "collapsed": false,
    "deletable": true,
    "editable": true
   },
   "outputs": [],
   "source": [
    "with open('output.txt', 'w') as file_out:\n",
    "    file_out.write('Id,Answer\\n')\n",
    "    i = 0\n",
    "    for item in prediction[:, 1]:\n",
    "        file_out.write(str(i) + ',' + str(item) + '\\n')\n",
    "        i += 1"
   ]
  }
 ],
 "metadata": {
  "kernelspec": {
   "display_name": "Python 3",
   "language": "python",
   "name": "python3"
  },
  "language_info": {
   "codemirror_mode": {
    "name": "ipython",
    "version": 3
   },
   "file_extension": ".py",
   "mimetype": "text/x-python",
   "name": "python",
   "nbconvert_exporter": "python",
   "pygments_lexer": "ipython3",
   "version": "3.5.2+"
  }
 },
 "nbformat": 4,
 "nbformat_minor": 2
}
